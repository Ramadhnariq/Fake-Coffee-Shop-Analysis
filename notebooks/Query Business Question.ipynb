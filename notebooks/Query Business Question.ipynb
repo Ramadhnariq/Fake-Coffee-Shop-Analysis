{
 "cells": [
  {
   "cell_type": "code",
   "execution_count": 1,
   "id": "646529d0-da5a-4c47-a735-567994354079",
   "metadata": {},
   "outputs": [
    {
     "name": "stderr",
     "output_type": "stream",
     "text": [
      "25/08/08 01:18:32 WARN SparkSession: Using an existing Spark session; only runtime SQL configurations will take effect.\n"
     ]
    },
    {
     "data": {
      "text/html": [
       "<table>\n",
       "    <thead>\n",
       "        <tr>\n",
       "            <th>namespace</th>\n",
       "        </tr>\n",
       "    </thead>\n",
       "    <tbody>\n",
       "        <tr>\n",
       "            <td>coffeeshop</td>\n",
       "        </tr>\n",
       "    </tbody>\n",
       "</table>"
      ],
      "text/plain": [
       "+------------+\n",
       "|  namespace |\n",
       "+------------+\n",
       "| coffeeshop |\n",
       "+------------+"
      ]
     },
     "execution_count": 1,
     "metadata": {},
     "output_type": "execute_result"
    }
   ],
   "source": [
    "%%sql\n",
    "SHOW Databases"
   ]
  },
  {
   "cell_type": "code",
   "execution_count": 2,
   "id": "2c01ef0c-a8b8-4a3a-873f-8725228961c2",
   "metadata": {},
   "outputs": [
    {
     "data": {
      "text/html": [
       "<table>\n",
       "    <thead>\n",
       "        <tr>\n",
       "        </tr>\n",
       "    </thead>\n",
       "    <tbody>\n",
       "    </tbody>\n",
       "</table>"
      ],
      "text/plain": [
       "++\n",
       "||\n",
       "++\n",
       "++"
      ]
     },
     "execution_count": 2,
     "metadata": {},
     "output_type": "execute_result"
    }
   ],
   "source": [
    "%%sql\n",
    "use coffeeshop"
   ]
  },
  {
   "cell_type": "markdown",
   "id": "dc316292-9145-4019-9a57-fa8ee1e9cee8",
   "metadata": {},
   "source": [
    "## Cek Semua Database"
   ]
  },
  {
   "cell_type": "code",
   "execution_count": 3,
   "id": "b47932ad-0032-495b-8780-3da22859ee21",
   "metadata": {},
   "outputs": [
    {
     "data": {
      "text/html": [
       "<table>\n",
       "    <thead>\n",
       "        <tr>\n",
       "            <th>namespace</th>\n",
       "            <th>tableName</th>\n",
       "            <th>isTemporary</th>\n",
       "        </tr>\n",
       "    </thead>\n",
       "    <tbody>\n",
       "        <tr>\n",
       "            <td>coffeeshop</td>\n",
       "            <td>categories</td>\n",
       "            <td>False</td>\n",
       "        </tr>\n",
       "        <tr>\n",
       "            <td>coffeeshop</td>\n",
       "            <td>products</td>\n",
       "            <td>False</td>\n",
       "        </tr>\n",
       "        <tr>\n",
       "            <td>coffeeshop</td>\n",
       "            <td>stores</td>\n",
       "            <td>False</td>\n",
       "        </tr>\n",
       "        <tr>\n",
       "            <td>coffeeshop</td>\n",
       "            <td>transactions</td>\n",
       "            <td>False</td>\n",
       "        </tr>\n",
       "    </tbody>\n",
       "</table>"
      ],
      "text/plain": [
       "+------------+--------------+-------------+\n",
       "|  namespace |    tableName | isTemporary |\n",
       "+------------+--------------+-------------+\n",
       "| coffeeshop |   categories |       False |\n",
       "| coffeeshop |     products |       False |\n",
       "| coffeeshop |       stores |       False |\n",
       "| coffeeshop | transactions |       False |\n",
       "+------------+--------------+-------------+"
      ]
     },
     "execution_count": 3,
     "metadata": {},
     "output_type": "execute_result"
    }
   ],
   "source": [
    "%%sql\n",
    "Show tables"
   ]
  },
  {
   "cell_type": "code",
   "execution_count": 4,
   "id": "5461ea71-6813-416d-8093-46a76912df7a",
   "metadata": {},
   "outputs": [
    {
     "name": "stderr",
     "output_type": "stream",
     "text": [
      "                                                                                "
     ]
    },
    {
     "data": {
      "text/html": [
       "<table>\n",
       "    <thead>\n",
       "        <tr>\n",
       "            <th>category_id</th>\n",
       "            <th>category_name</th>\n",
       "        </tr>\n",
       "    </thead>\n",
       "    <tbody>\n",
       "        <tr>\n",
       "            <td>1</td>\n",
       "            <td>Coffee</td>\n",
       "        </tr>\n",
       "        <tr>\n",
       "            <td>2</td>\n",
       "            <td>Non-Coffee</td>\n",
       "        </tr>\n",
       "        <tr>\n",
       "            <td>3</td>\n",
       "            <td>Snacks</td>\n",
       "        </tr>\n",
       "    </tbody>\n",
       "</table>"
      ],
      "text/plain": [
       "+-------------+---------------+\n",
       "| category_id | category_name |\n",
       "+-------------+---------------+\n",
       "|           1 |        Coffee |\n",
       "|           2 |    Non-Coffee |\n",
       "|           3 |        Snacks |\n",
       "+-------------+---------------+"
      ]
     },
     "execution_count": 4,
     "metadata": {},
     "output_type": "execute_result"
    }
   ],
   "source": [
    "%%sql\n",
    "\n",
    "select * from categories"
   ]
  },
  {
   "cell_type": "code",
   "execution_count": 5,
   "id": "5ae242b3-bca8-4bb9-baf8-8c16ac75167d",
   "metadata": {},
   "outputs": [
    {
     "data": {
      "text/html": [
       "<table>\n",
       "    <thead>\n",
       "        <tr>\n",
       "            <th>product_id</th>\n",
       "            <th>product_name</th>\n",
       "            <th>category_id</th>\n",
       "            <th>unit_price</th>\n",
       "        </tr>\n",
       "    </thead>\n",
       "    <tbody>\n",
       "        <tr>\n",
       "            <td>101</td>\n",
       "            <td>Kopi Telur</td>\n",
       "            <td>1</td>\n",
       "            <td>15000</td>\n",
       "        </tr>\n",
       "        <tr>\n",
       "            <td>102</td>\n",
       "            <td>Kopi Kelaga Khas Vietnam</td>\n",
       "            <td>1</td>\n",
       "            <td>17000</td>\n",
       "        </tr>\n",
       "        <tr>\n",
       "            <td>103</td>\n",
       "            <td>Kopi Vietnam Drip</td>\n",
       "            <td>1</td>\n",
       "            <td>15000</td>\n",
       "        </tr>\n",
       "        <tr>\n",
       "            <td>104</td>\n",
       "            <td>Kopi Butter</td>\n",
       "            <td>1</td>\n",
       "            <td>15000</td>\n",
       "        </tr>\n",
       "        <tr>\n",
       "            <td>105</td>\n",
       "            <td>Kopi Susu Kampung</td>\n",
       "            <td>1</td>\n",
       "            <td>10000</td>\n",
       "        </tr>\n",
       "        <tr>\n",
       "            <td>106</td>\n",
       "            <td>Kopi Coklat</td>\n",
       "            <td>1</td>\n",
       "            <td>17000</td>\n",
       "        </tr>\n",
       "        <tr>\n",
       "            <td>107</td>\n",
       "            <td>Es Kopi Susu</td>\n",
       "            <td>1</td>\n",
       "            <td>13000</td>\n",
       "        </tr>\n",
       "        <tr>\n",
       "            <td>108</td>\n",
       "            <td>Es Kopi Hitam</td>\n",
       "            <td>1</td>\n",
       "            <td>9000</td>\n",
       "        </tr>\n",
       "        <tr>\n",
       "            <td>109</td>\n",
       "            <td>Es Kopi Hitam Pake Lemon</td>\n",
       "            <td>1</td>\n",
       "            <td>12000</td>\n",
       "        </tr>\n",
       "        <tr>\n",
       "            <td>110</td>\n",
       "            <td>Drip Bag Coffee</td>\n",
       "            <td>1</td>\n",
       "            <td>19000</td>\n",
       "        </tr>\n",
       "        <tr>\n",
       "            <td>201</td>\n",
       "            <td>Matcha Latte</td>\n",
       "            <td>2</td>\n",
       "            <td>35000</td>\n",
       "        </tr>\n",
       "        <tr>\n",
       "            <td>202</td>\n",
       "            <td>Chocolate</td>\n",
       "            <td>2</td>\n",
       "            <td>38000</td>\n",
       "        </tr>\n",
       "        <tr>\n",
       "            <td>203</td>\n",
       "            <td>Lemon Tea</td>\n",
       "            <td>2</td>\n",
       "            <td>28000</td>\n",
       "        </tr>\n",
       "        <tr>\n",
       "            <td>204</td>\n",
       "            <td>Red Velvet Latte</td>\n",
       "            <td>2</td>\n",
       "            <td>37000</td>\n",
       "        </tr>\n",
       "        <tr>\n",
       "            <td>301</td>\n",
       "            <td>Croissant</td>\n",
       "            <td>3</td>\n",
       "            <td>20000</td>\n",
       "        </tr>\n",
       "        <tr>\n",
       "            <td>302</td>\n",
       "            <td>Brownies</td>\n",
       "            <td>3</td>\n",
       "            <td>25000</td>\n",
       "        </tr>\n",
       "        <tr>\n",
       "            <td>303</td>\n",
       "            <td>Sandwich</td>\n",
       "            <td>3</td>\n",
       "            <td>30000</td>\n",
       "        </tr>\n",
       "        <tr>\n",
       "            <td>304</td>\n",
       "            <td>Cheese Cake</td>\n",
       "            <td>3</td>\n",
       "            <td>35000</td>\n",
       "        </tr>\n",
       "    </tbody>\n",
       "</table>"
      ],
      "text/plain": [
       "+------------+--------------------------+-------------+------------+\n",
       "| product_id |             product_name | category_id | unit_price |\n",
       "+------------+--------------------------+-------------+------------+\n",
       "|        101 |               Kopi Telur |           1 |      15000 |\n",
       "|        102 | Kopi Kelaga Khas Vietnam |           1 |      17000 |\n",
       "|        103 |        Kopi Vietnam Drip |           1 |      15000 |\n",
       "|        104 |              Kopi Butter |           1 |      15000 |\n",
       "|        105 |        Kopi Susu Kampung |           1 |      10000 |\n",
       "|        106 |              Kopi Coklat |           1 |      17000 |\n",
       "|        107 |             Es Kopi Susu |           1 |      13000 |\n",
       "|        108 |            Es Kopi Hitam |           1 |       9000 |\n",
       "|        109 | Es Kopi Hitam Pake Lemon |           1 |      12000 |\n",
       "|        110 |          Drip Bag Coffee |           1 |      19000 |\n",
       "|        201 |             Matcha Latte |           2 |      35000 |\n",
       "|        202 |                Chocolate |           2 |      38000 |\n",
       "|        203 |                Lemon Tea |           2 |      28000 |\n",
       "|        204 |         Red Velvet Latte |           2 |      37000 |\n",
       "|        301 |                Croissant |           3 |      20000 |\n",
       "|        302 |                 Brownies |           3 |      25000 |\n",
       "|        303 |                 Sandwich |           3 |      30000 |\n",
       "|        304 |              Cheese Cake |           3 |      35000 |\n",
       "+------------+--------------------------+-------------+------------+"
      ]
     },
     "execution_count": 5,
     "metadata": {},
     "output_type": "execute_result"
    }
   ],
   "source": [
    "%%sql\n",
    "\n",
    "select * from products"
   ]
  },
  {
   "cell_type": "code",
   "execution_count": 6,
   "id": "cae5f8ea-7bc7-420b-af90-db538328eb81",
   "metadata": {},
   "outputs": [
    {
     "data": {
      "text/html": [
       "<table>\n",
       "    <thead>\n",
       "        <tr>\n",
       "            <th>store_id</th>\n",
       "            <th>store_name</th>\n",
       "            <th>city_name</th>\n",
       "        </tr>\n",
       "    </thead>\n",
       "    <tbody>\n",
       "        <tr>\n",
       "            <td>1</td>\n",
       "            <td>Jue Coffee Bojongsoang</td>\n",
       "            <td>Bandung</td>\n",
       "        </tr>\n",
       "        <tr>\n",
       "            <td>2</td>\n",
       "            <td>Jue Coffee Cijerah</td>\n",
       "            <td>Bandung</td>\n",
       "        </tr>\n",
       "        <tr>\n",
       "            <td>3</td>\n",
       "            <td>Jue Coffee Kuningan</td>\n",
       "            <td>Jakarta</td>\n",
       "        </tr>\n",
       "        <tr>\n",
       "            <td>4</td>\n",
       "            <td>Jue Coffee Tebet</td>\n",
       "            <td>Jakarta</td>\n",
       "        </tr>\n",
       "        <tr>\n",
       "            <td>5</td>\n",
       "            <td>Jue Coffee Dago</td>\n",
       "            <td>Bandung</td>\n",
       "        </tr>\n",
       "        <tr>\n",
       "            <td>6</td>\n",
       "            <td>Jue Coffee Asia Afrika</td>\n",
       "            <td>Bandung</td>\n",
       "        </tr>\n",
       "        <tr>\n",
       "            <td>7</td>\n",
       "            <td>Jue Coffee Buah Batu</td>\n",
       "            <td>Bandung</td>\n",
       "        </tr>\n",
       "        <tr>\n",
       "            <td>8</td>\n",
       "            <td>Jue Coffee Antapani</td>\n",
       "            <td>Bandung</td>\n",
       "        </tr>\n",
       "        <tr>\n",
       "            <td>9</td>\n",
       "            <td>Jue Coffee Setiabudi</td>\n",
       "            <td>Bandung</td>\n",
       "        </tr>\n",
       "        <tr>\n",
       "            <td>10</td>\n",
       "            <td>Jue Coffee Arcamanik</td>\n",
       "            <td>Bandung</td>\n",
       "        </tr>\n",
       "    </tbody>\n",
       "</table>"
      ],
      "text/plain": [
       "+----------+------------------------+-----------+\n",
       "| store_id |             store_name | city_name |\n",
       "+----------+------------------------+-----------+\n",
       "|        1 | Jue Coffee Bojongsoang |   Bandung |\n",
       "|        2 |     Jue Coffee Cijerah |   Bandung |\n",
       "|        3 |    Jue Coffee Kuningan |   Jakarta |\n",
       "|        4 |       Jue Coffee Tebet |   Jakarta |\n",
       "|        5 |        Jue Coffee Dago |   Bandung |\n",
       "|        6 | Jue Coffee Asia Afrika |   Bandung |\n",
       "|        7 |   Jue Coffee Buah Batu |   Bandung |\n",
       "|        8 |    Jue Coffee Antapani |   Bandung |\n",
       "|        9 |   Jue Coffee Setiabudi |   Bandung |\n",
       "|       10 |   Jue Coffee Arcamanik |   Bandung |\n",
       "+----------+------------------------+-----------+"
      ]
     },
     "execution_count": 6,
     "metadata": {},
     "output_type": "execute_result"
    }
   ],
   "source": [
    "%%sql\n",
    "\n",
    "select * from stores limit 10;"
   ]
  },
  {
   "cell_type": "code",
   "execution_count": 7,
   "id": "99df308a-0e62-4114-af1f-a6e25b5bcfd3",
   "metadata": {},
   "outputs": [
    {
     "data": {
      "text/html": [
       "<table>\n",
       "    <thead>\n",
       "        <tr>\n",
       "            <th>transaction_id</th>\n",
       "            <th>datetime</th>\n",
       "            <th>store_id</th>\n",
       "            <th>customer_id</th>\n",
       "            <th>product_id</th>\n",
       "            <th>quantity</th>\n",
       "            <th>payment_method</th>\n",
       "            <th>price</th>\n",
       "        </tr>\n",
       "    </thead>\n",
       "    <tbody>\n",
       "        <tr>\n",
       "            <td>bdd640fb-0667-4ad1-9c80-317fa3b1799d</td>\n",
       "            <td>2023-07-09 12:14:08</td>\n",
       "            <td>48</td>\n",
       "            <td>None</td>\n",
       "            <td>104</td>\n",
       "            <td>4</td>\n",
       "            <td>QRIS</td>\n",
       "            <td>60000</td>\n",
       "        </tr>\n",
       "        <tr>\n",
       "            <td>07a0ca6e-0822-48f3-ac03-1199972a8469</td>\n",
       "            <td>2023-07-03 10:14:32</td>\n",
       "            <td>39</td>\n",
       "            <td>None</td>\n",
       "            <td>101</td>\n",
       "            <td>4</td>\n",
       "            <td>Gopay</td>\n",
       "            <td>60000</td>\n",
       "        </tr>\n",
       "        <tr>\n",
       "            <td>8b8148f6-b38a-488c-a65e-d389b74d0fb1</td>\n",
       "            <td>2023-07-14 10:28:37</td>\n",
       "            <td>18</td>\n",
       "            <td>None</td>\n",
       "            <td>101</td>\n",
       "            <td>1</td>\n",
       "            <td>Debit card</td>\n",
       "            <td>15000</td>\n",
       "        </tr>\n",
       "        <tr>\n",
       "            <td>371ecd7b-27cd-4130-8722-9389571aa876</td>\n",
       "            <td>2023-07-25 09:06:05</td>\n",
       "            <td>25</td>\n",
       "            <td>None</td>\n",
       "            <td>104</td>\n",
       "            <td>2</td>\n",
       "            <td>DANA</td>\n",
       "            <td>30000</td>\n",
       "        </tr>\n",
       "        <tr>\n",
       "            <td>0b1f9163-ce9f-457f-83b7-a3a69a8dca03</td>\n",
       "            <td>2023-07-24 18:34:07</td>\n",
       "            <td>25</td>\n",
       "            <td>None</td>\n",
       "            <td>103</td>\n",
       "            <td>4</td>\n",
       "            <td>ShopeePay</td>\n",
       "            <td>60000</td>\n",
       "        </tr>\n",
       "        <tr>\n",
       "            <td>e2acf72f-9e57-4f7a-a0ee-89aed453dd32</td>\n",
       "            <td>2023-07-28 18:36:12</td>\n",
       "            <td>46</td>\n",
       "            <td>None</td>\n",
       "            <td>103</td>\n",
       "            <td>1</td>\n",
       "            <td>Gopay</td>\n",
       "            <td>15000</td>\n",
       "        </tr>\n",
       "        <tr>\n",
       "            <td>146d3f31-fc37-4a4c-8a15-544dc5e7ce8a</td>\n",
       "            <td>2023-07-28 14:55:06</td>\n",
       "            <td>25</td>\n",
       "            <td>None</td>\n",
       "            <td>109</td>\n",
       "            <td>2</td>\n",
       "            <td>DANA</td>\n",
       "            <td>24000</td>\n",
       "        </tr>\n",
       "        <tr>\n",
       "            <td>35a240ae-5af3-4553-9ec4-2e0829a3b2e9</td>\n",
       "            <td>2023-07-22 18:44:59</td>\n",
       "            <td>44</td>\n",
       "            <td>None</td>\n",
       "            <td>103</td>\n",
       "            <td>1</td>\n",
       "            <td>Gopay</td>\n",
       "            <td>15000</td>\n",
       "        </tr>\n",
       "        <tr>\n",
       "            <td>451b4cf3-6123-4df7-b656-af7229d4beef</td>\n",
       "            <td>2023-07-30 10:43:20</td>\n",
       "            <td>54</td>\n",
       "            <td>None</td>\n",
       "            <td>102</td>\n",
       "            <td>1</td>\n",
       "            <td>Cash</td>\n",
       "            <td>17000</td>\n",
       "        </tr>\n",
       "        <tr>\n",
       "            <td>448aaa9e-66b2-4c5b-90c1-87fcce177b4e</td>\n",
       "            <td>2023-07-03 14:58:36</td>\n",
       "            <td>46</td>\n",
       "            <td>None</td>\n",
       "            <td>201</td>\n",
       "            <td>1</td>\n",
       "            <td>Credit card</td>\n",
       "            <td>35000</td>\n",
       "        </tr>\n",
       "    </tbody>\n",
       "</table>"
      ],
      "text/plain": [
       "+--------------------------------------+---------------------+----------+-------------+------------+----------+----------------+-------+\n",
       "|                       transaction_id |            datetime | store_id | customer_id | product_id | quantity | payment_method | price |\n",
       "+--------------------------------------+---------------------+----------+-------------+------------+----------+----------------+-------+\n",
       "| bdd640fb-0667-4ad1-9c80-317fa3b1799d | 2023-07-09 12:14:08 |       48 |        None |        104 |        4 |           QRIS | 60000 |\n",
       "| 07a0ca6e-0822-48f3-ac03-1199972a8469 | 2023-07-03 10:14:32 |       39 |        None |        101 |        4 |          Gopay | 60000 |\n",
       "| 8b8148f6-b38a-488c-a65e-d389b74d0fb1 | 2023-07-14 10:28:37 |       18 |        None |        101 |        1 |     Debit card | 15000 |\n",
       "| 371ecd7b-27cd-4130-8722-9389571aa876 | 2023-07-25 09:06:05 |       25 |        None |        104 |        2 |           DANA | 30000 |\n",
       "| 0b1f9163-ce9f-457f-83b7-a3a69a8dca03 | 2023-07-24 18:34:07 |       25 |        None |        103 |        4 |      ShopeePay | 60000 |\n",
       "| e2acf72f-9e57-4f7a-a0ee-89aed453dd32 | 2023-07-28 18:36:12 |       46 |        None |        103 |        1 |          Gopay | 15000 |\n",
       "| 146d3f31-fc37-4a4c-8a15-544dc5e7ce8a | 2023-07-28 14:55:06 |       25 |        None |        109 |        2 |           DANA | 24000 |\n",
       "| 35a240ae-5af3-4553-9ec4-2e0829a3b2e9 | 2023-07-22 18:44:59 |       44 |        None |        103 |        1 |          Gopay | 15000 |\n",
       "| 451b4cf3-6123-4df7-b656-af7229d4beef | 2023-07-30 10:43:20 |       54 |        None |        102 |        1 |           Cash | 17000 |\n",
       "| 448aaa9e-66b2-4c5b-90c1-87fcce177b4e | 2023-07-03 14:58:36 |       46 |        None |        201 |        1 |    Credit card | 35000 |\n",
       "+--------------------------------------+---------------------+----------+-------------+------------+----------+----------------+-------+"
      ]
     },
     "execution_count": 7,
     "metadata": {},
     "output_type": "execute_result"
    }
   ],
   "source": [
    "%%sql\n",
    "\n",
    "Select * from transactions limit 10"
   ]
  },
  {
   "cell_type": "markdown",
   "id": "06507d8b-8e41-41b9-ab24-9d20c0365528",
   "metadata": {},
   "source": [
    "## 1. Jumlah Dataset"
   ]
  },
  {
   "cell_type": "code",
   "execution_count": 8,
   "id": "4c7abd58-c840-4249-86a5-9c724c5a57eb",
   "metadata": {},
   "outputs": [
    {
     "data": {
      "text/html": [
       "<table>\n",
       "    <thead>\n",
       "        <tr>\n",
       "            <th>Total_Transaksi</th>\n",
       "        </tr>\n",
       "    </thead>\n",
       "    <tbody>\n",
       "        <tr>\n",
       "            <td>1000000</td>\n",
       "        </tr>\n",
       "    </tbody>\n",
       "</table>"
      ],
      "text/plain": [
       "+-----------------+\n",
       "| Total_Transaksi |\n",
       "+-----------------+\n",
       "|         1000000 |\n",
       "+-----------------+"
      ]
     },
     "execution_count": 8,
     "metadata": {},
     "output_type": "execute_result"
    }
   ],
   "source": [
    "%%sql\n",
    "Select Count(*) as Total_Transaksi from transactions \n"
   ]
  },
  {
   "cell_type": "code",
   "execution_count": 9,
   "id": "5a610e64-1f18-4938-9965-2cd617f7ed75",
   "metadata": {},
   "outputs": [
    {
     "data": {
      "text/html": [
       "<table>\n",
       "    <thead>\n",
       "        <tr>\n",
       "            <th>Total_Toko</th>\n",
       "        </tr>\n",
       "    </thead>\n",
       "    <tbody>\n",
       "        <tr>\n",
       "            <td>54</td>\n",
       "        </tr>\n",
       "    </tbody>\n",
       "</table>"
      ],
      "text/plain": [
       "+------------+\n",
       "| Total_Toko |\n",
       "+------------+\n",
       "|         54 |\n",
       "+------------+"
      ]
     },
     "execution_count": 9,
     "metadata": {},
     "output_type": "execute_result"
    }
   ],
   "source": [
    "%%sql\n",
    "Select Count(*) as Total_Toko from stores\n"
   ]
  },
  {
   "cell_type": "code",
   "execution_count": 10,
   "id": "3247c6f0-b5b4-4eb7-aed6-85104f63914e",
   "metadata": {},
   "outputs": [
    {
     "data": {
      "text/html": [
       "<table>\n",
       "    <thead>\n",
       "        <tr>\n",
       "            <th>Total_Produk</th>\n",
       "        </tr>\n",
       "    </thead>\n",
       "    <tbody>\n",
       "        <tr>\n",
       "            <td>18</td>\n",
       "        </tr>\n",
       "    </tbody>\n",
       "</table>"
      ],
      "text/plain": [
       "+--------------+\n",
       "| Total_Produk |\n",
       "+--------------+\n",
       "|           18 |\n",
       "+--------------+"
      ]
     },
     "execution_count": 10,
     "metadata": {},
     "output_type": "execute_result"
    }
   ],
   "source": [
    "%%sql\n",
    "Select Count(*) as Total_Produk from products \n"
   ]
  },
  {
   "cell_type": "code",
   "execution_count": 11,
   "id": "10d2dfdf-8ca4-4d59-80e5-c48ca5d285b5",
   "metadata": {},
   "outputs": [
    {
     "data": {
      "text/html": [
       "<table>\n",
       "    <thead>\n",
       "        <tr>\n",
       "            <th>Total_Kategori</th>\n",
       "        </tr>\n",
       "    </thead>\n",
       "    <tbody>\n",
       "        <tr>\n",
       "            <td>3</td>\n",
       "        </tr>\n",
       "    </tbody>\n",
       "</table>"
      ],
      "text/plain": [
       "+----------------+\n",
       "| Total_Kategori |\n",
       "+----------------+\n",
       "|              3 |\n",
       "+----------------+"
      ]
     },
     "execution_count": 11,
     "metadata": {},
     "output_type": "execute_result"
    }
   ],
   "source": [
    "%%sql\n",
    "Select Count(*) as Total_Kategori from categories \n"
   ]
  },
  {
   "cell_type": "markdown",
   "id": "2f1b5540-7ef7-40fb-b5be-55bf706bf5f0",
   "metadata": {},
   "source": [
    "Maka Total Dataset 1000075"
   ]
  },
  {
   "cell_type": "markdown",
   "id": "b989a7b9-3c03-4622-9321-4c0abc181f74",
   "metadata": {},
   "source": [
    "## 2. Jumlah Hari"
   ]
  },
  {
   "cell_type": "code",
   "execution_count": 12,
   "id": "90baec0d-2fd0-4851-bf45-ca87875aa728",
   "metadata": {},
   "outputs": [
    {
     "data": {
      "text/html": [
       "<table>\n",
       "    <thead>\n",
       "        <tr>\n",
       "            <th>Jumlah_Hari</th>\n",
       "        </tr>\n",
       "    </thead>\n",
       "    <tbody>\n",
       "        <tr>\n",
       "            <td>30</td>\n",
       "        </tr>\n",
       "    </tbody>\n",
       "</table>"
      ],
      "text/plain": [
       "+-------------+\n",
       "| Jumlah_Hari |\n",
       "+-------------+\n",
       "|          30 |\n",
       "+-------------+"
      ]
     },
     "execution_count": 12,
     "metadata": {},
     "output_type": "execute_result"
    }
   ],
   "source": [
    "%%sql\n",
    "\n",
    "select count(distinct date(datetime)) as Jumlah_Hari from transactions"
   ]
  },
  {
   "cell_type": "markdown",
   "id": "d3e012ba-a6a6-4b8e-8524-23fe371b1064",
   "metadata": {},
   "source": [
    "Terdapat 30 Hari Dalam Database Transaksi"
   ]
  },
  {
   "cell_type": "markdown",
   "id": "ffb086b8-d196-49f6-be69-2091a69c3350",
   "metadata": {},
   "source": [
    "## 3. Maximum dan Mininum sebuah pembelian"
   ]
  },
  {
   "cell_type": "code",
   "execution_count": 13,
   "id": "0865765e-d72e-4f8e-b439-3c114eb59ffd",
   "metadata": {},
   "outputs": [
    {
     "data": {
      "text/html": [
       "<table>\n",
       "    <thead>\n",
       "        <tr>\n",
       "            <th>Max_Pembelian</th>\n",
       "            <th>Min_Pembelian</th>\n",
       "        </tr>\n",
       "    </thead>\n",
       "    <tbody>\n",
       "        <tr>\n",
       "            <td>4</td>\n",
       "            <td>1</td>\n",
       "        </tr>\n",
       "    </tbody>\n",
       "</table>"
      ],
      "text/plain": [
       "+---------------+---------------+\n",
       "| Max_Pembelian | Min_Pembelian |\n",
       "+---------------+---------------+\n",
       "|             4 |             1 |\n",
       "+---------------+---------------+"
      ]
     },
     "execution_count": 13,
     "metadata": {},
     "output_type": "execute_result"
    }
   ],
   "source": [
    "%%sql\n",
    "\n",
    "select MAX(quantity) as Max_Pembelian, Min(quantity) as Min_Pembelian from transactions"
   ]
  },
  {
   "cell_type": "markdown",
   "id": "87fafbf7-2bd3-4c2e-adab-0c569ee1d6cf",
   "metadata": {},
   "source": [
    "Maximum sebuah pembelian adalah 4 buah dan minimum sebuah pembelian adalah 1 buah"
   ]
  },
  {
   "cell_type": "markdown",
   "id": "d794caa1-ed5e-4510-96c2-e9584dedf860",
   "metadata": {},
   "source": [
    "## 4. Total Jenis Pemabayaran"
   ]
  },
  {
   "cell_type": "code",
   "execution_count": 14,
   "id": "a83eca17-5e42-40b2-922b-f3d90f6edfca",
   "metadata": {},
   "outputs": [
    {
     "data": {
      "text/html": [
       "<table>\n",
       "    <thead>\n",
       "        <tr>\n",
       "            <th>Jenis_Pembayaran</th>\n",
       "        </tr>\n",
       "    </thead>\n",
       "    <tbody>\n",
       "        <tr>\n",
       "            <td>8</td>\n",
       "        </tr>\n",
       "    </tbody>\n",
       "</table>"
      ],
      "text/plain": [
       "+------------------+\n",
       "| Jenis_Pembayaran |\n",
       "+------------------+\n",
       "|                8 |\n",
       "+------------------+"
      ]
     },
     "execution_count": 14,
     "metadata": {},
     "output_type": "execute_result"
    }
   ],
   "source": [
    "%%sql\n",
    "\n",
    "select count(distinct payment_method) as Jenis_Pembayaran from transactions"
   ]
  },
  {
   "cell_type": "markdown",
   "id": "154584cc-2b8c-4eee-b8ae-61de4dde4909",
   "metadata": {},
   "source": [
    "Terdapat 8 Jenis Pembayaran"
   ]
  },
  {
   "cell_type": "markdown",
   "id": "bfd7147d-5b1a-4447-8b44-fd3ae3a25d9a",
   "metadata": {},
   "source": [
    "## 5. Menghitung Berapa Customer Yang NULL"
   ]
  },
  {
   "cell_type": "code",
   "execution_count": 15,
   "id": "7c2b3b7b-e166-4809-ab6d-291d3ab57c90",
   "metadata": {},
   "outputs": [
    {
     "data": {
      "text/html": [
       "<table>\n",
       "    <thead>\n",
       "        <tr>\n",
       "            <th>Customer_Null</th>\n",
       "        </tr>\n",
       "    </thead>\n",
       "    <tbody>\n",
       "        <tr>\n",
       "            <td>1000000</td>\n",
       "        </tr>\n",
       "    </tbody>\n",
       "</table>"
      ],
      "text/plain": [
       "+---------------+\n",
       "| Customer_Null |\n",
       "+---------------+\n",
       "|       1000000 |\n",
       "+---------------+"
      ]
     },
     "execution_count": 15,
     "metadata": {},
     "output_type": "execute_result"
    }
   ],
   "source": [
    "%%sql\n",
    "select count(*) as Customer_Null from transactions where customer_id is null;"
   ]
  },
  {
   "cell_type": "markdown",
   "id": "e588a652-2995-4e8e-b3aa-fc5d1792bf33",
   "metadata": {},
   "source": [
    "Terdapat 1000000 Customer_id yang NULL"
   ]
  },
  {
   "cell_type": "markdown",
   "id": "1fa9b7cc-50e6-4449-9688-1ddf9e7ecdeb",
   "metadata": {},
   "source": [
    "## 6. Jumlah Transaksi Penjualan"
   ]
  },
  {
   "cell_type": "code",
   "execution_count": 16,
   "id": "17dc6f9d-044e-4230-a41a-905ae72f1734",
   "metadata": {},
   "outputs": [
    {
     "data": {
      "text/html": [
       "<table>\n",
       "    <thead>\n",
       "        <tr>\n",
       "            <th>Hari</th>\n",
       "            <th>Transaksi</th>\n",
       "            <th>Total_Revenue</th>\n",
       "        </tr>\n",
       "    </thead>\n",
       "    <tbody>\n",
       "        <tr>\n",
       "            <td>2023-07-01</td>\n",
       "            <td>33334</td>\n",
       "            <td>1202604000</td>\n",
       "        </tr>\n",
       "        <tr>\n",
       "            <td>2023-07-02</td>\n",
       "            <td>33486</td>\n",
       "            <td>1209089000</td>\n",
       "        </tr>\n",
       "        <tr>\n",
       "            <td>2023-07-03</td>\n",
       "            <td>33353</td>\n",
       "            <td>1206792000</td>\n",
       "        </tr>\n",
       "        <tr>\n",
       "            <td>2023-07-04</td>\n",
       "            <td>33350</td>\n",
       "            <td>1210775000</td>\n",
       "        </tr>\n",
       "        <tr>\n",
       "            <td>2023-07-05</td>\n",
       "            <td>33314</td>\n",
       "            <td>1206402000</td>\n",
       "        </tr>\n",
       "        <tr>\n",
       "            <td>2023-07-06</td>\n",
       "            <td>33354</td>\n",
       "            <td>1202884000</td>\n",
       "        </tr>\n",
       "        <tr>\n",
       "            <td>2023-07-07</td>\n",
       "            <td>33315</td>\n",
       "            <td>1197111000</td>\n",
       "        </tr>\n",
       "        <tr>\n",
       "            <td>2023-07-08</td>\n",
       "            <td>33579</td>\n",
       "            <td>1210439000</td>\n",
       "        </tr>\n",
       "        <tr>\n",
       "            <td>2023-07-09</td>\n",
       "            <td>33127</td>\n",
       "            <td>1198084000</td>\n",
       "        </tr>\n",
       "        <tr>\n",
       "            <td>2023-07-10</td>\n",
       "            <td>33514</td>\n",
       "            <td>1213912000</td>\n",
       "        </tr>\n",
       "        <tr>\n",
       "            <td>2023-07-11</td>\n",
       "            <td>33399</td>\n",
       "            <td>1204261000</td>\n",
       "        </tr>\n",
       "        <tr>\n",
       "            <td>2023-07-12</td>\n",
       "            <td>33305</td>\n",
       "            <td>1202053000</td>\n",
       "        </tr>\n",
       "        <tr>\n",
       "            <td>2023-07-13</td>\n",
       "            <td>33448</td>\n",
       "            <td>1220637000</td>\n",
       "        </tr>\n",
       "        <tr>\n",
       "            <td>2023-07-14</td>\n",
       "            <td>33235</td>\n",
       "            <td>1196752000</td>\n",
       "        </tr>\n",
       "        <tr>\n",
       "            <td>2023-07-15</td>\n",
       "            <td>33335</td>\n",
       "            <td>1201827000</td>\n",
       "        </tr>\n",
       "        <tr>\n",
       "            <td>2023-07-16</td>\n",
       "            <td>33552</td>\n",
       "            <td>1211379000</td>\n",
       "        </tr>\n",
       "        <tr>\n",
       "            <td>2023-07-17</td>\n",
       "            <td>33265</td>\n",
       "            <td>1207636000</td>\n",
       "        </tr>\n",
       "        <tr>\n",
       "            <td>2023-07-18</td>\n",
       "            <td>33066</td>\n",
       "            <td>1187663000</td>\n",
       "        </tr>\n",
       "        <tr>\n",
       "            <td>2023-07-19</td>\n",
       "            <td>33271</td>\n",
       "            <td>1199246000</td>\n",
       "        </tr>\n",
       "        <tr>\n",
       "            <td>2023-07-20</td>\n",
       "            <td>33456</td>\n",
       "            <td>1203268000</td>\n",
       "        </tr>\n",
       "        <tr>\n",
       "            <td>2023-07-21</td>\n",
       "            <td>33031</td>\n",
       "            <td>1191467000</td>\n",
       "        </tr>\n",
       "        <tr>\n",
       "            <td>2023-07-22</td>\n",
       "            <td>33267</td>\n",
       "            <td>1194145000</td>\n",
       "        </tr>\n",
       "        <tr>\n",
       "            <td>2023-07-23</td>\n",
       "            <td>33039</td>\n",
       "            <td>1189515000</td>\n",
       "        </tr>\n",
       "        <tr>\n",
       "            <td>2023-07-24</td>\n",
       "            <td>33611</td>\n",
       "            <td>1216421000</td>\n",
       "        </tr>\n",
       "        <tr>\n",
       "            <td>2023-07-25</td>\n",
       "            <td>33559</td>\n",
       "            <td>1205520000</td>\n",
       "        </tr>\n",
       "        <tr>\n",
       "            <td>2023-07-26</td>\n",
       "            <td>33058</td>\n",
       "            <td>1190956000</td>\n",
       "        </tr>\n",
       "        <tr>\n",
       "            <td>2023-07-27</td>\n",
       "            <td>33459</td>\n",
       "            <td>1200091000</td>\n",
       "        </tr>\n",
       "        <tr>\n",
       "            <td>2023-07-28</td>\n",
       "            <td>33258</td>\n",
       "            <td>1196312000</td>\n",
       "        </tr>\n",
       "        <tr>\n",
       "            <td>2023-07-29</td>\n",
       "            <td>33163</td>\n",
       "            <td>1206450000</td>\n",
       "        </tr>\n",
       "        <tr>\n",
       "            <td>2023-07-30</td>\n",
       "            <td>33497</td>\n",
       "            <td>1207404000</td>\n",
       "        </tr>\n",
       "    </tbody>\n",
       "</table>"
      ],
      "text/plain": [
       "+------------+-----------+---------------+\n",
       "|       Hari | Transaksi | Total_Revenue |\n",
       "+------------+-----------+---------------+\n",
       "| 2023-07-01 |     33334 |    1202604000 |\n",
       "| 2023-07-02 |     33486 |    1209089000 |\n",
       "| 2023-07-03 |     33353 |    1206792000 |\n",
       "| 2023-07-04 |     33350 |    1210775000 |\n",
       "| 2023-07-05 |     33314 |    1206402000 |\n",
       "| 2023-07-06 |     33354 |    1202884000 |\n",
       "| 2023-07-07 |     33315 |    1197111000 |\n",
       "| 2023-07-08 |     33579 |    1210439000 |\n",
       "| 2023-07-09 |     33127 |    1198084000 |\n",
       "| 2023-07-10 |     33514 |    1213912000 |\n",
       "| 2023-07-11 |     33399 |    1204261000 |\n",
       "| 2023-07-12 |     33305 |    1202053000 |\n",
       "| 2023-07-13 |     33448 |    1220637000 |\n",
       "| 2023-07-14 |     33235 |    1196752000 |\n",
       "| 2023-07-15 |     33335 |    1201827000 |\n",
       "| 2023-07-16 |     33552 |    1211379000 |\n",
       "| 2023-07-17 |     33265 |    1207636000 |\n",
       "| 2023-07-18 |     33066 |    1187663000 |\n",
       "| 2023-07-19 |     33271 |    1199246000 |\n",
       "| 2023-07-20 |     33456 |    1203268000 |\n",
       "| 2023-07-21 |     33031 |    1191467000 |\n",
       "| 2023-07-22 |     33267 |    1194145000 |\n",
       "| 2023-07-23 |     33039 |    1189515000 |\n",
       "| 2023-07-24 |     33611 |    1216421000 |\n",
       "| 2023-07-25 |     33559 |    1205520000 |\n",
       "| 2023-07-26 |     33058 |    1190956000 |\n",
       "| 2023-07-27 |     33459 |    1200091000 |\n",
       "| 2023-07-28 |     33258 |    1196312000 |\n",
       "| 2023-07-29 |     33163 |    1206450000 |\n",
       "| 2023-07-30 |     33497 |    1207404000 |\n",
       "+------------+-----------+---------------+"
      ]
     },
     "execution_count": 16,
     "metadata": {},
     "output_type": "execute_result"
    }
   ],
   "source": [
    "%%sql\n",
    "\n",
    "Select\n",
    "    date(datetime) as Hari,\n",
    "    count(*) as Transaksi,\n",
    "    sum(price) as Total_Revenue\n",
    "from transactions\n",
    "group by date(datetime)\n",
    "order by Hari"
   ]
  },
  {
   "cell_type": "markdown",
   "id": "e2da8cb8-9904-4e04-b872-5e704c67670f",
   "metadata": {},
   "source": [
    "## 7. Total Kategori Yang Terjual"
   ]
  },
  {
   "cell_type": "code",
   "execution_count": 17,
   "id": "ecd659a8-2f09-4209-aa10-129ce6f5988b",
   "metadata": {},
   "outputs": [
    {
     "name": "stderr",
     "output_type": "stream",
     "text": [
      "                                                                                "
     ]
    },
    {
     "data": {
      "text/html": [
       "<table>\n",
       "    <thead>\n",
       "        <tr>\n",
       "            <th>Kategori</th>\n",
       "            <th>Quantity</th>\n",
       "        </tr>\n",
       "    </thead>\n",
       "    <tbody>\n",
       "        <tr>\n",
       "            <td>Coffee</td>\n",
       "            <td>924193</td>\n",
       "        </tr>\n",
       "        <tr>\n",
       "            <td>Non-Coffee</td>\n",
       "            <td>370288</td>\n",
       "        </tr>\n",
       "        <tr>\n",
       "            <td>Snacks</td>\n",
       "            <td>370603</td>\n",
       "        </tr>\n",
       "    </tbody>\n",
       "</table>"
      ],
      "text/plain": [
       "+------------+----------+\n",
       "|   Kategori | Quantity |\n",
       "+------------+----------+\n",
       "|     Coffee |   924193 |\n",
       "| Non-Coffee |   370288 |\n",
       "|     Snacks |   370603 |\n",
       "+------------+----------+"
      ]
     },
     "execution_count": 17,
     "metadata": {},
     "output_type": "execute_result"
    }
   ],
   "source": [
    "%%sql\n",
    "select\n",
    "    c.category_name as Kategori,\n",
    "    sum(t.quantity) as Quantity\n",
    "from transactions t\n",
    "join products p on p.product_id = t.product_id\n",
    "join categories c on c.category_id = p.category_id\n",
    "Group by Kategori"
   ]
  },
  {
   "cell_type": "markdown",
   "id": "846345b5-f307-4ebc-85cb-5bb7da1965e6",
   "metadata": {},
   "source": [
    "- Barang **Coffee** terjual dengan **925415** buah\n",
    "- Barang **Non-Coffee**\tterjual dengan **369924** buah\n",
    "- Barang **Snacks** terjual dengan **369891** buah\n"
   ]
  },
  {
   "cell_type": "markdown",
   "id": "fa3c6dac-cb2d-48b2-b9f8-9cac4ba600ab",
   "metadata": {},
   "source": [
    "## 8. Produk Top 5\n"
   ]
  },
  {
   "cell_type": "code",
   "execution_count": 18,
   "id": "f012cc0b-6a18-4ab8-a275-284119102147",
   "metadata": {},
   "outputs": [
    {
     "data": {
      "text/html": [
       "<table>\n",
       "    <thead>\n",
       "        <tr>\n",
       "            <th>Nama_Produk</th>\n",
       "            <th>Quantity</th>\n",
       "            <th>Total_Penjualan</th>\n",
       "        </tr>\n",
       "    </thead>\n",
       "    <tbody>\n",
       "        <tr>\n",
       "            <td>Cheese Cake</td>\n",
       "            <td>93164</td>\n",
       "            <td>3260740000</td>\n",
       "        </tr>\n",
       "        <tr>\n",
       "            <td>Kopi Telur</td>\n",
       "            <td>93140</td>\n",
       "            <td>1397100000</td>\n",
       "        </tr>\n",
       "        <tr>\n",
       "            <td>Kopi Kelaga Khas Vietnam</td>\n",
       "            <td>93002</td>\n",
       "            <td>1581034000</td>\n",
       "        </tr>\n",
       "        <tr>\n",
       "            <td>Brownies</td>\n",
       "            <td>92751</td>\n",
       "            <td>2318775000</td>\n",
       "        </tr>\n",
       "        <tr>\n",
       "            <td>Kopi Susu Kampung</td>\n",
       "            <td>92740</td>\n",
       "            <td>927400000</td>\n",
       "        </tr>\n",
       "    </tbody>\n",
       "</table>"
      ],
      "text/plain": [
       "+--------------------------+----------+-----------------+\n",
       "|              Nama_Produk | Quantity | Total_Penjualan |\n",
       "+--------------------------+----------+-----------------+\n",
       "|              Cheese Cake |    93164 |      3260740000 |\n",
       "|               Kopi Telur |    93140 |      1397100000 |\n",
       "| Kopi Kelaga Khas Vietnam |    93002 |      1581034000 |\n",
       "|                 Brownies |    92751 |      2318775000 |\n",
       "|        Kopi Susu Kampung |    92740 |       927400000 |\n",
       "+--------------------------+----------+-----------------+"
      ]
     },
     "execution_count": 18,
     "metadata": {},
     "output_type": "execute_result"
    }
   ],
   "source": [
    "%%sql\n",
    "\n",
    "select\n",
    "    p.product_name as Nama_Produk,\n",
    "    sum(t.quantity) as Quantity,\n",
    "    sum(t.price) as Total_Penjualan\n",
    "from transactions t\n",
    "join products p on t.product_id = p.product_id\n",
    "group by Nama_Produk\n",
    "order by Quantity DESC\n",
    "limit 5;"
   ]
  },
  {
   "cell_type": "markdown",
   "id": "17b50e33-9839-4625-91fe-ccc5c3d84ce0",
   "metadata": {},
   "source": [
    "Top 5 Produk Adalah:\n",
    "- **Cheese Cake** dengan **93327** Buah Terjual\n",
    "- **Kopi Telur** dengan **93222** Buah Terjual\n",
    "- **Kopi Kelaga Khas Vietnam** dengan **93053** Buah Terjual\n",
    "- **Kopi Susu Kampung** dengan **92915** Buah Terjual\n",
    "- **Es Kopi Hitam Pake Lemon** dengan **92839** Buah Terjual"
   ]
  },
  {
   "cell_type": "markdown",
   "id": "1c3ab22d-aca4-4639-a4bd-1fb1d0dd4d20",
   "metadata": {},
   "source": [
    "## 9. Jumlah Transaksi Per Toko Per Hari"
   ]
  },
  {
   "cell_type": "code",
   "execution_count": 19,
   "id": "bfd4acf2-a70e-40b9-aaa4-7438bf1d7f7d",
   "metadata": {},
   "outputs": [
    {
     "data": {
      "text/html": [
       "<table>\n",
       "    <thead>\n",
       "        <tr>\n",
       "            <th>Hari</th>\n",
       "            <th>Toko</th>\n",
       "            <th>Transaksi</th>\n",
       "            <th>Total_Penjualan</th>\n",
       "        </tr>\n",
       "    </thead>\n",
       "    <tbody>\n",
       "        <tr>\n",
       "            <td>2023-07-01</td>\n",
       "            <td>Jue Coffee Antapani</td>\n",
       "            <td>639</td>\n",
       "            <td>23869000</td>\n",
       "        </tr>\n",
       "        <tr>\n",
       "            <td>2023-07-01</td>\n",
       "            <td>Jue Coffee Arcamanik</td>\n",
       "            <td>595</td>\n",
       "            <td>22057000</td>\n",
       "        </tr>\n",
       "        <tr>\n",
       "            <td>2023-07-01</td>\n",
       "            <td>Jue Coffee Asia Afrika</td>\n",
       "            <td>635</td>\n",
       "            <td>23306000</td>\n",
       "        </tr>\n",
       "        <tr>\n",
       "            <td>2023-07-01</td>\n",
       "            <td>Jue Coffee Blok M</td>\n",
       "            <td>600</td>\n",
       "            <td>21919000</td>\n",
       "        </tr>\n",
       "        <tr>\n",
       "            <td>2023-07-01</td>\n",
       "            <td>Jue Coffee Bojongsoang</td>\n",
       "            <td>615</td>\n",
       "            <td>22060000</td>\n",
       "        </tr>\n",
       "        <tr>\n",
       "            <td>2023-07-01</td>\n",
       "            <td>Jue Coffee Buah Batu</td>\n",
       "            <td>665</td>\n",
       "            <td>22612000</td>\n",
       "        </tr>\n",
       "        <tr>\n",
       "            <td>2023-07-01</td>\n",
       "            <td>Jue Coffee Cempaka Putih</td>\n",
       "            <td>599</td>\n",
       "            <td>22508000</td>\n",
       "        </tr>\n",
       "        <tr>\n",
       "            <td>2023-07-01</td>\n",
       "            <td>Jue Coffee Cihampelas</td>\n",
       "            <td>642</td>\n",
       "            <td>21519000</td>\n",
       "        </tr>\n",
       "        <tr>\n",
       "            <td>2023-07-01</td>\n",
       "            <td>Jue Coffee Cihapit</td>\n",
       "            <td>568</td>\n",
       "            <td>19710000</td>\n",
       "        </tr>\n",
       "        <tr>\n",
       "            <td>2023-07-01</td>\n",
       "            <td>Jue Coffee Cijerah</td>\n",
       "            <td>633</td>\n",
       "            <td>22282000</td>\n",
       "        </tr>\n",
       "    </tbody>\n",
       "</table>"
      ],
      "text/plain": [
       "+------------+--------------------------+-----------+-----------------+\n",
       "|       Hari |                     Toko | Transaksi | Total_Penjualan |\n",
       "+------------+--------------------------+-----------+-----------------+\n",
       "| 2023-07-01 |      Jue Coffee Antapani |       639 |        23869000 |\n",
       "| 2023-07-01 |     Jue Coffee Arcamanik |       595 |        22057000 |\n",
       "| 2023-07-01 |   Jue Coffee Asia Afrika |       635 |        23306000 |\n",
       "| 2023-07-01 |        Jue Coffee Blok M |       600 |        21919000 |\n",
       "| 2023-07-01 |   Jue Coffee Bojongsoang |       615 |        22060000 |\n",
       "| 2023-07-01 |     Jue Coffee Buah Batu |       665 |        22612000 |\n",
       "| 2023-07-01 | Jue Coffee Cempaka Putih |       599 |        22508000 |\n",
       "| 2023-07-01 |    Jue Coffee Cihampelas |       642 |        21519000 |\n",
       "| 2023-07-01 |       Jue Coffee Cihapit |       568 |        19710000 |\n",
       "| 2023-07-01 |       Jue Coffee Cijerah |       633 |        22282000 |\n",
       "+------------+--------------------------+-----------+-----------------+"
      ]
     },
     "execution_count": 19,
     "metadata": {},
     "output_type": "execute_result"
    }
   ],
   "source": [
    "%%sql\n",
    "\n",
    "select\n",
    "    Date(t.datetime) as Hari,\n",
    "    s.store_name as Toko,\n",
    "    count(*) as Transaksi,\n",
    "    sum(t.price) as Total_Penjualan\n",
    "from transactions t\n",
    "join stores s on t.store_id = s.store_id\n",
    "group by Hari, Toko\n",
    "order by Hari, Toko\n",
    "limit 10"
   ]
  },
  {
   "cell_type": "markdown",
   "id": "98e4f211-6815-4fcb-bc0c-c4207b69e233",
   "metadata": {},
   "source": [
    "## 10. Toko Paling Ramai"
   ]
  },
  {
   "cell_type": "code",
   "execution_count": 20,
   "id": "433b514c-39c1-4501-bde7-e25677c50591",
   "metadata": {},
   "outputs": [
    {
     "data": {
      "text/html": [
       "<table>\n",
       "    <thead>\n",
       "        <tr>\n",
       "            <th>Toko</th>\n",
       "            <th>Total_Transaksi</th>\n",
       "        </tr>\n",
       "    </thead>\n",
       "    <tbody>\n",
       "        <tr>\n",
       "            <td>Jue Coffee Demangan</td>\n",
       "            <td>18800</td>\n",
       "        </tr>\n",
       "    </tbody>\n",
       "</table>"
      ],
      "text/plain": [
       "+---------------------+-----------------+\n",
       "|                Toko | Total_Transaksi |\n",
       "+---------------------+-----------------+\n",
       "| Jue Coffee Demangan |           18800 |\n",
       "+---------------------+-----------------+"
      ]
     },
     "execution_count": 20,
     "metadata": {},
     "output_type": "execute_result"
    }
   ],
   "source": [
    "%%sql\n",
    "\n",
    "select\n",
    "    s.store_name as Toko,\n",
    "    count(t.price) as Total_Transaksi\n",
    "from stores s\n",
    "join transactions t on s.store_id = t.store_id\n",
    "Group by Toko\n",
    "order by Total_Transaksi DESC\n",
    "limit 1"
   ]
  },
  {
   "cell_type": "markdown",
   "id": "7e2e4758-10de-4f07-8d5a-b8a45320eda6",
   "metadata": {},
   "source": [
    "Toko yang paling ramai adalah **Jue Coffeee Tunjungan** dengan Total Tranasaksi sebanyak **18792 buah**"
   ]
  },
  {
   "cell_type": "markdown",
   "id": "dd51311d-7d9d-4c75-b6f5-392efc096bb8",
   "metadata": {},
   "source": [
    "## 11. Toko Paling Banyak Penjualan"
   ]
  },
  {
   "cell_type": "code",
   "execution_count": 21,
   "id": "06b16aeb-d586-4bd2-bf40-7ddbe59d8968",
   "metadata": {},
   "outputs": [
    {
     "data": {
      "text/html": [
       "<table>\n",
       "    <thead>\n",
       "        <tr>\n",
       "            <th>Toko</th>\n",
       "            <th>Total_Revenue</th>\n",
       "        </tr>\n",
       "    </thead>\n",
       "    <tbody>\n",
       "        <tr>\n",
       "            <td>Jue Coffee Demangan</td>\n",
       "            <td>599822000</td>\n",
       "        </tr>\n",
       "    </tbody>\n",
       "</table>"
      ],
      "text/plain": [
       "+---------------------+---------------+\n",
       "|                Toko | Total_Revenue |\n",
       "+---------------------+---------------+\n",
       "| Jue Coffee Demangan |     599822000 |\n",
       "+---------------------+---------------+"
      ]
     },
     "execution_count": 21,
     "metadata": {},
     "output_type": "execute_result"
    }
   ],
   "source": [
    "%%sql\n",
    "\n",
    "select \n",
    "    s.store_name as Toko,\n",
    "    sum(t.price) as Total_Revenue\n",
    "from transactions t\n",
    "join stores s on s.store_id = t.store_id\n",
    "where t.payment_method in ('QRIS', 'Ovo', 'Gopay', 'ShopeePay', 'DANA', 'Debit card', 'Credit card')\n",
    "group by Toko\n",
    "Order by Total_Revenue DESC\n",
    "limit 1"
   ]
  },
  {
   "cell_type": "markdown",
   "id": "5a20c82f-5d2f-4bb8-9357-744527bfd9fb",
   "metadata": {},
   "source": [
    "Toko yang paling banyak penjualan adalah **Jue Coffee Pakuwon Mall** dengan Total penjualan sebanyak **595.432.000 rb**"
   ]
  }
 ],
 "metadata": {
  "kernelspec": {
   "display_name": "Python 3 (ipykernel)",
   "language": "python",
   "name": "python3"
  },
  "language_info": {
   "codemirror_mode": {
    "name": "ipython",
    "version": 3
   },
   "file_extension": ".py",
   "mimetype": "text/x-python",
   "name": "python",
   "nbconvert_exporter": "python",
   "pygments_lexer": "ipython3",
   "version": "3.11.13"
  }
 },
 "nbformat": 4,
 "nbformat_minor": 5
}
