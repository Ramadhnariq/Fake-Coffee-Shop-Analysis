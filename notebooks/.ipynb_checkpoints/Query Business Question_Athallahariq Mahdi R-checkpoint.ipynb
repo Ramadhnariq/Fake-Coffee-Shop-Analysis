{
 "cells": [
  {
   "cell_type": "code",
   "execution_count": 2,
   "id": "646529d0-da5a-4c47-a735-567994354079",
   "metadata": {},
   "outputs": [
    {
     "data": {
      "text/html": [
       "<table>\n",
       "    <thead>\n",
       "        <tr>\n",
       "            <th>namespace</th>\n",
       "        </tr>\n",
       "    </thead>\n",
       "    <tbody>\n",
       "        <tr>\n",
       "            <td>coffeeshop</td>\n",
       "        </tr>\n",
       "        <tr>\n",
       "            <td>default</td>\n",
       "        </tr>\n",
       "        <tr>\n",
       "            <td>sample</td>\n",
       "        </tr>\n",
       "    </tbody>\n",
       "</table>"
      ],
      "text/plain": [
       "+------------+\n",
       "|  namespace |\n",
       "+------------+\n",
       "| coffeeshop |\n",
       "|    default |\n",
       "|     sample |\n",
       "+------------+"
      ]
     },
     "execution_count": 2,
     "metadata": {},
     "output_type": "execute_result"
    }
   ],
   "source": [
    "%%sql\n",
    "SHOW Databases"
   ]
  },
  {
   "cell_type": "code",
   "execution_count": 3,
   "id": "2c01ef0c-a8b8-4a3a-873f-8725228961c2",
   "metadata": {},
   "outputs": [
    {
     "data": {
      "text/html": [
       "<table>\n",
       "    <thead>\n",
       "        <tr>\n",
       "        </tr>\n",
       "    </thead>\n",
       "    <tbody>\n",
       "    </tbody>\n",
       "</table>"
      ],
      "text/plain": [
       "++\n",
       "||\n",
       "++\n",
       "++"
      ]
     },
     "execution_count": 3,
     "metadata": {},
     "output_type": "execute_result"
    }
   ],
   "source": [
    "%%sql\n",
    "use coffeeshop"
   ]
  },
  {
   "cell_type": "markdown",
   "id": "dc316292-9145-4019-9a57-fa8ee1e9cee8",
   "metadata": {
    "jp-MarkdownHeadingCollapsed": true
   },
   "source": [
    "## Cek Semua Database"
   ]
  },
  {
   "cell_type": "code",
   "execution_count": 4,
   "id": "b47932ad-0032-495b-8780-3da22859ee21",
   "metadata": {},
   "outputs": [
    {
     "data": {
      "text/html": [
       "<table>\n",
       "    <thead>\n",
       "        <tr>\n",
       "            <th>namespace</th>\n",
       "            <th>tableName</th>\n",
       "            <th>isTemporary</th>\n",
       "        </tr>\n",
       "    </thead>\n",
       "    <tbody>\n",
       "        <tr>\n",
       "            <td>coffeeshop</td>\n",
       "            <td>categories</td>\n",
       "            <td>False</td>\n",
       "        </tr>\n",
       "        <tr>\n",
       "            <td>coffeeshop</td>\n",
       "            <td>products</td>\n",
       "            <td>False</td>\n",
       "        </tr>\n",
       "        <tr>\n",
       "            <td>coffeeshop</td>\n",
       "            <td>stores</td>\n",
       "            <td>False</td>\n",
       "        </tr>\n",
       "        <tr>\n",
       "            <td>coffeeshop</td>\n",
       "            <td>transactions</td>\n",
       "            <td>False</td>\n",
       "        </tr>\n",
       "    </tbody>\n",
       "</table>"
      ],
      "text/plain": [
       "+------------+--------------+-------------+\n",
       "|  namespace |    tableName | isTemporary |\n",
       "+------------+--------------+-------------+\n",
       "| coffeeshop |   categories |       False |\n",
       "| coffeeshop |     products |       False |\n",
       "| coffeeshop |       stores |       False |\n",
       "| coffeeshop | transactions |       False |\n",
       "+------------+--------------+-------------+"
      ]
     },
     "execution_count": 4,
     "metadata": {},
     "output_type": "execute_result"
    }
   ],
   "source": [
    "%%sql\n",
    "Show tables"
   ]
  },
  {
   "cell_type": "code",
   "execution_count": 39,
   "id": "5461ea71-6813-416d-8093-46a76912df7a",
   "metadata": {},
   "outputs": [
    {
     "data": {
      "text/html": [
       "<table>\n",
       "    <thead>\n",
       "        <tr>\n",
       "            <th>category_id</th>\n",
       "            <th>category_name</th>\n",
       "        </tr>\n",
       "    </thead>\n",
       "    <tbody>\n",
       "        <tr>\n",
       "            <td>1</td>\n",
       "            <td>Coffee</td>\n",
       "        </tr>\n",
       "        <tr>\n",
       "            <td>2</td>\n",
       "            <td>Non-Coffee</td>\n",
       "        </tr>\n",
       "        <tr>\n",
       "            <td>3</td>\n",
       "            <td>Snacks</td>\n",
       "        </tr>\n",
       "    </tbody>\n",
       "</table>"
      ],
      "text/plain": [
       "+-------------+---------------+\n",
       "| category_id | category_name |\n",
       "+-------------+---------------+\n",
       "|           1 |        Coffee |\n",
       "|           2 |    Non-Coffee |\n",
       "|           3 |        Snacks |\n",
       "+-------------+---------------+"
      ]
     },
     "execution_count": 39,
     "metadata": {},
     "output_type": "execute_result"
    }
   ],
   "source": [
    "%%sql\n",
    "\n",
    "select * from categories"
   ]
  },
  {
   "cell_type": "code",
   "execution_count": 43,
   "id": "5ae242b3-bca8-4bb9-baf8-8c16ac75167d",
   "metadata": {},
   "outputs": [
    {
     "data": {
      "text/html": [
       "<table>\n",
       "    <thead>\n",
       "        <tr>\n",
       "            <th>product_id</th>\n",
       "            <th>product_name</th>\n",
       "            <th>category_id</th>\n",
       "            <th>unit_price</th>\n",
       "        </tr>\n",
       "    </thead>\n",
       "    <tbody>\n",
       "        <tr>\n",
       "            <td>101</td>\n",
       "            <td>Kopi Telur</td>\n",
       "            <td>1</td>\n",
       "            <td>15000</td>\n",
       "        </tr>\n",
       "        <tr>\n",
       "            <td>102</td>\n",
       "            <td>Kopi Kelaga Khas Vietnam</td>\n",
       "            <td>1</td>\n",
       "            <td>17000</td>\n",
       "        </tr>\n",
       "        <tr>\n",
       "            <td>103</td>\n",
       "            <td>Kopi Vietnam Drip</td>\n",
       "            <td>1</td>\n",
       "            <td>15000</td>\n",
       "        </tr>\n",
       "        <tr>\n",
       "            <td>104</td>\n",
       "            <td>Kopi Butter</td>\n",
       "            <td>1</td>\n",
       "            <td>15000</td>\n",
       "        </tr>\n",
       "        <tr>\n",
       "            <td>105</td>\n",
       "            <td>Kopi Susu Kampung</td>\n",
       "            <td>1</td>\n",
       "            <td>10000</td>\n",
       "        </tr>\n",
       "        <tr>\n",
       "            <td>106</td>\n",
       "            <td>Kopi Coklat</td>\n",
       "            <td>1</td>\n",
       "            <td>17000</td>\n",
       "        </tr>\n",
       "        <tr>\n",
       "            <td>107</td>\n",
       "            <td>Es Kopi Susu</td>\n",
       "            <td>1</td>\n",
       "            <td>13000</td>\n",
       "        </tr>\n",
       "        <tr>\n",
       "            <td>108</td>\n",
       "            <td>Es Kopi Hitam</td>\n",
       "            <td>1</td>\n",
       "            <td>9000</td>\n",
       "        </tr>\n",
       "        <tr>\n",
       "            <td>109</td>\n",
       "            <td>Es Kopi Hitam Pake Lemon</td>\n",
       "            <td>1</td>\n",
       "            <td>12000</td>\n",
       "        </tr>\n",
       "        <tr>\n",
       "            <td>110</td>\n",
       "            <td>Drip Bag Coffee</td>\n",
       "            <td>1</td>\n",
       "            <td>19000</td>\n",
       "        </tr>\n",
       "        <tr>\n",
       "            <td>201</td>\n",
       "            <td>Matcha Latte</td>\n",
       "            <td>2</td>\n",
       "            <td>35000</td>\n",
       "        </tr>\n",
       "        <tr>\n",
       "            <td>202</td>\n",
       "            <td>Chocolate</td>\n",
       "            <td>2</td>\n",
       "            <td>38000</td>\n",
       "        </tr>\n",
       "        <tr>\n",
       "            <td>203</td>\n",
       "            <td>Lemon Tea</td>\n",
       "            <td>2</td>\n",
       "            <td>28000</td>\n",
       "        </tr>\n",
       "        <tr>\n",
       "            <td>204</td>\n",
       "            <td>Red Velvet Latte</td>\n",
       "            <td>2</td>\n",
       "            <td>37000</td>\n",
       "        </tr>\n",
       "        <tr>\n",
       "            <td>301</td>\n",
       "            <td>Croissant</td>\n",
       "            <td>3</td>\n",
       "            <td>20000</td>\n",
       "        </tr>\n",
       "        <tr>\n",
       "            <td>302</td>\n",
       "            <td>Brownies</td>\n",
       "            <td>3</td>\n",
       "            <td>25000</td>\n",
       "        </tr>\n",
       "        <tr>\n",
       "            <td>303</td>\n",
       "            <td>Sandwich</td>\n",
       "            <td>3</td>\n",
       "            <td>30000</td>\n",
       "        </tr>\n",
       "        <tr>\n",
       "            <td>304</td>\n",
       "            <td>Cheese Cake</td>\n",
       "            <td>3</td>\n",
       "            <td>35000</td>\n",
       "        </tr>\n",
       "    </tbody>\n",
       "</table>"
      ],
      "text/plain": [
       "+------------+--------------------------+-------------+------------+\n",
       "| product_id |             product_name | category_id | unit_price |\n",
       "+------------+--------------------------+-------------+------------+\n",
       "|        101 |               Kopi Telur |           1 |      15000 |\n",
       "|        102 | Kopi Kelaga Khas Vietnam |           1 |      17000 |\n",
       "|        103 |        Kopi Vietnam Drip |           1 |      15000 |\n",
       "|        104 |              Kopi Butter |           1 |      15000 |\n",
       "|        105 |        Kopi Susu Kampung |           1 |      10000 |\n",
       "|        106 |              Kopi Coklat |           1 |      17000 |\n",
       "|        107 |             Es Kopi Susu |           1 |      13000 |\n",
       "|        108 |            Es Kopi Hitam |           1 |       9000 |\n",
       "|        109 | Es Kopi Hitam Pake Lemon |           1 |      12000 |\n",
       "|        110 |          Drip Bag Coffee |           1 |      19000 |\n",
       "|        201 |             Matcha Latte |           2 |      35000 |\n",
       "|        202 |                Chocolate |           2 |      38000 |\n",
       "|        203 |                Lemon Tea |           2 |      28000 |\n",
       "|        204 |         Red Velvet Latte |           2 |      37000 |\n",
       "|        301 |                Croissant |           3 |      20000 |\n",
       "|        302 |                 Brownies |           3 |      25000 |\n",
       "|        303 |                 Sandwich |           3 |      30000 |\n",
       "|        304 |              Cheese Cake |           3 |      35000 |\n",
       "+------------+--------------------------+-------------+------------+"
      ]
     },
     "execution_count": 43,
     "metadata": {},
     "output_type": "execute_result"
    }
   ],
   "source": [
    "%%sql\n",
    "\n",
    "select * from products"
   ]
  },
  {
   "cell_type": "code",
   "execution_count": 48,
   "id": "cae5f8ea-7bc7-420b-af90-db538328eb81",
   "metadata": {},
   "outputs": [
    {
     "data": {
      "text/html": [
       "<table>\n",
       "    <thead>\n",
       "        <tr>\n",
       "            <th>store_id</th>\n",
       "            <th>store_name</th>\n",
       "            <th>city_name</th>\n",
       "        </tr>\n",
       "    </thead>\n",
       "    <tbody>\n",
       "        <tr>\n",
       "            <td>1</td>\n",
       "            <td>Jue Coffee Bojongsoang</td>\n",
       "            <td>Bandung</td>\n",
       "        </tr>\n",
       "        <tr>\n",
       "            <td>2</td>\n",
       "            <td>Jue Coffee Cijerah</td>\n",
       "            <td>Bandung</td>\n",
       "        </tr>\n",
       "        <tr>\n",
       "            <td>3</td>\n",
       "            <td>Jue Coffee Kuningan</td>\n",
       "            <td>Jakarta</td>\n",
       "        </tr>\n",
       "        <tr>\n",
       "            <td>4</td>\n",
       "            <td>Jue Coffee Tebet</td>\n",
       "            <td>Jakarta</td>\n",
       "        </tr>\n",
       "        <tr>\n",
       "            <td>5</td>\n",
       "            <td>Jue Coffee Dago</td>\n",
       "            <td>Bandung</td>\n",
       "        </tr>\n",
       "        <tr>\n",
       "            <td>6</td>\n",
       "            <td>Jue Coffee Asia Afrika</td>\n",
       "            <td>Bandung</td>\n",
       "        </tr>\n",
       "        <tr>\n",
       "            <td>7</td>\n",
       "            <td>Jue Coffee Buah Batu</td>\n",
       "            <td>Bandung</td>\n",
       "        </tr>\n",
       "        <tr>\n",
       "            <td>8</td>\n",
       "            <td>Jue Coffee Antapani</td>\n",
       "            <td>Bandung</td>\n",
       "        </tr>\n",
       "        <tr>\n",
       "            <td>9</td>\n",
       "            <td>Jue Coffee Setiabudi</td>\n",
       "            <td>Bandung</td>\n",
       "        </tr>\n",
       "        <tr>\n",
       "            <td>10</td>\n",
       "            <td>Jue Coffee Arcamanik</td>\n",
       "            <td>Bandung</td>\n",
       "        </tr>\n",
       "    </tbody>\n",
       "</table>"
      ],
      "text/plain": [
       "+----------+------------------------+-----------+\n",
       "| store_id |             store_name | city_name |\n",
       "+----------+------------------------+-----------+\n",
       "|        1 | Jue Coffee Bojongsoang |   Bandung |\n",
       "|        2 |     Jue Coffee Cijerah |   Bandung |\n",
       "|        3 |    Jue Coffee Kuningan |   Jakarta |\n",
       "|        4 |       Jue Coffee Tebet |   Jakarta |\n",
       "|        5 |        Jue Coffee Dago |   Bandung |\n",
       "|        6 | Jue Coffee Asia Afrika |   Bandung |\n",
       "|        7 |   Jue Coffee Buah Batu |   Bandung |\n",
       "|        8 |    Jue Coffee Antapani |   Bandung |\n",
       "|        9 |   Jue Coffee Setiabudi |   Bandung |\n",
       "|       10 |   Jue Coffee Arcamanik |   Bandung |\n",
       "+----------+------------------------+-----------+"
      ]
     },
     "execution_count": 48,
     "metadata": {},
     "output_type": "execute_result"
    }
   ],
   "source": [
    "%%sql\n",
    "\n",
    "select * from stores limit 10;"
   ]
  },
  {
   "cell_type": "code",
   "execution_count": 38,
   "id": "99df308a-0e62-4114-af1f-a6e25b5bcfd3",
   "metadata": {},
   "outputs": [
    {
     "data": {
      "text/html": [
       "<table>\n",
       "    <thead>\n",
       "        <tr>\n",
       "            <th>transaction_id</th>\n",
       "            <th>datetime</th>\n",
       "            <th>store_id</th>\n",
       "            <th>customer_id</th>\n",
       "            <th>product_id</th>\n",
       "            <th>quantity</th>\n",
       "            <th>payment_method</th>\n",
       "            <th>price</th>\n",
       "        </tr>\n",
       "    </thead>\n",
       "    <tbody>\n",
       "        <tr>\n",
       "            <td>bdd640fb-0667-4ad1-9c80-317fa3b1799d</td>\n",
       "            <td>2023-07-09 17:14:08</td>\n",
       "            <td>48</td>\n",
       "            <td>None</td>\n",
       "            <td>104</td>\n",
       "            <td>4</td>\n",
       "            <td>QRIS</td>\n",
       "            <td>60000</td>\n",
       "        </tr>\n",
       "        <tr>\n",
       "            <td>07a0ca6e-0822-48f3-ac03-1199972a8469</td>\n",
       "            <td>2023-07-03 17:14:32</td>\n",
       "            <td>39</td>\n",
       "            <td>None</td>\n",
       "            <td>101</td>\n",
       "            <td>4</td>\n",
       "            <td>Gopay</td>\n",
       "            <td>60000</td>\n",
       "        </tr>\n",
       "        <tr>\n",
       "            <td>8b8148f6-b38a-488c-a65e-d389b74d0fb1</td>\n",
       "            <td>2023-07-14 12:28:37</td>\n",
       "            <td>18</td>\n",
       "            <td>None</td>\n",
       "            <td>101</td>\n",
       "            <td>1</td>\n",
       "            <td>Debit card</td>\n",
       "            <td>15000</td>\n",
       "        </tr>\n",
       "        <tr>\n",
       "            <td>371ecd7b-27cd-4130-8722-9389571aa876</td>\n",
       "            <td>2023-07-25 13:06:05</td>\n",
       "            <td>25</td>\n",
       "            <td>None</td>\n",
       "            <td>104</td>\n",
       "            <td>2</td>\n",
       "            <td>DANA</td>\n",
       "            <td>30000</td>\n",
       "        </tr>\n",
       "        <tr>\n",
       "            <td>0b1f9163-ce9f-457f-83b7-a3a69a8dca03</td>\n",
       "            <td>2023-07-24 09:34:07</td>\n",
       "            <td>25</td>\n",
       "            <td>None</td>\n",
       "            <td>103</td>\n",
       "            <td>4</td>\n",
       "            <td>ShopeePay</td>\n",
       "            <td>60000</td>\n",
       "        </tr>\n",
       "        <tr>\n",
       "            <td>e2acf72f-9e57-4f7a-a0ee-89aed453dd32</td>\n",
       "            <td>2023-07-28 20:36:12</td>\n",
       "            <td>46</td>\n",
       "            <td>None</td>\n",
       "            <td>103</td>\n",
       "            <td>1</td>\n",
       "            <td>Gopay</td>\n",
       "            <td>15000</td>\n",
       "        </tr>\n",
       "        <tr>\n",
       "            <td>146d3f31-fc37-4a4c-8a15-544dc5e7ce8a</td>\n",
       "            <td>2023-07-28 17:55:06</td>\n",
       "            <td>25</td>\n",
       "            <td>None</td>\n",
       "            <td>109</td>\n",
       "            <td>2</td>\n",
       "            <td>DANA</td>\n",
       "            <td>24000</td>\n",
       "        </tr>\n",
       "        <tr>\n",
       "            <td>35a240ae-5af3-4553-9ec4-2e0829a3b2e9</td>\n",
       "            <td>2023-07-22 13:44:59</td>\n",
       "            <td>44</td>\n",
       "            <td>None</td>\n",
       "            <td>103</td>\n",
       "            <td>1</td>\n",
       "            <td>Gopay</td>\n",
       "            <td>15000</td>\n",
       "        </tr>\n",
       "        <tr>\n",
       "            <td>451b4cf3-6123-4df7-b656-af7229d4beef</td>\n",
       "            <td>2023-07-30 10:43:20</td>\n",
       "            <td>54</td>\n",
       "            <td>None</td>\n",
       "            <td>102</td>\n",
       "            <td>1</td>\n",
       "            <td>Cash</td>\n",
       "            <td>17000</td>\n",
       "        </tr>\n",
       "        <tr>\n",
       "            <td>448aaa9e-66b2-4c5b-90c1-87fcce177b4e</td>\n",
       "            <td>2023-07-03 17:58:36</td>\n",
       "            <td>46</td>\n",
       "            <td>None</td>\n",
       "            <td>201</td>\n",
       "            <td>1</td>\n",
       "            <td>Credit card</td>\n",
       "            <td>35000</td>\n",
       "        </tr>\n",
       "    </tbody>\n",
       "</table>"
      ],
      "text/plain": [
       "+--------------------------------------+---------------------+----------+-------------+------------+----------+----------------+-------+\n",
       "|                       transaction_id |            datetime | store_id | customer_id | product_id | quantity | payment_method | price |\n",
       "+--------------------------------------+---------------------+----------+-------------+------------+----------+----------------+-------+\n",
       "| bdd640fb-0667-4ad1-9c80-317fa3b1799d | 2023-07-09 17:14:08 |       48 |        None |        104 |        4 |           QRIS | 60000 |\n",
       "| 07a0ca6e-0822-48f3-ac03-1199972a8469 | 2023-07-03 17:14:32 |       39 |        None |        101 |        4 |          Gopay | 60000 |\n",
       "| 8b8148f6-b38a-488c-a65e-d389b74d0fb1 | 2023-07-14 12:28:37 |       18 |        None |        101 |        1 |     Debit card | 15000 |\n",
       "| 371ecd7b-27cd-4130-8722-9389571aa876 | 2023-07-25 13:06:05 |       25 |        None |        104 |        2 |           DANA | 30000 |\n",
       "| 0b1f9163-ce9f-457f-83b7-a3a69a8dca03 | 2023-07-24 09:34:07 |       25 |        None |        103 |        4 |      ShopeePay | 60000 |\n",
       "| e2acf72f-9e57-4f7a-a0ee-89aed453dd32 | 2023-07-28 20:36:12 |       46 |        None |        103 |        1 |          Gopay | 15000 |\n",
       "| 146d3f31-fc37-4a4c-8a15-544dc5e7ce8a | 2023-07-28 17:55:06 |       25 |        None |        109 |        2 |           DANA | 24000 |\n",
       "| 35a240ae-5af3-4553-9ec4-2e0829a3b2e9 | 2023-07-22 13:44:59 |       44 |        None |        103 |        1 |          Gopay | 15000 |\n",
       "| 451b4cf3-6123-4df7-b656-af7229d4beef | 2023-07-30 10:43:20 |       54 |        None |        102 |        1 |           Cash | 17000 |\n",
       "| 448aaa9e-66b2-4c5b-90c1-87fcce177b4e | 2023-07-03 17:58:36 |       46 |        None |        201 |        1 |    Credit card | 35000 |\n",
       "+--------------------------------------+---------------------+----------+-------------+------------+----------+----------------+-------+"
      ]
     },
     "execution_count": 38,
     "metadata": {},
     "output_type": "execute_result"
    }
   ],
   "source": [
    "%%sql\n",
    "\n",
    "Select * from transactions limit 10"
   ]
  },
  {
   "cell_type": "markdown",
   "id": "06507d8b-8e41-41b9-ab24-9d20c0365528",
   "metadata": {
    "jp-MarkdownHeadingCollapsed": true
   },
   "source": [
    "## 1. Jumlah Dataset"
   ]
  },
  {
   "cell_type": "code",
   "execution_count": 71,
   "id": "4c7abd58-c840-4249-86a5-9c724c5a57eb",
   "metadata": {},
   "outputs": [
    {
     "data": {
      "text/html": [
       "<table>\n",
       "    <thead>\n",
       "        <tr>\n",
       "            <th>Total_Transaksi</th>\n",
       "        </tr>\n",
       "    </thead>\n",
       "    <tbody>\n",
       "        <tr>\n",
       "            <td>1000000</td>\n",
       "        </tr>\n",
       "    </tbody>\n",
       "</table>"
      ],
      "text/plain": [
       "+-----------------+\n",
       "| Total_Transaksi |\n",
       "+-----------------+\n",
       "|         1000000 |\n",
       "+-----------------+"
      ]
     },
     "execution_count": 71,
     "metadata": {},
     "output_type": "execute_result"
    }
   ],
   "source": [
    "%%sql\n",
    "Select Count(*) as Total_Transaksi from transactions \n"
   ]
  },
  {
   "cell_type": "code",
   "execution_count": 72,
   "id": "5a610e64-1f18-4938-9965-2cd617f7ed75",
   "metadata": {},
   "outputs": [
    {
     "data": {
      "text/html": [
       "<table>\n",
       "    <thead>\n",
       "        <tr>\n",
       "            <th>Total_Toko</th>\n",
       "        </tr>\n",
       "    </thead>\n",
       "    <tbody>\n",
       "        <tr>\n",
       "            <td>54</td>\n",
       "        </tr>\n",
       "    </tbody>\n",
       "</table>"
      ],
      "text/plain": [
       "+------------+\n",
       "| Total_Toko |\n",
       "+------------+\n",
       "|         54 |\n",
       "+------------+"
      ]
     },
     "execution_count": 72,
     "metadata": {},
     "output_type": "execute_result"
    }
   ],
   "source": [
    "%%sql\n",
    "Select Count(*) as Total_Toko from stores\n"
   ]
  },
  {
   "cell_type": "code",
   "execution_count": 73,
   "id": "3247c6f0-b5b4-4eb7-aed6-85104f63914e",
   "metadata": {},
   "outputs": [
    {
     "data": {
      "text/html": [
       "<table>\n",
       "    <thead>\n",
       "        <tr>\n",
       "            <th>Total_Produk</th>\n",
       "        </tr>\n",
       "    </thead>\n",
       "    <tbody>\n",
       "        <tr>\n",
       "            <td>18</td>\n",
       "        </tr>\n",
       "    </tbody>\n",
       "</table>"
      ],
      "text/plain": [
       "+--------------+\n",
       "| Total_Produk |\n",
       "+--------------+\n",
       "|           18 |\n",
       "+--------------+"
      ]
     },
     "execution_count": 73,
     "metadata": {},
     "output_type": "execute_result"
    }
   ],
   "source": [
    "%%sql\n",
    "Select Count(*) as Total_Produk from products \n"
   ]
  },
  {
   "cell_type": "code",
   "execution_count": 74,
   "id": "10d2dfdf-8ca4-4d59-80e5-c48ca5d285b5",
   "metadata": {},
   "outputs": [
    {
     "data": {
      "text/html": [
       "<table>\n",
       "    <thead>\n",
       "        <tr>\n",
       "            <th>Total_Kategori</th>\n",
       "        </tr>\n",
       "    </thead>\n",
       "    <tbody>\n",
       "        <tr>\n",
       "            <td>3</td>\n",
       "        </tr>\n",
       "    </tbody>\n",
       "</table>"
      ],
      "text/plain": [
       "+----------------+\n",
       "| Total_Kategori |\n",
       "+----------------+\n",
       "|              3 |\n",
       "+----------------+"
      ]
     },
     "execution_count": 74,
     "metadata": {},
     "output_type": "execute_result"
    }
   ],
   "source": [
    "%%sql\n",
    "Select Count(*) as Total_Kategori from categories \n"
   ]
  },
  {
   "cell_type": "markdown",
   "id": "2f1b5540-7ef7-40fb-b5be-55bf706bf5f0",
   "metadata": {},
   "source": [
    "Maka Total Dataset 1000075"
   ]
  },
  {
   "cell_type": "markdown",
   "id": "b989a7b9-3c03-4622-9321-4c0abc181f74",
   "metadata": {
    "jp-MarkdownHeadingCollapsed": true
   },
   "source": [
    "## 2. Jumlah Hari"
   ]
  },
  {
   "cell_type": "code",
   "execution_count": 15,
   "id": "90baec0d-2fd0-4851-bf45-ca87875aa728",
   "metadata": {},
   "outputs": [
    {
     "data": {
      "text/html": [
       "<table>\n",
       "    <thead>\n",
       "        <tr>\n",
       "            <th>Jumlah_Hari</th>\n",
       "        </tr>\n",
       "    </thead>\n",
       "    <tbody>\n",
       "        <tr>\n",
       "            <td>30</td>\n",
       "        </tr>\n",
       "    </tbody>\n",
       "</table>"
      ],
      "text/plain": [
       "+-------------+\n",
       "| Jumlah_Hari |\n",
       "+-------------+\n",
       "|          30 |\n",
       "+-------------+"
      ]
     },
     "execution_count": 15,
     "metadata": {},
     "output_type": "execute_result"
    }
   ],
   "source": [
    "%%sql\n",
    "\n",
    "select count(distinct date(datetime)) as Jumlah_Hari from transactions"
   ]
  },
  {
   "cell_type": "markdown",
   "id": "d3e012ba-a6a6-4b8e-8524-23fe371b1064",
   "metadata": {},
   "source": [
    "Terdapat 30 Hari Dalam Database Transaksi"
   ]
  },
  {
   "cell_type": "markdown",
   "id": "ffb086b8-d196-49f6-be69-2091a69c3350",
   "metadata": {
    "jp-MarkdownHeadingCollapsed": true
   },
   "source": [
    "## 3. Maximum dan Mininum sebuah pembelian"
   ]
  },
  {
   "cell_type": "code",
   "execution_count": 18,
   "id": "0865765e-d72e-4f8e-b439-3c114eb59ffd",
   "metadata": {},
   "outputs": [
    {
     "data": {
      "text/html": [
       "<table>\n",
       "    <thead>\n",
       "        <tr>\n",
       "            <th>Max_Pembelian</th>\n",
       "            <th>Min_Pembelian</th>\n",
       "        </tr>\n",
       "    </thead>\n",
       "    <tbody>\n",
       "        <tr>\n",
       "            <td>4</td>\n",
       "            <td>1</td>\n",
       "        </tr>\n",
       "    </tbody>\n",
       "</table>"
      ],
      "text/plain": [
       "+---------------+---------------+\n",
       "| Max_Pembelian | Min_Pembelian |\n",
       "+---------------+---------------+\n",
       "|             4 |             1 |\n",
       "+---------------+---------------+"
      ]
     },
     "execution_count": 18,
     "metadata": {},
     "output_type": "execute_result"
    }
   ],
   "source": [
    "%%sql\n",
    "\n",
    "select MAX(quantity) as Max_Pembelian, Min(quantity) as Min_Pembelian from transactions"
   ]
  },
  {
   "cell_type": "markdown",
   "id": "87fafbf7-2bd3-4c2e-adab-0c569ee1d6cf",
   "metadata": {},
   "source": [
    "Maximum sebuah pembelian adalah 4 buah dan minimum sebuah pembelian adalah 1 buah"
   ]
  },
  {
   "cell_type": "markdown",
   "id": "d794caa1-ed5e-4510-96c2-e9584dedf860",
   "metadata": {
    "jp-MarkdownHeadingCollapsed": true
   },
   "source": [
    "## 4. Total Jenis Pemabayaran"
   ]
  },
  {
   "cell_type": "code",
   "execution_count": 19,
   "id": "a83eca17-5e42-40b2-922b-f3d90f6edfca",
   "metadata": {},
   "outputs": [
    {
     "data": {
      "text/html": [
       "<table>\n",
       "    <thead>\n",
       "        <tr>\n",
       "            <th>Jenis_Pembayaran</th>\n",
       "        </tr>\n",
       "    </thead>\n",
       "    <tbody>\n",
       "        <tr>\n",
       "            <td>8</td>\n",
       "        </tr>\n",
       "    </tbody>\n",
       "</table>"
      ],
      "text/plain": [
       "+------------------+\n",
       "| Jenis_Pembayaran |\n",
       "+------------------+\n",
       "|                8 |\n",
       "+------------------+"
      ]
     },
     "execution_count": 19,
     "metadata": {},
     "output_type": "execute_result"
    }
   ],
   "source": [
    "%%sql\n",
    "\n",
    "select count(distinct payment_method) as Jenis_Pembayaran from transactions"
   ]
  },
  {
   "cell_type": "markdown",
   "id": "154584cc-2b8c-4eee-b8ae-61de4dde4909",
   "metadata": {},
   "source": [
    "Terdapat 8 Jenis Pembayaran"
   ]
  },
  {
   "cell_type": "markdown",
   "id": "bfd7147d-5b1a-4447-8b44-fd3ae3a25d9a",
   "metadata": {
    "jp-MarkdownHeadingCollapsed": true
   },
   "source": [
    "## 5. Menghitung Berapa Customer Yang NULL"
   ]
  },
  {
   "cell_type": "code",
   "execution_count": 37,
   "id": "7c2b3b7b-e166-4809-ab6d-291d3ab57c90",
   "metadata": {},
   "outputs": [
    {
     "data": {
      "text/html": [
       "<table>\n",
       "    <thead>\n",
       "        <tr>\n",
       "            <th>Customer_Null</th>\n",
       "        </tr>\n",
       "    </thead>\n",
       "    <tbody>\n",
       "        <tr>\n",
       "            <td>1000000</td>\n",
       "        </tr>\n",
       "    </tbody>\n",
       "</table>"
      ],
      "text/plain": [
       "+---------------+\n",
       "| Customer_Null |\n",
       "+---------------+\n",
       "|       1000000 |\n",
       "+---------------+"
      ]
     },
     "execution_count": 37,
     "metadata": {},
     "output_type": "execute_result"
    }
   ],
   "source": [
    "%%sql\n",
    "select count(*) as Customer_Null from transactions where customer_id is null;"
   ]
  },
  {
   "cell_type": "markdown",
   "id": "e588a652-2995-4e8e-b3aa-fc5d1792bf33",
   "metadata": {},
   "source": [
    "Terdapat 1000000 Customer_id yang NULL"
   ]
  },
  {
   "cell_type": "markdown",
   "id": "1fa9b7cc-50e6-4449-9688-1ddf9e7ecdeb",
   "metadata": {
    "jp-MarkdownHeadingCollapsed": true
   },
   "source": [
    "## 6. Jumlah Transaksi Penjualan"
   ]
  },
  {
   "cell_type": "code",
   "execution_count": 70,
   "id": "17dc6f9d-044e-4230-a41a-905ae72f1734",
   "metadata": {},
   "outputs": [
    {
     "data": {
      "text/html": [
       "<table>\n",
       "    <thead>\n",
       "        <tr>\n",
       "            <th>Hari</th>\n",
       "            <th>Transaksi</th>\n",
       "            <th>Total_Revenue</th>\n",
       "        </tr>\n",
       "    </thead>\n",
       "    <tbody>\n",
       "        <tr>\n",
       "            <td>2023-07-01</td>\n",
       "            <td>33403</td>\n",
       "            <td>1204709000</td>\n",
       "        </tr>\n",
       "        <tr>\n",
       "            <td>2023-07-02</td>\n",
       "            <td>33435</td>\n",
       "            <td>1207624000</td>\n",
       "        </tr>\n",
       "        <tr>\n",
       "            <td>2023-07-03</td>\n",
       "            <td>33364</td>\n",
       "            <td>1203941000</td>\n",
       "        </tr>\n",
       "        <tr>\n",
       "            <td>2023-07-04</td>\n",
       "            <td>33302</td>\n",
       "            <td>1204213000</td>\n",
       "        </tr>\n",
       "        <tr>\n",
       "            <td>2023-07-05</td>\n",
       "            <td>33324</td>\n",
       "            <td>1209537000</td>\n",
       "        </tr>\n",
       "        <tr>\n",
       "            <td>2023-07-06</td>\n",
       "            <td>33467</td>\n",
       "            <td>1209819000</td>\n",
       "        </tr>\n",
       "        <tr>\n",
       "            <td>2023-07-07</td>\n",
       "            <td>33400</td>\n",
       "            <td>1199825000</td>\n",
       "        </tr>\n",
       "        <tr>\n",
       "            <td>2023-07-08</td>\n",
       "            <td>33446</td>\n",
       "            <td>1206245000</td>\n",
       "        </tr>\n",
       "        <tr>\n",
       "            <td>2023-07-09</td>\n",
       "            <td>33210</td>\n",
       "            <td>1201149000</td>\n",
       "        </tr>\n",
       "        <tr>\n",
       "            <td>2023-07-10</td>\n",
       "            <td>33632</td>\n",
       "            <td>1218836000</td>\n",
       "        </tr>\n",
       "        <tr>\n",
       "            <td>2023-07-11</td>\n",
       "            <td>33512</td>\n",
       "            <td>1206927000</td>\n",
       "        </tr>\n",
       "        <tr>\n",
       "            <td>2023-07-12</td>\n",
       "            <td>33244</td>\n",
       "            <td>1204468000</td>\n",
       "        </tr>\n",
       "        <tr>\n",
       "            <td>2023-07-13</td>\n",
       "            <td>33252</td>\n",
       "            <td>1205719000</td>\n",
       "        </tr>\n",
       "        <tr>\n",
       "            <td>2023-07-14</td>\n",
       "            <td>33230</td>\n",
       "            <td>1194160000</td>\n",
       "        </tr>\n",
       "        <tr>\n",
       "            <td>2023-07-15</td>\n",
       "            <td>33354</td>\n",
       "            <td>1202659000</td>\n",
       "        </tr>\n",
       "        <tr>\n",
       "            <td>2023-07-16</td>\n",
       "            <td>33373</td>\n",
       "            <td>1207032000</td>\n",
       "        </tr>\n",
       "        <tr>\n",
       "            <td>2023-07-17</td>\n",
       "            <td>33304</td>\n",
       "            <td>1209939000</td>\n",
       "        </tr>\n",
       "        <tr>\n",
       "            <td>2023-07-18</td>\n",
       "            <td>32974</td>\n",
       "            <td>1187088000</td>\n",
       "        </tr>\n",
       "        <tr>\n",
       "            <td>2023-07-19</td>\n",
       "            <td>33344</td>\n",
       "            <td>1201890000</td>\n",
       "        </tr>\n",
       "        <tr>\n",
       "            <td>2023-07-20</td>\n",
       "            <td>33500</td>\n",
       "            <td>1209653000</td>\n",
       "        </tr>\n",
       "        <tr>\n",
       "            <td>2023-07-21</td>\n",
       "            <td>32910</td>\n",
       "            <td>1184348000</td>\n",
       "        </tr>\n",
       "        <tr>\n",
       "            <td>2023-07-22</td>\n",
       "            <td>33302</td>\n",
       "            <td>1193814000</td>\n",
       "        </tr>\n",
       "        <tr>\n",
       "            <td>2023-07-23</td>\n",
       "            <td>33074</td>\n",
       "            <td>1192013000</td>\n",
       "        </tr>\n",
       "        <tr>\n",
       "            <td>2023-07-24</td>\n",
       "            <td>33634</td>\n",
       "            <td>1209558000</td>\n",
       "        </tr>\n",
       "        <tr>\n",
       "            <td>2023-07-25</td>\n",
       "            <td>33514</td>\n",
       "            <td>1204470000</td>\n",
       "        </tr>\n",
       "        <tr>\n",
       "            <td>2023-07-26</td>\n",
       "            <td>33076</td>\n",
       "            <td>1190571000</td>\n",
       "        </tr>\n",
       "        <tr>\n",
       "            <td>2023-07-27</td>\n",
       "            <td>33381</td>\n",
       "            <td>1199779000</td>\n",
       "        </tr>\n",
       "        <tr>\n",
       "            <td>2023-07-28</td>\n",
       "            <td>33260</td>\n",
       "            <td>1197197000</td>\n",
       "        </tr>\n",
       "        <tr>\n",
       "            <td>2023-07-29</td>\n",
       "            <td>33283</td>\n",
       "            <td>1209655000</td>\n",
       "        </tr>\n",
       "        <tr>\n",
       "            <td>2023-07-30</td>\n",
       "            <td>33496</td>\n",
       "            <td>1200399000</td>\n",
       "        </tr>\n",
       "    </tbody>\n",
       "</table>"
      ],
      "text/plain": [
       "+------------+-----------+---------------+\n",
       "|       Hari | Transaksi | Total_Revenue |\n",
       "+------------+-----------+---------------+\n",
       "| 2023-07-01 |     33403 |    1204709000 |\n",
       "| 2023-07-02 |     33435 |    1207624000 |\n",
       "| 2023-07-03 |     33364 |    1203941000 |\n",
       "| 2023-07-04 |     33302 |    1204213000 |\n",
       "| 2023-07-05 |     33324 |    1209537000 |\n",
       "| 2023-07-06 |     33467 |    1209819000 |\n",
       "| 2023-07-07 |     33400 |    1199825000 |\n",
       "| 2023-07-08 |     33446 |    1206245000 |\n",
       "| 2023-07-09 |     33210 |    1201149000 |\n",
       "| 2023-07-10 |     33632 |    1218836000 |\n",
       "| 2023-07-11 |     33512 |    1206927000 |\n",
       "| 2023-07-12 |     33244 |    1204468000 |\n",
       "| 2023-07-13 |     33252 |    1205719000 |\n",
       "| 2023-07-14 |     33230 |    1194160000 |\n",
       "| 2023-07-15 |     33354 |    1202659000 |\n",
       "| 2023-07-16 |     33373 |    1207032000 |\n",
       "| 2023-07-17 |     33304 |    1209939000 |\n",
       "| 2023-07-18 |     32974 |    1187088000 |\n",
       "| 2023-07-19 |     33344 |    1201890000 |\n",
       "| 2023-07-20 |     33500 |    1209653000 |\n",
       "| 2023-07-21 |     32910 |    1184348000 |\n",
       "| 2023-07-22 |     33302 |    1193814000 |\n",
       "| 2023-07-23 |     33074 |    1192013000 |\n",
       "| 2023-07-24 |     33634 |    1209558000 |\n",
       "| 2023-07-25 |     33514 |    1204470000 |\n",
       "| 2023-07-26 |     33076 |    1190571000 |\n",
       "| 2023-07-27 |     33381 |    1199779000 |\n",
       "| 2023-07-28 |     33260 |    1197197000 |\n",
       "| 2023-07-29 |     33283 |    1209655000 |\n",
       "| 2023-07-30 |     33496 |    1200399000 |\n",
       "+------------+-----------+---------------+"
      ]
     },
     "execution_count": 70,
     "metadata": {},
     "output_type": "execute_result"
    }
   ],
   "source": [
    "%%sql\n",
    "\n",
    "Select\n",
    "    date(datetime) as Hari,\n",
    "    count(*) as Transaksi,\n",
    "    sum(price) as Total_Revenue\n",
    "from transactions\n",
    "group by date(datetime)\n",
    "order by Hari"
   ]
  },
  {
   "cell_type": "markdown",
   "id": "e2da8cb8-9904-4e04-b872-5e704c67670f",
   "metadata": {
    "jp-MarkdownHeadingCollapsed": true
   },
   "source": [
    "## 7. Total Kategori Yang Terjual"
   ]
  },
  {
   "cell_type": "code",
   "execution_count": 68,
   "id": "ecd659a8-2f09-4209-aa10-129ce6f5988b",
   "metadata": {},
   "outputs": [
    {
     "data": {
      "text/html": [
       "<table>\n",
       "    <thead>\n",
       "        <tr>\n",
       "            <th>Kategori</th>\n",
       "            <th>Quantity</th>\n",
       "        </tr>\n",
       "    </thead>\n",
       "    <tbody>\n",
       "        <tr>\n",
       "            <td>Coffee</td>\n",
       "            <td>925415</td>\n",
       "        </tr>\n",
       "        <tr>\n",
       "            <td>Non-Coffee</td>\n",
       "            <td>369924</td>\n",
       "        </tr>\n",
       "        <tr>\n",
       "            <td>Snacks</td>\n",
       "            <td>369891</td>\n",
       "        </tr>\n",
       "    </tbody>\n",
       "</table>"
      ],
      "text/plain": [
       "+------------+----------+\n",
       "|   Kategori | Quantity |\n",
       "+------------+----------+\n",
       "|     Coffee |   925415 |\n",
       "| Non-Coffee |   369924 |\n",
       "|     Snacks |   369891 |\n",
       "+------------+----------+"
      ]
     },
     "execution_count": 68,
     "metadata": {},
     "output_type": "execute_result"
    }
   ],
   "source": [
    "%%sql\n",
    "select\n",
    "    c.category_name as Kategori,\n",
    "    sum(t.quantity) as Quantity\n",
    "from transactions t\n",
    "join products p on p.product_id = t.product_id\n",
    "join categories c on c.category_id = p.category_id\n",
    "Group by Kategori"
   ]
  },
  {
   "cell_type": "markdown",
   "id": "846345b5-f307-4ebc-85cb-5bb7da1965e6",
   "metadata": {},
   "source": [
    "- Barang **Coffee** terjual dengan **925415** buah\n",
    "- Barang **Non-Coffee**\tterjual dengan **369924** buah\n",
    "- Barang **Snacks** terjual dengan **369891** buah\n"
   ]
  },
  {
   "cell_type": "markdown",
   "id": "fa3c6dac-cb2d-48b2-b9f8-9cac4ba600ab",
   "metadata": {
    "jp-MarkdownHeadingCollapsed": true
   },
   "source": [
    "## 8. Produk Top 5\n"
   ]
  },
  {
   "cell_type": "code",
   "execution_count": 84,
   "id": "f012cc0b-6a18-4ab8-a275-284119102147",
   "metadata": {},
   "outputs": [
    {
     "data": {
      "text/html": [
       "<table>\n",
       "    <thead>\n",
       "        <tr>\n",
       "            <th>Nama_Produk</th>\n",
       "            <th>Quantity</th>\n",
       "            <th>Total_Penjualan</th>\n",
       "        </tr>\n",
       "    </thead>\n",
       "    <tbody>\n",
       "        <tr>\n",
       "            <td>Cheese Cake</td>\n",
       "            <td>93327</td>\n",
       "            <td>3266445000</td>\n",
       "        </tr>\n",
       "        <tr>\n",
       "            <td>Kopi Telur</td>\n",
       "            <td>93222</td>\n",
       "            <td>1398330000</td>\n",
       "        </tr>\n",
       "        <tr>\n",
       "            <td>Kopi Kelaga Khas Vietnam</td>\n",
       "            <td>93053</td>\n",
       "            <td>1581901000</td>\n",
       "        </tr>\n",
       "        <tr>\n",
       "            <td>Kopi Susu Kampung</td>\n",
       "            <td>92915</td>\n",
       "            <td>929150000</td>\n",
       "        </tr>\n",
       "        <tr>\n",
       "            <td>Es Kopi Hitam Pake Lemon</td>\n",
       "            <td>92839</td>\n",
       "            <td>1114068000</td>\n",
       "        </tr>\n",
       "    </tbody>\n",
       "</table>"
      ],
      "text/plain": [
       "+--------------------------+----------+-----------------+\n",
       "|              Nama_Produk | Quantity | Total_Penjualan |\n",
       "+--------------------------+----------+-----------------+\n",
       "|              Cheese Cake |    93327 |      3266445000 |\n",
       "|               Kopi Telur |    93222 |      1398330000 |\n",
       "| Kopi Kelaga Khas Vietnam |    93053 |      1581901000 |\n",
       "|        Kopi Susu Kampung |    92915 |       929150000 |\n",
       "| Es Kopi Hitam Pake Lemon |    92839 |      1114068000 |\n",
       "+--------------------------+----------+-----------------+"
      ]
     },
     "execution_count": 84,
     "metadata": {},
     "output_type": "execute_result"
    }
   ],
   "source": [
    "%%sql\n",
    "\n",
    "select\n",
    "    p.product_name as Nama_Produk,\n",
    "    sum(t.quantity) as Quantity,\n",
    "    sum(t.price) as Total_Penjualan\n",
    "from transactions t\n",
    "join products p on t.product_id = p.product_id\n",
    "group by Nama_Produk\n",
    "order by Quantity DESC\n",
    "limit 5;"
   ]
  },
  {
   "cell_type": "markdown",
   "id": "17b50e33-9839-4625-91fe-ccc5c3d84ce0",
   "metadata": {},
   "source": [
    "Top 5 Produk Adalah:\n",
    "- **Cheese Cake** dengan **93327** Buah Terjual\n",
    "- **Kopi Telur** dengan **93222** Buah Terjual\n",
    "- **Kopi Kelaga Khas Vietnam** dengan **93053** Buah Terjual\n",
    "- **Kopi Susu Kampung** dengan **92915** Buah Terjual\n",
    "- **Es Kopi Hitam Pake Lemon** dengan **92839** Buah Terjual"
   ]
  },
  {
   "cell_type": "markdown",
   "id": "1c3ab22d-aca4-4639-a4bd-1fb1d0dd4d20",
   "metadata": {
    "jp-MarkdownHeadingCollapsed": true
   },
   "source": [
    "## 9. Jumlah Transaksi Per Toko Per Hari"
   ]
  },
  {
   "cell_type": "code",
   "execution_count": 88,
   "id": "bfd4acf2-a70e-40b9-aaa4-7438bf1d7f7d",
   "metadata": {},
   "outputs": [
    {
     "data": {
      "text/html": [
       "<table>\n",
       "    <thead>\n",
       "        <tr>\n",
       "            <th>Hari</th>\n",
       "            <th>Toko</th>\n",
       "            <th>Transaksi</th>\n",
       "            <th>Total_Penjualan</th>\n",
       "        </tr>\n",
       "    </thead>\n",
       "    <tbody>\n",
       "        <tr>\n",
       "            <td>2023-07-01</td>\n",
       "            <td>Jue Coffee Antapani</td>\n",
       "            <td>635</td>\n",
       "            <td>23826000</td>\n",
       "        </tr>\n",
       "        <tr>\n",
       "            <td>2023-07-01</td>\n",
       "            <td>Jue Coffee Arcamanik</td>\n",
       "            <td>593</td>\n",
       "            <td>21702000</td>\n",
       "        </tr>\n",
       "        <tr>\n",
       "            <td>2023-07-01</td>\n",
       "            <td>Jue Coffee Asia Afrika</td>\n",
       "            <td>644</td>\n",
       "            <td>23986000</td>\n",
       "        </tr>\n",
       "        <tr>\n",
       "            <td>2023-07-01</td>\n",
       "            <td>Jue Coffee Blok M</td>\n",
       "            <td>610</td>\n",
       "            <td>22325000</td>\n",
       "        </tr>\n",
       "        <tr>\n",
       "            <td>2023-07-01</td>\n",
       "            <td>Jue Coffee Bojongsoang</td>\n",
       "            <td>595</td>\n",
       "            <td>21420000</td>\n",
       "        </tr>\n",
       "        <tr>\n",
       "            <td>2023-07-01</td>\n",
       "            <td>Jue Coffee Buah Batu</td>\n",
       "            <td>689</td>\n",
       "            <td>23976000</td>\n",
       "        </tr>\n",
       "        <tr>\n",
       "            <td>2023-07-01</td>\n",
       "            <td>Jue Coffee Cempaka Putih</td>\n",
       "            <td>612</td>\n",
       "            <td>22810000</td>\n",
       "        </tr>\n",
       "        <tr>\n",
       "            <td>2023-07-01</td>\n",
       "            <td>Jue Coffee Cihampelas</td>\n",
       "            <td>616</td>\n",
       "            <td>20877000</td>\n",
       "        </tr>\n",
       "        <tr>\n",
       "            <td>2023-07-01</td>\n",
       "            <td>Jue Coffee Cihapit</td>\n",
       "            <td>550</td>\n",
       "            <td>19051000</td>\n",
       "        </tr>\n",
       "        <tr>\n",
       "            <td>2023-07-01</td>\n",
       "            <td>Jue Coffee Cijerah</td>\n",
       "            <td>626</td>\n",
       "            <td>23356000</td>\n",
       "        </tr>\n",
       "    </tbody>\n",
       "</table>"
      ],
      "text/plain": [
       "+------------+--------------------------+-----------+-----------------+\n",
       "|       Hari |                     Toko | Transaksi | Total_Penjualan |\n",
       "+------------+--------------------------+-----------+-----------------+\n",
       "| 2023-07-01 |      Jue Coffee Antapani |       635 |        23826000 |\n",
       "| 2023-07-01 |     Jue Coffee Arcamanik |       593 |        21702000 |\n",
       "| 2023-07-01 |   Jue Coffee Asia Afrika |       644 |        23986000 |\n",
       "| 2023-07-01 |        Jue Coffee Blok M |       610 |        22325000 |\n",
       "| 2023-07-01 |   Jue Coffee Bojongsoang |       595 |        21420000 |\n",
       "| 2023-07-01 |     Jue Coffee Buah Batu |       689 |        23976000 |\n",
       "| 2023-07-01 | Jue Coffee Cempaka Putih |       612 |        22810000 |\n",
       "| 2023-07-01 |    Jue Coffee Cihampelas |       616 |        20877000 |\n",
       "| 2023-07-01 |       Jue Coffee Cihapit |       550 |        19051000 |\n",
       "| 2023-07-01 |       Jue Coffee Cijerah |       626 |        23356000 |\n",
       "+------------+--------------------------+-----------+-----------------+"
      ]
     },
     "execution_count": 88,
     "metadata": {},
     "output_type": "execute_result"
    }
   ],
   "source": [
    "%%sql\n",
    "\n",
    "select\n",
    "    Date(t.datetime) as Hari,\n",
    "    s.store_name as Toko,\n",
    "    count(*) as Transaksi,\n",
    "    sum(t.price) as Total_Penjualan\n",
    "from transactions t\n",
    "join stores s on t.store_id = s.store_id\n",
    "group by Hari, Toko\n",
    "order by Hari, Toko\n",
    "limit 10"
   ]
  },
  {
   "cell_type": "markdown",
   "id": "98e4f211-6815-4fcb-bc0c-c4207b69e233",
   "metadata": {
    "jp-MarkdownHeadingCollapsed": true
   },
   "source": [
    "## 10. Toko Paling Ramai"
   ]
  },
  {
   "cell_type": "code",
   "execution_count": 60,
   "id": "433b514c-39c1-4501-bde7-e25677c50591",
   "metadata": {},
   "outputs": [
    {
     "data": {
      "text/html": [
       "<table>\n",
       "    <thead>\n",
       "        <tr>\n",
       "            <th>Toko</th>\n",
       "            <th>Total_Transaksi</th>\n",
       "        </tr>\n",
       "    </thead>\n",
       "    <tbody>\n",
       "        <tr>\n",
       "            <td>Jue Coffee Tunjungan</td>\n",
       "            <td>18792</td>\n",
       "        </tr>\n",
       "    </tbody>\n",
       "</table>"
      ],
      "text/plain": [
       "+----------------------+-----------------+\n",
       "|                 Toko | Total_Transaksi |\n",
       "+----------------------+-----------------+\n",
       "| Jue Coffee Tunjungan |           18792 |\n",
       "+----------------------+-----------------+"
      ]
     },
     "execution_count": 60,
     "metadata": {},
     "output_type": "execute_result"
    }
   ],
   "source": [
    "%%sql\n",
    "\n",
    "select\n",
    "    s.store_name as Toko,\n",
    "    count(t.price) as Total_Transaksi\n",
    "from stores s\n",
    "join transactions t on s.store_id = t.store_id\n",
    "Group by Toko\n",
    "order by Total_Transaksi DESC\n",
    "limit 1"
   ]
  },
  {
   "cell_type": "markdown",
   "id": "7e2e4758-10de-4f07-8d5a-b8a45320eda6",
   "metadata": {},
   "source": [
    "Toko yang paling ramai adalah **Jue Coffeee Tunjungan** dengan Total Tranasaksi sebanyak **18792 buah**"
   ]
  },
  {
   "cell_type": "markdown",
   "id": "dd51311d-7d9d-4c75-b6f5-392efc096bb8",
   "metadata": {
    "jp-MarkdownHeadingCollapsed": true
   },
   "source": [
    "## 11. Toko Paling Banyak Penjualan"
   ]
  },
  {
   "cell_type": "code",
   "execution_count": 65,
   "id": "06b16aeb-d586-4bd2-bf40-7ddbe59d8968",
   "metadata": {},
   "outputs": [
    {
     "data": {
      "text/html": [
       "<table>\n",
       "    <thead>\n",
       "        <tr>\n",
       "            <th>Toko</th>\n",
       "            <th>Total_Revenue</th>\n",
       "        </tr>\n",
       "    </thead>\n",
       "    <tbody>\n",
       "        <tr>\n",
       "            <td>Jue Coffee Pakuwon Mall</td>\n",
       "            <td>595432000</td>\n",
       "        </tr>\n",
       "    </tbody>\n",
       "</table>"
      ],
      "text/plain": [
       "+-------------------------+---------------+\n",
       "|                    Toko | Total_Revenue |\n",
       "+-------------------------+---------------+\n",
       "| Jue Coffee Pakuwon Mall |     595432000 |\n",
       "+-------------------------+---------------+"
      ]
     },
     "execution_count": 65,
     "metadata": {},
     "output_type": "execute_result"
    }
   ],
   "source": [
    "%%sql\n",
    "\n",
    "select \n",
    "    s.store_name as Toko,\n",
    "    sum(t.price) as Total_Revenue\n",
    "from transactions t\n",
    "join stores s on s.store_id = t.store_id\n",
    "where t.payment_method in ('QRIS', 'Ovo', 'Gopay', 'ShopeePay', 'DANA', 'Debit card', 'Credit card')\n",
    "group by Toko\n",
    "Order by Total_Revenue DESC\n",
    "limit 1"
   ]
  },
  {
   "cell_type": "markdown",
   "id": "5a20c82f-5d2f-4bb8-9357-744527bfd9fb",
   "metadata": {},
   "source": [
    "Toko yang paling banyak penjualan adalah **Jue Coffee Pakuwon Mall** dengan Total penjualan sebanyak **595.432.000 rb**"
   ]
  }
 ],
 "metadata": {
  "kernelspec": {
   "display_name": "Python 3 (ipykernel)",
   "language": "python",
   "name": "python3"
  },
  "language_info": {
   "codemirror_mode": {
    "name": "ipython",
    "version": 3
   },
   "file_extension": ".py",
   "mimetype": "text/x-python",
   "name": "python",
   "nbconvert_exporter": "python",
   "pygments_lexer": "ipython3",
   "version": "3.11.13"
  }
 },
 "nbformat": 4,
 "nbformat_minor": 5
}
