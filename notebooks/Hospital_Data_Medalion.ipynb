{
 "cells": [
  {
   "cell_type": "markdown",
   "id": "248f6720-1730-42af-b413-5123a80f60ce",
   "metadata": {
    "jp-MarkdownHeadingCollapsed": true
   },
   "source": [
    "# Bronze Medalion"
   ]
  },
  {
   "cell_type": "code",
   "execution_count": 1,
   "id": "b45c0b0f-9373-4a33-b2ea-6d33a5f3219d",
   "metadata": {},
   "outputs": [
    {
     "name": "stderr",
     "output_type": "stream",
     "text": [
      "25/08/11 06:12:17 WARN SparkSession: Using an existing Spark session; only runtime SQL configurations will take effect.\n"
     ]
    },
    {
     "data": {
      "text/html": [
       "<table>\n",
       "    <thead>\n",
       "        <tr>\n",
       "        </tr>\n",
       "    </thead>\n",
       "    <tbody>\n",
       "    </tbody>\n",
       "</table>"
      ],
      "text/plain": [
       "++\n",
       "||\n",
       "++\n",
       "++"
      ]
     },
     "execution_count": 1,
     "metadata": {},
     "output_type": "execute_result"
    }
   ],
   "source": [
    "%%sql\n",
    "\n",
    "create database if not exists brz_hospital_db;"
   ]
  },
  {
   "cell_type": "code",
   "execution_count": 1,
   "id": "61b9cd4a-0894-4d98-beae-aa64e2b51b51",
   "metadata": {},
   "outputs": [
    {
     "name": "stderr",
     "output_type": "stream",
     "text": [
      "25/08/11 07:36:09 WARN SparkSession: Using an existing Spark session; only runtime SQL configurations will take effect.\n"
     ]
    },
    {
     "data": {
      "text/html": [
       "<table>\n",
       "    <thead>\n",
       "        <tr>\n",
       "            <th>namespace</th>\n",
       "        </tr>\n",
       "    </thead>\n",
       "    <tbody>\n",
       "        <tr>\n",
       "            <td>brz_hospital_db</td>\n",
       "        </tr>\n",
       "        <tr>\n",
       "            <td>coffeeshop</td>\n",
       "        </tr>\n",
       "        <tr>\n",
       "            <td>coffeeshop_medalion</td>\n",
       "        </tr>\n",
       "    </tbody>\n",
       "</table>"
      ],
      "text/plain": [
       "+---------------------+\n",
       "|           namespace |\n",
       "+---------------------+\n",
       "|     brz_hospital_db |\n",
       "|          coffeeshop |\n",
       "| coffeeshop_medalion |\n",
       "+---------------------+"
      ]
     },
     "execution_count": 1,
     "metadata": {},
     "output_type": "execute_result"
    }
   ],
   "source": [
    "%%sql\n",
    "\n",
    "show databases;"
   ]
  },
  {
   "cell_type": "code",
   "execution_count": 2,
   "id": "f0a68f59-26de-4d40-99f5-b365a752f37b",
   "metadata": {},
   "outputs": [
    {
     "data": {
      "text/html": [
       "<table>\n",
       "    <thead>\n",
       "        <tr>\n",
       "        </tr>\n",
       "    </thead>\n",
       "    <tbody>\n",
       "    </tbody>\n",
       "</table>"
      ],
      "text/plain": [
       "++\n",
       "||\n",
       "++\n",
       "++"
      ]
     },
     "execution_count": 2,
     "metadata": {},
     "output_type": "execute_result"
    }
   ],
   "source": [
    "%%sql\n",
    "\n",
    "use brz_hospital_db"
   ]
  },
  {
   "cell_type": "code",
   "execution_count": 36,
   "id": "62f63ddc-7dc3-453c-b88c-fc6bb6f65e61",
   "metadata": {},
   "outputs": [
    {
     "data": {
      "text/html": [
       "<table>\n",
       "    <thead>\n",
       "        <tr>\n",
       "        </tr>\n",
       "    </thead>\n",
       "    <tbody>\n",
       "    </tbody>\n",
       "</table>"
      ],
      "text/plain": [
       "++\n",
       "||\n",
       "++\n",
       "++"
      ]
     },
     "execution_count": 36,
     "metadata": {},
     "output_type": "execute_result"
    }
   ],
   "source": [
    "%%sql\n",
    "\n",
    "Drop table patients"
   ]
  },
  {
   "cell_type": "code",
   "execution_count": 37,
   "id": "ba66b3ce-3010-4491-8c9d-de966c1e2db0",
   "metadata": {},
   "outputs": [
    {
     "data": {
      "text/html": [
       "<table>\n",
       "    <thead>\n",
       "        <tr>\n",
       "        </tr>\n",
       "    </thead>\n",
       "    <tbody>\n",
       "    </tbody>\n",
       "</table>"
      ],
      "text/plain": [
       "++\n",
       "||\n",
       "++\n",
       "++"
      ]
     },
     "execution_count": 37,
     "metadata": {},
     "output_type": "execute_result"
    }
   ],
   "source": [
    "%%sql\n",
    "\n",
    "Drop table encounters"
   ]
  },
  {
   "cell_type": "code",
   "execution_count": 38,
   "id": "d88eb074-8857-412a-9609-ddc3faef40c6",
   "metadata": {},
   "outputs": [
    {
     "data": {
      "text/html": [
       "<table>\n",
       "    <thead>\n",
       "        <tr>\n",
       "        </tr>\n",
       "    </thead>\n",
       "    <tbody>\n",
       "    </tbody>\n",
       "</table>"
      ],
      "text/plain": [
       "++\n",
       "||\n",
       "++\n",
       "++"
      ]
     },
     "execution_count": 38,
     "metadata": {},
     "output_type": "execute_result"
    }
   ],
   "source": [
    "%%sql\n",
    "\n",
    "Drop table payers"
   ]
  },
  {
   "cell_type": "code",
   "execution_count": 39,
   "id": "3635b9ef-792c-47fe-87a9-dba126d08ef4",
   "metadata": {},
   "outputs": [
    {
     "data": {
      "text/html": [
       "<table>\n",
       "    <thead>\n",
       "        <tr>\n",
       "        </tr>\n",
       "    </thead>\n",
       "    <tbody>\n",
       "    </tbody>\n",
       "</table>"
      ],
      "text/plain": [
       "++\n",
       "||\n",
       "++\n",
       "++"
      ]
     },
     "execution_count": 39,
     "metadata": {},
     "output_type": "execute_result"
    }
   ],
   "source": [
    "%%sql\n",
    "\n",
    "Drop table procedures"
   ]
  },
  {
   "cell_type": "code",
   "execution_count": 40,
   "id": "858357e8-b4e5-4cd7-b775-52f59d4d875c",
   "metadata": {},
   "outputs": [
    {
     "data": {
      "text/html": [
       "<table>\n",
       "    <thead>\n",
       "        <tr>\n",
       "        </tr>\n",
       "    </thead>\n",
       "    <tbody>\n",
       "    </tbody>\n",
       "</table>"
      ],
      "text/plain": [
       "++\n",
       "||\n",
       "++\n",
       "++"
      ]
     },
     "execution_count": 40,
     "metadata": {},
     "output_type": "execute_result"
    }
   ],
   "source": [
    "%%sql\n",
    "\n",
    "CREATE TABLE if not exists brz_patients (\n",
    "    Id String,\n",
    "    BIRTHDATE DATE NOT NULL,\n",
    "    DEATHDATE DATE,\n",
    "    PREFIX String,\n",
    "    FIRST String NOT NULL,\n",
    "    LAST String NOT NULL,\n",
    "    SUFFIX String,\n",
    "    MAIDEN String,\n",
    "    MARITAL String,\n",
    "    RACE String NOT NULL,\n",
    "    ETHNICITY String NOT NULL,\n",
    "    GENDER String NOT NULL,\n",
    "    BIRTHPLACE String NOT NULL,\n",
    "    ADDRESS String NOT NULL,\n",
    "    CITY String NOT NULL,\n",
    "    STATE String NOT NULL,\n",
    "    COUNTY String NOT NULL,\n",
    "    ZIP String,\n",
    "    LAT DECIMAL(10, 8) NOT NULL,\n",
    "    LON DECIMAL(11, 8) NOT NULL\n",
    ");"
   ]
  },
  {
   "cell_type": "code",
   "execution_count": 41,
   "id": "271e6094-9024-469c-af13-3852f0f7bd73",
   "metadata": {},
   "outputs": [
    {
     "data": {
      "text/html": [
       "<table>\n",
       "    <thead>\n",
       "        <tr>\n",
       "        </tr>\n",
       "    </thead>\n",
       "    <tbody>\n",
       "    </tbody>\n",
       "</table>"
      ],
      "text/plain": [
       "++\n",
       "||\n",
       "++\n",
       "++"
      ]
     },
     "execution_count": 41,
     "metadata": {},
     "output_type": "execute_result"
    }
   ],
   "source": [
    "%%sql\n",
    "    \n",
    "CREATE TABLE if not exists brz_payers (\n",
    "    Id string,\n",
    "    NAME string NOT NULL,\n",
    "    ADDRESS string,\n",
    "    CITY string,\n",
    "    STATE_HEADQUARTERED string,\n",
    "    ZIP string,\n",
    "    PHONE string\n",
    ");"
   ]
  },
  {
   "cell_type": "code",
   "execution_count": 42,
   "id": "14e26ce1-2218-4344-8c81-fc83d235f868",
   "metadata": {},
   "outputs": [
    {
     "data": {
      "text/html": [
       "<table>\n",
       "    <thead>\n",
       "        <tr>\n",
       "        </tr>\n",
       "    </thead>\n",
       "    <tbody>\n",
       "    </tbody>\n",
       "</table>"
      ],
      "text/plain": [
       "++\n",
       "||\n",
       "++\n",
       "++"
      ]
     },
     "execution_count": 42,
     "metadata": {},
     "output_type": "execute_result"
    }
   ],
   "source": [
    "%%sql\n",
    "\n",
    "CREATE TABLE if not exists brz_encounters (\n",
    "    Id string,\n",
    "    START TIMESTAMP NOT NULL,\n",
    "    STOP TIMESTAMP NOT NULL,\n",
    "    PATIENT string NOT NULL,\n",
    "    ORGANIZATION string NOT NULL,\n",
    "    PAYER string NOT NULL,\n",
    "    ENCOUNTERCLASS string NOT NULL,\n",
    "    CODE BIGINT NOT NULL,\n",
    "    DESCRIPTION STRING NOT NULL,\n",
    "    BASE_ENCOUNTER_COST DECIMAL(10, 2) NOT NULL,\n",
    "    TOTAL_CLAIM_COST DECIMAL(10, 2) NOT NULL,\n",
    "    PAYER_COVERAGE DECIMAL(10, 2) NOT NULL,\n",
    "    REASONCODE BIGINT,\n",
    "    REASONDESCRIPTION STRING\n",
    ");"
   ]
  },
  {
   "cell_type": "code",
   "execution_count": 43,
   "id": "c9c32533-4565-4a8e-888c-7ecb7cfd23ab",
   "metadata": {},
   "outputs": [
    {
     "data": {
      "text/html": [
       "<table>\n",
       "    <thead>\n",
       "        <tr>\n",
       "        </tr>\n",
       "    </thead>\n",
       "    <tbody>\n",
       "    </tbody>\n",
       "</table>"
      ],
      "text/plain": [
       "++\n",
       "||\n",
       "++\n",
       "++"
      ]
     },
     "execution_count": 43,
     "metadata": {},
     "output_type": "execute_result"
    }
   ],
   "source": [
    "%%sql\n",
    "\n",
    "CREATE TABLE if not exists brz_procedures (\n",
    "    START TIMESTAMP NOT NULL,\n",
    "    STOP TIMESTAMP NOT NULL,\n",
    "    PATIENT string NOT NULL,\n",
    "    ENCOUNTER string NOT NULL,\n",
    "    CODE BIGINT NOT NULL,\n",
    "    DESCRIPTION STRING NOT NULL,\n",
    "    BASE_COST DECIMAL(10, 2) NOT NULL,\n",
    "    REASONCODE BIGINT,\n",
    "    REASONDESCRIPTION STRING\n",
    ");"
   ]
  },
  {
   "cell_type": "code",
   "execution_count": 44,
   "id": "d0067d90-96d1-4e3b-b1d5-4b47c28f60ea",
   "metadata": {},
   "outputs": [
    {
     "name": "stderr",
     "output_type": "stream",
     "text": [
      "UsageError: %%sql is a cell magic, but the cell body is empty. Did you mean the line magic %sql (single %)?\n"
     ]
    }
   ],
   "source": [
    "%%sql"
   ]
  },
  {
   "cell_type": "code",
   "execution_count": 45,
   "id": "4f93eaca-143a-418b-a86a-c10f9b92ba9b",
   "metadata": {},
   "outputs": [
    {
     "data": {
      "text/html": [
       "<table>\n",
       "    <thead>\n",
       "        <tr>\n",
       "            <th>namespace</th>\n",
       "            <th>tableName</th>\n",
       "            <th>isTemporary</th>\n",
       "        </tr>\n",
       "    </thead>\n",
       "    <tbody>\n",
       "        <tr>\n",
       "            <td>brz_hospital_db</td>\n",
       "            <td>brz_encounters</td>\n",
       "            <td>False</td>\n",
       "        </tr>\n",
       "        <tr>\n",
       "            <td>brz_hospital_db</td>\n",
       "            <td>brz_patients</td>\n",
       "            <td>False</td>\n",
       "        </tr>\n",
       "        <tr>\n",
       "            <td>brz_hospital_db</td>\n",
       "            <td>brz_payers</td>\n",
       "            <td>False</td>\n",
       "        </tr>\n",
       "        <tr>\n",
       "            <td>brz_hospital_db</td>\n",
       "            <td>brz_procedures</td>\n",
       "            <td>False</td>\n",
       "        </tr>\n",
       "    </tbody>\n",
       "</table>"
      ],
      "text/plain": [
       "+-----------------+----------------+-------------+\n",
       "|       namespace |      tableName | isTemporary |\n",
       "+-----------------+----------------+-------------+\n",
       "| brz_hospital_db | brz_encounters |       False |\n",
       "| brz_hospital_db |   brz_patients |       False |\n",
       "| brz_hospital_db |     brz_payers |       False |\n",
       "| brz_hospital_db | brz_procedures |       False |\n",
       "+-----------------+----------------+-------------+"
      ]
     },
     "execution_count": 45,
     "metadata": {},
     "output_type": "execute_result"
    }
   ],
   "source": [
    "%%sql\n",
    "\n",
    "show tables;"
   ]
  },
  {
   "cell_type": "code",
   "execution_count": 46,
   "id": "0f98d165-0253-47c6-8f77-7af2803d868d",
   "metadata": {},
   "outputs": [
    {
     "name": "stdout",
     "output_type": "stream",
     "text": [
      "Skema DataFrame:\n",
      "root\n",
      " |-- Id: string (nullable = true)\n",
      " |-- START: timestamp (nullable = true)\n",
      " |-- STOP: timestamp (nullable = true)\n",
      " |-- PATIENT: string (nullable = true)\n",
      " |-- ORGANIZATION: string (nullable = true)\n",
      " |-- PAYER: string (nullable = true)\n",
      " |-- ENCOUNTERCLASS: string (nullable = true)\n",
      " |-- CODE: integer (nullable = true)\n",
      " |-- DESCRIPTION: string (nullable = true)\n",
      " |-- BASE_ENCOUNTER_COST: double (nullable = true)\n",
      " |-- TOTAL_CLAIM_COST: double (nullable = true)\n",
      " |-- PAYER_COVERAGE: double (nullable = true)\n",
      " |-- REASONCODE: long (nullable = true)\n",
      " |-- REASONDESCRIPTION: string (nullable = true)\n",
      "\n",
      "\n",
      "Contoh Data:\n",
      "+--------------------+-------------------+-------------------+--------------------+--------------------+--------------------+--------------+---------+--------------------+-------------------+----------------+--------------+----------+-----------------+\n",
      "|                  Id|              START|               STOP|             PATIENT|        ORGANIZATION|               PAYER|ENCOUNTERCLASS|     CODE|         DESCRIPTION|BASE_ENCOUNTER_COST|TOTAL_CLAIM_COST|PAYER_COVERAGE|REASONCODE|REASONDESCRIPTION|\n",
      "+--------------------+-------------------+-------------------+--------------------+--------------------+--------------------+--------------+---------+--------------------+-------------------+----------------+--------------+----------+-----------------+\n",
      "|32c84703-2481-49c...|2011-01-02 09:26:36|2011-01-02 12:58:36|3de74169-7f67-930...|d78e84ec-30aa-3bb...|b1c428d6-4f07-31e...|    ambulatory|185347001|Encounter for pro...|              85.55|         1018.02|           0.0|      NULL|             NULL|\n",
      "|c98059da-320a-c0a...|2011-01-03 05:44:39|2011-01-03 06:01:42|d9ec2e44-32e9-914...|d78e84ec-30aa-3bb...|b1c428d6-4f07-31e...|    outpatient|308335008|Patient encounter...|             142.58|         2619.36|           0.0|      NULL|             NULL|\n",
      "|4ad28a3a-2479-782...|2011-01-03 14:32:11|2011-01-03 14:47:11|73babadf-5b2b-fee...|d78e84ec-30aa-3bb...|7caa7254-5050-3b5...|    outpatient|185349003|Encounter for che...|              85.55|          461.59|        305.27|      NULL|             NULL|\n",
      "|c3f4da61-e4b4-21d...|2011-01-03 16:24:45|2011-01-03 16:39:45|3b46a0b7-0f34-9b9...|d78e84ec-30aa-3bb...|b1c428d6-4f07-31e...|      wellness|162673000|General examinati...|              136.8|         1784.24|           0.0|      NULL|             NULL|\n",
      "|a9183b4f-2572-72e...|2011-01-03 17:36:53|2011-01-03 17:51:53|fa006887-d93c-d30...|d78e84ec-30aa-3bb...|42c4fca7-f8a9-3cd...|    ambulatory|390906007| Follow-up encounter|              85.55|          234.72|           0.0|  55822004|   Hyperlipidemia|\n",
      "+--------------------+-------------------+-------------------+--------------------+--------------------+--------------------+--------------+---------+--------------------+-------------------+----------------+--------------+----------+-----------------+\n",
      "only showing top 5 rows\n",
      "\n"
     ]
    }
   ],
   "source": [
    "path_csv = 'encounters.csv'\n",
    "df_encounters = spark.read.csv(path_csv, header=True, inferSchema=True)\n",
    "\n",
    "# (Opsional) Tampilkan skema dan beberapa baris data untuk memastikan berhasil\n",
    "print(\"Skema DataFrame:\")\n",
    "df_encounters.printSchema()\n",
    "\n",
    "print(\"\\nContoh Data:\")\n",
    "df_encounters.show(5)\n",
    "\n",
    "df_encounters.createOrReplaceTempView(\"Product\")"
   ]
  },
  {
   "cell_type": "code",
   "execution_count": 47,
   "id": "0d86f870-3c2a-40f5-be68-5e3f89e958b5",
   "metadata": {},
   "outputs": [],
   "source": [
    "df_encounters.write.insertInto(\"brz_encounters\",overwrite=True)\n"
   ]
  },
  {
   "cell_type": "code",
   "execution_count": 48,
   "id": "e43f6152-d794-44ef-9e12-108fb6e61f63",
   "metadata": {},
   "outputs": [
    {
     "data": {
      "text/html": [
       "<table>\n",
       "    <thead>\n",
       "        <tr>\n",
       "            <th>count(1)</th>\n",
       "        </tr>\n",
       "    </thead>\n",
       "    <tbody>\n",
       "        <tr>\n",
       "            <td>27891</td>\n",
       "        </tr>\n",
       "    </tbody>\n",
       "</table>"
      ],
      "text/plain": [
       "+----------+\n",
       "| count(1) |\n",
       "+----------+\n",
       "|    27891 |\n",
       "+----------+"
      ]
     },
     "execution_count": 48,
     "metadata": {},
     "output_type": "execute_result"
    }
   ],
   "source": [
    "%%sql\n",
    "\n",
    "select count(*) from brz_encounters"
   ]
  },
  {
   "cell_type": "code",
   "execution_count": 49,
   "id": "5248dd5b-06ff-48b8-8858-ef571087fe11",
   "metadata": {},
   "outputs": [
    {
     "data": {
      "text/plain": [
       "27891"
      ]
     },
     "execution_count": 49,
     "metadata": {},
     "output_type": "execute_result"
    }
   ],
   "source": [
    "df_encounters.count()"
   ]
  },
  {
   "cell_type": "code",
   "execution_count": 50,
   "id": "23780bff-c8a7-4970-a9c3-fe947cbbe888",
   "metadata": {},
   "outputs": [
    {
     "name": "stdout",
     "output_type": "stream",
     "text": [
      "Skema DataFrame:\n",
      "root\n",
      " |-- Id: string (nullable = true)\n",
      " |-- BIRTHDATE: date (nullable = true)\n",
      " |-- DEATHDATE: date (nullable = true)\n",
      " |-- PREFIX: string (nullable = true)\n",
      " |-- FIRST: string (nullable = true)\n",
      " |-- LAST: string (nullable = true)\n",
      " |-- SUFFIX: string (nullable = true)\n",
      " |-- MAIDEN: string (nullable = true)\n",
      " |-- MARITAL: string (nullable = true)\n",
      " |-- RACE: string (nullable = true)\n",
      " |-- ETHNICITY: string (nullable = true)\n",
      " |-- GENDER: string (nullable = true)\n",
      " |-- BIRTHPLACE: string (nullable = true)\n",
      " |-- ADDRESS: string (nullable = true)\n",
      " |-- CITY: string (nullable = true)\n",
      " |-- STATE: string (nullable = true)\n",
      " |-- COUNTY: string (nullable = true)\n",
      " |-- ZIP: integer (nullable = true)\n",
      " |-- LAT: double (nullable = true)\n",
      " |-- LON: double (nullable = true)\n",
      "\n",
      "\n",
      "Contoh Data:\n",
      "+--------------------+----------+----------+------+---------+-------------+------+---------+-------+-----+-----------+------+--------------------+--------------------+------+-------------+--------------+----+------------------+------------+\n",
      "|                  Id| BIRTHDATE| DEATHDATE|PREFIX|    FIRST|         LAST|SUFFIX|   MAIDEN|MARITAL| RACE|  ETHNICITY|GENDER|          BIRTHPLACE|             ADDRESS|  CITY|        STATE|        COUNTY| ZIP|               LAT|         LON|\n",
      "+--------------------+----------+----------+------+---------+-------------+------+---------+-------+-----+-----------+------+--------------------+--------------------+------+-------------+--------------+----+------------------+------------+\n",
      "|5605b66b-e92d-c16...|1977-03-19|      NULL|  Mrs.|Nikita578|    Erdman779|  NULL|Leannon79|      M|white|nonhispanic|     F|Wakefield  Massac...|510 Little Statio...|Quincy|Massachusetts|Norfolk County|2186|42.290937381211286|-70.97550306|\n",
      "|6e5ae27c-8038-798...|1940-02-19|      NULL|   Mr.|  Zane918|Hodkiewicz467|  NULL|     NULL|      M|white|nonhispanic|     M|Brookline  Massac...| 747 Conn Throughway|Boston|Massachusetts|Suffolk County|2135|42.308831197562505| -71.0631616|\n",
      "|8123d076-0886-900...|1958-06-04|      NULL|   Mr.| Quinn173| Marquardt819|  NULL|     NULL|      M|white|nonhispanic|     M|Gardner  Massachu...|816 Okuneva Exten...|Quincy|Massachusetts|Norfolk County|2170| 42.26517684888508|-70.96708508|\n",
      "|770518e4-6133-648...|1928-12-25|2017-09-29|   Mr.|  Abel832|   Smitham825|  NULL|     NULL|      M|white|   hispanic|     M|Randolph  Massach...|127 Cole Way Unit 95|Boston|Massachusetts|Suffolk County|2118|42.334303740740594| -71.0668012|\n",
      "|f96addf5-81b9-0aa...|1928-12-25|2014-02-23|   Mr.| Edwin773|   Labadie908|  NULL|     NULL|      M|white|   hispanic|     M|Stow  Massachuset...| 976 Ziemann Gateway|Boston|Massachusetts|Suffolk County|2125|42.346771403899275|-71.05881297|\n",
      "+--------------------+----------+----------+------+---------+-------------+------+---------+-------+-----+-----------+------+--------------------+--------------------+------+-------------+--------------+----+------------------+------------+\n",
      "only showing top 5 rows\n",
      "\n"
     ]
    }
   ],
   "source": [
    "path_csv = 'patients.csv'\n",
    "df_patients = spark.read.csv(path_csv, header=True, inferSchema=True)\n",
    "\n",
    "# (Opsional) Tampilkan skema dan beberapa baris data untuk memastikan berhasil\n",
    "print(\"Skema DataFrame:\")\n",
    "df_patients.printSchema()\n",
    "\n",
    "print(\"\\nContoh Data:\")\n",
    "df_patients.show(5)\n",
    "\n",
    "df_patients.createOrReplaceTempView(\"Product\")"
   ]
  },
  {
   "cell_type": "code",
   "execution_count": 51,
   "id": "501b86e8-b9b5-4af9-9a86-a3f0491a9f71",
   "metadata": {},
   "outputs": [],
   "source": [
    "df_patients.write.insertInto(\"brz_patients\",overwrite=True)"
   ]
  },
  {
   "cell_type": "code",
   "execution_count": 52,
   "id": "3e1e85f5-c5ad-4f23-bd5f-60cdb03d9143",
   "metadata": {},
   "outputs": [
    {
     "data": {
      "text/html": [
       "<table>\n",
       "    <thead>\n",
       "        <tr>\n",
       "            <th>count(1)</th>\n",
       "        </tr>\n",
       "    </thead>\n",
       "    <tbody>\n",
       "        <tr>\n",
       "            <td>974</td>\n",
       "        </tr>\n",
       "    </tbody>\n",
       "</table>"
      ],
      "text/plain": [
       "+----------+\n",
       "| count(1) |\n",
       "+----------+\n",
       "|      974 |\n",
       "+----------+"
      ]
     },
     "execution_count": 52,
     "metadata": {},
     "output_type": "execute_result"
    }
   ],
   "source": [
    "%%sql\n",
    "\n",
    "select count(*) from brz_patients"
   ]
  },
  {
   "cell_type": "code",
   "execution_count": 53,
   "id": "1f199516-9c7b-4bdc-85e3-5a1b438268ec",
   "metadata": {},
   "outputs": [
    {
     "data": {
      "text/plain": [
       "974"
      ]
     },
     "execution_count": 53,
     "metadata": {},
     "output_type": "execute_result"
    }
   ],
   "source": [
    "df_patients.count()"
   ]
  },
  {
   "cell_type": "code",
   "execution_count": 54,
   "id": "58582056-d960-469f-ad2c-1c25e9babfb2",
   "metadata": {},
   "outputs": [
    {
     "name": "stdout",
     "output_type": "stream",
     "text": [
      "Skema DataFrame:\n",
      "root\n",
      " |-- Id: string (nullable = true)\n",
      " |-- NAME: string (nullable = true)\n",
      " |-- ADDRESS: string (nullable = true)\n",
      " |-- CITY: string (nullable = true)\n",
      " |-- STATE_HEADQUARTERED: string (nullable = true)\n",
      " |-- ZIP: integer (nullable = true)\n",
      " |-- PHONE: string (nullable = true)\n",
      "\n",
      "\n",
      "Contoh Data:\n",
      "+--------------------+--------------------+------------------+----------+-------------------+-----+--------------+\n",
      "|                  Id|                NAME|           ADDRESS|      CITY|STATE_HEADQUARTERED|  ZIP|         PHONE|\n",
      "+--------------------+--------------------+------------------+----------+-------------------+-----+--------------+\n",
      "|b3221cfc-24fb-339...|       Dual Eligible|7500 Security Blvd| Baltimore|                 MD|21244|1-877-267-2323|\n",
      "|7caa7254-5050-3b5...|            Medicare|7500 Security Blvd| Baltimore|                 MD|21244|1-800-633-4227|\n",
      "|7c4411ce-02f1-39b...|            Medicaid|7500 Security Blvd| Baltimore|                 MD|21244|1-877-267-2323|\n",
      "|d47b3510-2895-3b7...|              Humana|  500 West Main St|Louisville|                 KY|40018|1-844-330-7799|\n",
      "|6e2f1a2d-27bd-370...|Blue Cross Blue S...|    Michigan Plaza|   Chicago|                 IL|60007|1-800-262-2583|\n",
      "+--------------------+--------------------+------------------+----------+-------------------+-----+--------------+\n",
      "only showing top 5 rows\n",
      "\n"
     ]
    },
    {
     "data": {
      "text/plain": [
       "10"
      ]
     },
     "execution_count": 54,
     "metadata": {},
     "output_type": "execute_result"
    }
   ],
   "source": [
    "path_csv = 'payers.csv'\n",
    "df_payers = spark.read.csv(path_csv, header=True, inferSchema=True)\n",
    "\n",
    "# (Opsional) Tampilkan skema dan beberapa baris data untuk memastikan berhasil\n",
    "print(\"Skema DataFrame:\")\n",
    "df_payers.printSchema()\n",
    "\n",
    "print(\"\\nContoh Data:\")\n",
    "df_payers.show(5)\n",
    "\n",
    "df_payers.createOrReplaceTempView(\"Product\")\n",
    "\n",
    "df_payers.write.insertInto(\"brz_payers\",overwrite=True)\n",
    "\n",
    "df_payers.count()"
   ]
  },
  {
   "cell_type": "code",
   "execution_count": 55,
   "id": "2000791f-8bac-444e-a7f2-667a07cd3494",
   "metadata": {},
   "outputs": [
    {
     "data": {
      "text/html": [
       "<table>\n",
       "    <thead>\n",
       "        <tr>\n",
       "            <th>count(1)</th>\n",
       "        </tr>\n",
       "    </thead>\n",
       "    <tbody>\n",
       "        <tr>\n",
       "            <td>10</td>\n",
       "        </tr>\n",
       "    </tbody>\n",
       "</table>"
      ],
      "text/plain": [
       "+----------+\n",
       "| count(1) |\n",
       "+----------+\n",
       "|       10 |\n",
       "+----------+"
      ]
     },
     "execution_count": 55,
     "metadata": {},
     "output_type": "execute_result"
    }
   ],
   "source": [
    "%%sql\n",
    "\n",
    "select count(*) from brz_payers"
   ]
  },
  {
   "cell_type": "code",
   "execution_count": 56,
   "id": "0a608c84-a031-43c2-8b34-6125501d0b9f",
   "metadata": {},
   "outputs": [
    {
     "name": "stdout",
     "output_type": "stream",
     "text": [
      "Skema DataFrame:\n",
      "root\n",
      " |-- START: timestamp (nullable = true)\n",
      " |-- STOP: timestamp (nullable = true)\n",
      " |-- PATIENT: string (nullable = true)\n",
      " |-- ENCOUNTER: string (nullable = true)\n",
      " |-- CODE: long (nullable = true)\n",
      " |-- DESCRIPTION: string (nullable = true)\n",
      " |-- BASE_COST: integer (nullable = true)\n",
      " |-- REASONCODE: long (nullable = true)\n",
      " |-- REASONDESCRIPTION: string (nullable = true)\n",
      "\n",
      "\n",
      "Contoh Data:\n",
      "+-------------------+-------------------+--------------------+--------------------+---------+--------------------+---------+----------+--------------------+\n",
      "|              START|               STOP|             PATIENT|           ENCOUNTER|     CODE|         DESCRIPTION|BASE_COST|REASONCODE|   REASONDESCRIPTION|\n",
      "+-------------------+-------------------+--------------------+--------------------+---------+--------------------+---------+----------+--------------------+\n",
      "|2011-01-02 09:26:36|2011-01-02 12:58:36|3de74169-7f67-930...|32c84703-2481-49c...|265764009|Renal dialysis (p...|      903|      NULL|                NULL|\n",
      "|2011-01-03 05:44:39|2011-01-03 06:01:42|d9ec2e44-32e9-914...|c98059da-320a-c0a...| 76601001|Intramuscular inj...|     2477|      NULL|                NULL|\n",
      "|2011-01-04 14:49:55|2011-01-04 15:04:55|d856d6e6-4c98-e7a...|2cfd4ddd-ad13-fe1...|703423002|Combined chemothe...|    11620| 363406005|Malignant tumor o...|\n",
      "|2011-01-05 04:02:09|2011-01-05 04:17:09|bc9d59c3-0a30-6e3...|17966936-0878-f4d...|173160006|Diagnostic fibero...|     9796| 162573006|Suspected lung ca...|\n",
      "|2011-01-05 12:58:36|2011-01-05 16:42:36|3de74169-7f67-930...|9de5f0b0-4ba4-ce6...|265764009|Renal dialysis (p...|     1255|      NULL|                NULL|\n",
      "+-------------------+-------------------+--------------------+--------------------+---------+--------------------+---------+----------+--------------------+\n",
      "only showing top 5 rows\n",
      "\n"
     ]
    },
    {
     "data": {
      "text/plain": [
       "47701"
      ]
     },
     "execution_count": 56,
     "metadata": {},
     "output_type": "execute_result"
    }
   ],
   "source": [
    "path_csv = 'procedures.csv'\n",
    "df_procedures = spark.read.csv(path_csv, header=True, inferSchema=True)\n",
    "\n",
    "# (Opsional) Tampilkan skema dan beberapa baris data untuk memastikan berhasil\n",
    "print(\"Skema DataFrame:\")\n",
    "df_procedures.printSchema()\n",
    "\n",
    "print(\"\\nContoh Data:\")\n",
    "df_procedures.show(5)\n",
    "\n",
    "df_procedures.createOrReplaceTempView(\"Product\")\n",
    "\n",
    "df_procedures.write.insertInto(\"brz_procedures\",overwrite=True)\n",
    "\n",
    "df_procedures.count()"
   ]
  },
  {
   "cell_type": "code",
   "execution_count": 59,
   "id": "3f107ed7-b6b7-40b9-96c7-15452348479d",
   "metadata": {},
   "outputs": [
    {
     "data": {
      "text/html": [
       "<table>\n",
       "    <thead>\n",
       "        <tr>\n",
       "            <th>count(1)</th>\n",
       "        </tr>\n",
       "    </thead>\n",
       "    <tbody>\n",
       "        <tr>\n",
       "            <td>47701</td>\n",
       "        </tr>\n",
       "    </tbody>\n",
       "</table>"
      ],
      "text/plain": [
       "+----------+\n",
       "| count(1) |\n",
       "+----------+\n",
       "|    47701 |\n",
       "+----------+"
      ]
     },
     "execution_count": 59,
     "metadata": {},
     "output_type": "execute_result"
    }
   ],
   "source": [
    "%%sql\n",
    "\n",
    "select count(*) from brz_procedures"
   ]
  },
  {
   "cell_type": "markdown",
   "id": "992024b5-a353-4800-8886-168ad6b072b9",
   "metadata": {},
   "source": [
    "# Silver Medalion"
   ]
  },
  {
   "cell_type": "code",
   "execution_count": 1,
   "id": "465b78ae-1435-4b5e-a1f0-5285671d40ed",
   "metadata": {},
   "outputs": [
    {
     "name": "stderr",
     "output_type": "stream",
     "text": [
      "25/08/12 10:31:08 WARN SparkSession: Using an existing Spark session; only runtime SQL configurations will take effect.\n"
     ]
    },
    {
     "data": {
      "text/html": [
       "<table>\n",
       "    <thead>\n",
       "        <tr>\n",
       "        </tr>\n",
       "    </thead>\n",
       "    <tbody>\n",
       "    </tbody>\n",
       "</table>"
      ],
      "text/plain": [
       "++\n",
       "||\n",
       "++\n",
       "++"
      ]
     },
     "execution_count": 1,
     "metadata": {},
     "output_type": "execute_result"
    }
   ],
   "source": [
    "%%sql\n",
    "\n",
    "create database if not exists slv_hospital_db;"
   ]
  },
  {
   "cell_type": "code",
   "execution_count": 2,
   "id": "02addb24-dbce-47ae-9571-a4a3bdacecc5",
   "metadata": {},
   "outputs": [
    {
     "data": {
      "text/html": [
       "<table>\n",
       "    <thead>\n",
       "        <tr>\n",
       "            <th>namespace</th>\n",
       "        </tr>\n",
       "    </thead>\n",
       "    <tbody>\n",
       "        <tr>\n",
       "            <td>brz_hospital_db</td>\n",
       "        </tr>\n",
       "        <tr>\n",
       "            <td>coffeeshop</td>\n",
       "        </tr>\n",
       "        <tr>\n",
       "            <td>coffeeshop_medalion</td>\n",
       "        </tr>\n",
       "        <tr>\n",
       "            <td>slv_hospital_db</td>\n",
       "        </tr>\n",
       "    </tbody>\n",
       "</table>"
      ],
      "text/plain": [
       "+---------------------+\n",
       "|           namespace |\n",
       "+---------------------+\n",
       "|     brz_hospital_db |\n",
       "|          coffeeshop |\n",
       "| coffeeshop_medalion |\n",
       "|     slv_hospital_db |\n",
       "+---------------------+"
      ]
     },
     "execution_count": 2,
     "metadata": {},
     "output_type": "execute_result"
    }
   ],
   "source": [
    "%%sql\n",
    "\n",
    "show databases;"
   ]
  },
  {
   "cell_type": "code",
   "execution_count": 3,
   "id": "51715d20-84e2-483c-9df5-f68239ca2089",
   "metadata": {},
   "outputs": [
    {
     "data": {
      "text/html": [
       "<table>\n",
       "    <thead>\n",
       "        <tr>\n",
       "        </tr>\n",
       "    </thead>\n",
       "    <tbody>\n",
       "    </tbody>\n",
       "</table>"
      ],
      "text/plain": [
       "++\n",
       "||\n",
       "++\n",
       "++"
      ]
     },
     "execution_count": 3,
     "metadata": {},
     "output_type": "execute_result"
    }
   ],
   "source": [
    "%%sql\n",
    "\n",
    "use slv_hospital_db"
   ]
  },
  {
   "cell_type": "code",
   "execution_count": 6,
   "id": "6babf414-1bff-491f-9e46-dfd51b95c342",
   "metadata": {},
   "outputs": [
    {
     "data": {
      "text/html": [
       "<table>\n",
       "    <thead>\n",
       "        <tr>\n",
       "        </tr>\n",
       "    </thead>\n",
       "    <tbody>\n",
       "    </tbody>\n",
       "</table>"
      ],
      "text/plain": [
       "++\n",
       "||\n",
       "++\n",
       "++"
      ]
     },
     "execution_count": 6,
     "metadata": {},
     "output_type": "execute_result"
    }
   ],
   "source": [
    "%%sql\n",
    "\n",
    "create table if not exists slv_patients"
   ]
  },
  {
   "cell_type": "code",
   "execution_count": 7,
   "id": "c17e3dda-1bd0-4de9-a1e3-c8e55a6a35d0",
   "metadata": {},
   "outputs": [
    {
     "data": {
      "text/plain": [
       "DataFrame[]"
      ]
     },
     "execution_count": 7,
     "metadata": {},
     "output_type": "execute_result"
    }
   ],
   "source": [
    "spark.sql(\"USE brz_hospital_db\")\n",
    "bronze_tables = [\"brz_patients\", \"brz_payers\", \"brz_encounters\", \"brz_procedures\"]\n",
    "spark.sql(\"USE slv_hospital_db\")"
   ]
  },
  {
   "cell_type": "code",
   "execution_count": 8,
   "id": "94b76707-ba81-4dc4-a07a-c28ebea7bbd4",
   "metadata": {},
   "outputs": [],
   "source": [
    "from pyspark.sql.functions import col, upper, regexp_replace, trim\n",
    "\n",
    "\n",
    "def clean_string_spark(column):\n",
    "    return trim(regexp_replace(column, \"[^a-zA-Z0-9 ]\", \"\"))\n",
    "\n",
    "def upper_case_spark(column):\n",
    "    return upper(column)"
   ]
  },
  {
   "cell_type": "code",
   "execution_count": 9,
   "id": "5315031c-e9b3-4eeb-a3b7-977ab61ed3ac",
   "metadata": {},
   "outputs": [
    {
     "name": "stdout",
     "output_type": "stream",
     "text": [
      "\n",
      "Transforming patients data...\n",
      "Schema for slv_patients:\n",
      "root\n",
      " |-- patient_id: string (nullable = true)\n",
      " |-- birth_date: date (nullable = false)\n",
      " |-- death_date: date (nullable = true)\n",
      " |-- first_name: string (nullable = false)\n",
      " |-- last_name: string (nullable = false)\n",
      " |-- gender: string (nullable = false)\n",
      " |-- race: string (nullable = false)\n",
      " |-- ethnicity: string (nullable = false)\n",
      " |-- city: string (nullable = false)\n",
      " |-- state: string (nullable = false)\n",
      " |-- zip_code: string (nullable = true)\n",
      " |-- latitude: decimal(10,8) (nullable = false)\n",
      " |-- longitude: decimal(11,8) (nullable = false)\n",
      "\n",
      "Sample Data for slv_patients:\n"
     ]
    },
    {
     "name": "stderr",
     "output_type": "stream",
     "text": [
      "                                                                                "
     ]
    },
    {
     "name": "stdout",
     "output_type": "stream",
     "text": [
      "+--------------------+----------+----------+----------+-------------+------+-----+-----------+------+-------------+--------+-----------+------------+\n",
      "|          patient_id|birth_date|death_date|first_name|    last_name|gender| race|  ethnicity|  city|        state|zip_code|   latitude|   longitude|\n",
      "+--------------------+----------+----------+----------+-------------+------+-----+-----------+------+-------------+--------+-----------+------------+\n",
      "|5605b66be92dc16c1...|1977-03-19|      NULL| Nikita578|    Erdman779|     F|white|nonhispanic|Quincy|Massachusetts|    2186|42.29093738|-70.97550306|\n",
      "|6e5ae27c80387988e...|1940-02-19|      NULL|   Zane918|Hodkiewicz467|     M|white|nonhispanic|Boston|Massachusetts|    2135|42.30883120|-71.06316160|\n",
      "|8123d07608869007e...|1958-06-04|      NULL|  Quinn173| Marquardt819|     M|white|nonhispanic|Quincy|Massachusetts|    2170|42.26517685|-70.96708508|\n",
      "|770518e46133648e6...|1928-12-25|2017-09-29|   Abel832|   Smitham825|     M|white|   hispanic|Boston|Massachusetts|    2118|42.33430374|-71.06680120|\n",
      "|f96addf581b90aab7...|1928-12-25|2014-02-23|  Edwin773|   Labadie908|     M|white|   hispanic|Boston|Massachusetts|    2125|42.34677140|-71.05881297|\n",
      "+--------------------+----------+----------+----------+-------------+------+-----+-----------+------+-------------+--------+-----------+------------+\n",
      "only showing top 5 rows\n",
      "\n",
      "Successfully loaded transformed data into slv_hospital_db.slv_patients\n"
     ]
    }
   ],
   "source": [
    "print(\"\\nTransforming patients data...\")\n",
    "df_brz_patients = spark.table(\"brz_hospital_db.brz_patients\")\n",
    "\n",
    "df_slv_patients = df_brz_patients.select(\n",
    "    clean_string_spark(col(\"Id\")).alias(\"patient_id\"),\n",
    "    col(\"BIRTHDATE\").alias(\"birth_date\"),\n",
    "    col(\"DEATHDATE\").alias(\"death_date\"),\n",
    "    clean_string_spark(col(\"FIRST\")).alias(\"first_name\"),\n",
    "    clean_string_spark(col(\"LAST\")).alias(\"last_name\"),\n",
    "    upper_case_spark(col(\"GENDER\")).alias(\"gender\"),\n",
    "    clean_string_spark(col(\"RACE\")).alias(\"race\"),\n",
    "    clean_string_spark(col(\"ETHNICITY\")).alias(\"ethnicity\"),\n",
    "    col(\"CITY\").alias(\"city\"),\n",
    "    col(\"STATE\").alias(\"state\"),\n",
    "    col(\"ZIP\").alias(\"zip_code\"),\n",
    "    col(\"LAT\").alias(\"latitude\"),\n",
    "    col(\"LON\").alias(\"longitude\")\n",
    ")\n",
    "print(\"Schema for slv_patients:\")\n",
    "df_slv_patients.printSchema()\n",
    "print(\"Sample Data for slv_patients:\")\n",
    "df_slv_patients.show(5)\n",
    "\n",
    "df_slv_patients.write.mode(\"overwrite\").saveAsTable(\"slv_patients\")\n",
    "print(\"Successfully loaded transformed data into slv_hospital_db.slv_patients\")"
   ]
  },
  {
   "cell_type": "code",
   "execution_count": 11,
   "id": "76375f07-8720-4761-83bd-c624aabf9331",
   "metadata": {},
   "outputs": [
    {
     "data": {
      "text/html": [
       "<table>\n",
       "    <thead>\n",
       "        <tr>\n",
       "            <th>patient_id</th>\n",
       "            <th>birth_date</th>\n",
       "            <th>death_date</th>\n",
       "            <th>first_name</th>\n",
       "            <th>last_name</th>\n",
       "            <th>gender</th>\n",
       "            <th>race</th>\n",
       "            <th>ethnicity</th>\n",
       "            <th>city</th>\n",
       "            <th>state</th>\n",
       "            <th>zip_code</th>\n",
       "            <th>latitude</th>\n",
       "            <th>longitude</th>\n",
       "        </tr>\n",
       "    </thead>\n",
       "    <tbody>\n",
       "        <tr>\n",
       "            <td>5605b66be92dc16c1b83b8bf7040d51f</td>\n",
       "            <td>1977-03-19</td>\n",
       "            <td>None</td>\n",
       "            <td>Nikita578</td>\n",
       "            <td>Erdman779</td>\n",
       "            <td>F</td>\n",
       "            <td>white</td>\n",
       "            <td>nonhispanic</td>\n",
       "            <td>Quincy</td>\n",
       "            <td>Massachusetts</td>\n",
       "            <td>2186</td>\n",
       "            <td>42.29093738</td>\n",
       "            <td>-70.97550306</td>\n",
       "        </tr>\n",
       "        <tr>\n",
       "            <td>6e5ae27c80387988e2c025a103f01bfa</td>\n",
       "            <td>1940-02-19</td>\n",
       "            <td>None</td>\n",
       "            <td>Zane918</td>\n",
       "            <td>Hodkiewicz467</td>\n",
       "            <td>M</td>\n",
       "            <td>white</td>\n",
       "            <td>nonhispanic</td>\n",
       "            <td>Boston</td>\n",
       "            <td>Massachusetts</td>\n",
       "            <td>2135</td>\n",
       "            <td>42.30883120</td>\n",
       "            <td>-71.06316160</td>\n",
       "        </tr>\n",
       "        <tr>\n",
       "            <td>8123d07608869007e956d5864aa121a7</td>\n",
       "            <td>1958-06-04</td>\n",
       "            <td>None</td>\n",
       "            <td>Quinn173</td>\n",
       "            <td>Marquardt819</td>\n",
       "            <td>M</td>\n",
       "            <td>white</td>\n",
       "            <td>nonhispanic</td>\n",
       "            <td>Quincy</td>\n",
       "            <td>Massachusetts</td>\n",
       "            <td>2170</td>\n",
       "            <td>42.26517685</td>\n",
       "            <td>-70.96708508</td>\n",
       "        </tr>\n",
       "        <tr>\n",
       "            <td>770518e46133648e60c9071eb2f0e2ce</td>\n",
       "            <td>1928-12-25</td>\n",
       "            <td>2017-09-29</td>\n",
       "            <td>Abel832</td>\n",
       "            <td>Smitham825</td>\n",
       "            <td>M</td>\n",
       "            <td>white</td>\n",
       "            <td>hispanic</td>\n",
       "            <td>Boston</td>\n",
       "            <td>Massachusetts</td>\n",
       "            <td>2118</td>\n",
       "            <td>42.33430374</td>\n",
       "            <td>-71.06680120</td>\n",
       "        </tr>\n",
       "        <tr>\n",
       "            <td>f96addf581b90aab7855d208d3d352c5</td>\n",
       "            <td>1928-12-25</td>\n",
       "            <td>2014-02-23</td>\n",
       "            <td>Edwin773</td>\n",
       "            <td>Labadie908</td>\n",
       "            <td>M</td>\n",
       "            <td>white</td>\n",
       "            <td>hispanic</td>\n",
       "            <td>Boston</td>\n",
       "            <td>Massachusetts</td>\n",
       "            <td>2125</td>\n",
       "            <td>42.34677140</td>\n",
       "            <td>-71.05881297</td>\n",
       "        </tr>\n",
       "    </tbody>\n",
       "</table>"
      ],
      "text/plain": [
       "+----------------------------------+------------+------------+------------+---------------+--------+-------+-------------+--------+---------------+----------+-------------+--------------+\n",
       "|                       patient_id | birth_date | death_date | first_name |     last_name | gender |  race |   ethnicity |   city |         state | zip_code |    latitude |    longitude |\n",
       "+----------------------------------+------------+------------+------------+---------------+--------+-------+-------------+--------+---------------+----------+-------------+--------------+\n",
       "| 5605b66be92dc16c1b83b8bf7040d51f | 1977-03-19 |       None |  Nikita578 |     Erdman779 |      F | white | nonhispanic | Quincy | Massachusetts |     2186 | 42.29093738 | -70.97550306 |\n",
       "| 6e5ae27c80387988e2c025a103f01bfa | 1940-02-19 |       None |    Zane918 | Hodkiewicz467 |      M | white | nonhispanic | Boston | Massachusetts |     2135 | 42.30883120 | -71.06316160 |\n",
       "| 8123d07608869007e956d5864aa121a7 | 1958-06-04 |       None |   Quinn173 |  Marquardt819 |      M | white | nonhispanic | Quincy | Massachusetts |     2170 | 42.26517685 | -70.96708508 |\n",
       "| 770518e46133648e60c9071eb2f0e2ce | 1928-12-25 | 2017-09-29 |    Abel832 |    Smitham825 |      M | white |    hispanic | Boston | Massachusetts |     2118 | 42.33430374 | -71.06680120 |\n",
       "| f96addf581b90aab7855d208d3d352c5 | 1928-12-25 | 2014-02-23 |   Edwin773 |    Labadie908 |      M | white |    hispanic | Boston | Massachusetts |     2125 | 42.34677140 | -71.05881297 |\n",
       "+----------------------------------+------------+------------+------------+---------------+--------+-------+-------------+--------+---------------+----------+-------------+--------------+"
      ]
     },
     "execution_count": 11,
     "metadata": {},
     "output_type": "execute_result"
    }
   ],
   "source": [
    "%%sql\n",
    "\n",
    "select * from slv_patients limit 5\n"
   ]
  },
  {
   "cell_type": "code",
   "execution_count": 14,
   "id": "33aaee91-dc5a-4113-817d-f4f56bbe9722",
   "metadata": {},
   "outputs": [
    {
     "name": "stdout",
     "output_type": "stream",
     "text": [
      "\n",
      "Transforming payers data...\n",
      "Schema for slv_payers:\n",
      "root\n",
      " |-- payer_id: string (nullable = true)\n",
      " |-- payer_name: string (nullable = false)\n",
      " |-- city: string (nullable = true)\n",
      " |-- state_headquartered: string (nullable = true)\n",
      "\n",
      "Sample Data for slv_payers:\n",
      "+--------------------+--------------------+----------+-------------------+\n",
      "|            payer_id|          payer_name|      city|state_headquartered|\n",
      "+--------------------+--------------------+----------+-------------------+\n",
      "|b3221cfc24fb339e8...|       Dual Eligible| Baltimore|                 MD|\n",
      "|7caa725450503b5e9...|            Medicare| Baltimore|                 MD|\n",
      "|7c4411ce02f139b5b...|            Medicaid| Baltimore|                 MD|\n",
      "|d47b351028953b709...|              Humana|Louisville|                 KY|\n",
      "|6e2f1a2d27bd37018...|Blue Cross Blue S...|   Chicago|                 IL|\n",
      "+--------------------+--------------------+----------+-------------------+\n",
      "only showing top 5 rows\n",
      "\n",
      "Successfully loaded transformed data into slv_hospital_db.slv_payers\n"
     ]
    }
   ],
   "source": [
    "print(\"\\nTransforming payers data...\")\n",
    "df_brz_payers = spark.table(\"brz_hospital_db.brz_payers\")\n",
    "\n",
    "df_slv_payers = df_brz_payers.select(\n",
    "    clean_string_spark(col(\"Id\")).alias(\"payer_id\"),\n",
    "    clean_string_spark(col(\"NAME\")).alias(\"payer_name\"),\n",
    "    col(\"CITY\").alias(\"city\"),\n",
    "    col(\"STATE_HEADQUARTERED\").alias(\"state_headquartered\")\n",
    "    # Select other relevant columns and apply cleaning\n",
    ")\n",
    "\n",
    "print(\"Schema for slv_payers:\")\n",
    "df_slv_payers.printSchema()\n",
    "print(\"Sample Data for slv_payers:\")\n",
    "df_slv_payers.show(5)\n",
    "df_slv_payers.write.mode(\"overwrite\").saveAsTable(\"slv_payers\")\n",
    "print(\"Successfully loaded transformed data into slv_hospital_db.slv_payers\")"
   ]
  },
  {
   "cell_type": "code",
   "execution_count": 15,
   "id": "cee3cf62-6681-47ac-b87b-7158b3905574",
   "metadata": {},
   "outputs": [
    {
     "data": {
      "text/html": [
       "<table>\n",
       "    <thead>\n",
       "        <tr>\n",
       "            <th>payer_id</th>\n",
       "            <th>payer_name</th>\n",
       "            <th>city</th>\n",
       "            <th>state_headquartered</th>\n",
       "        </tr>\n",
       "    </thead>\n",
       "    <tbody>\n",
       "        <tr>\n",
       "            <td>b3221cfc24fb339e823dbc4136cbc4ed</td>\n",
       "            <td>Dual Eligible</td>\n",
       "            <td>Baltimore</td>\n",
       "            <td>MD</td>\n",
       "        </tr>\n",
       "        <tr>\n",
       "            <td>7caa725450503b5e9eaebd5ea30e809c</td>\n",
       "            <td>Medicare</td>\n",
       "            <td>Baltimore</td>\n",
       "            <td>MD</td>\n",
       "        </tr>\n",
       "        <tr>\n",
       "            <td>7c4411ce02f139b5b9ecdfbea9ad3c1a</td>\n",
       "            <td>Medicaid</td>\n",
       "            <td>Baltimore</td>\n",
       "            <td>MD</td>\n",
       "        </tr>\n",
       "        <tr>\n",
       "            <td>d47b351028953b709897342d681c769d</td>\n",
       "            <td>Humana</td>\n",
       "            <td>Louisville</td>\n",
       "            <td>KY</td>\n",
       "        </tr>\n",
       "        <tr>\n",
       "            <td>6e2f1a2d27bd37018d08dae202c58632</td>\n",
       "            <td>Blue Cross Blue Shield</td>\n",
       "            <td>Chicago</td>\n",
       "            <td>IL</td>\n",
       "        </tr>\n",
       "    </tbody>\n",
       "</table>"
      ],
      "text/plain": [
       "+----------------------------------+------------------------+------------+---------------------+\n",
       "|                         payer_id |             payer_name |       city | state_headquartered |\n",
       "+----------------------------------+------------------------+------------+---------------------+\n",
       "| b3221cfc24fb339e823dbc4136cbc4ed |          Dual Eligible |  Baltimore |                  MD |\n",
       "| 7caa725450503b5e9eaebd5ea30e809c |               Medicare |  Baltimore |                  MD |\n",
       "| 7c4411ce02f139b5b9ecdfbea9ad3c1a |               Medicaid |  Baltimore |                  MD |\n",
       "| d47b351028953b709897342d681c769d |                 Humana | Louisville |                  KY |\n",
       "| 6e2f1a2d27bd37018d08dae202c58632 | Blue Cross Blue Shield |    Chicago |                  IL |\n",
       "+----------------------------------+------------------------+------------+---------------------+"
      ]
     },
     "execution_count": 15,
     "metadata": {},
     "output_type": "execute_result"
    }
   ],
   "source": [
    "%%sql\n",
    "\n",
    "select * from slv_payers limit 5;"
   ]
  },
  {
   "cell_type": "code",
   "execution_count": 12,
   "id": "e80d3560-70b0-4853-9412-0829daaf1582",
   "metadata": {},
   "outputs": [
    {
     "name": "stdout",
     "output_type": "stream",
     "text": [
      "Schema for slv_encounters:\n",
      "root\n",
      " |-- encounter_id: string (nullable = true)\n",
      " |-- start_time: timestamp (nullable = false)\n",
      " |-- stop_time: timestamp (nullable = false)\n",
      " |-- patient_id: string (nullable = false)\n",
      " |-- payer_id: string (nullable = false)\n",
      " |-- encounter_class: string (nullable = false)\n",
      " |-- encounter_code: long (nullable = false)\n",
      " |-- encounter_description: string (nullable = false)\n",
      " |-- base_cost_amount: decimal(10,2) (nullable = false)\n",
      " |-- total_claim_amount: decimal(10,2) (nullable = false)\n",
      " |-- payer_coverage_amount: decimal(10,2) (nullable = false)\n",
      " |-- reason_code: long (nullable = true)\n",
      " |-- reason_description: string (nullable = true)\n",
      "\n",
      "Sample Data for slv_encounters:\n",
      "+--------------------+-------------------+-------------------+--------------------+--------------------+---------------+--------------+---------------------+----------------+------------------+---------------------+-----------+------------------+\n",
      "|        encounter_id|         start_time|          stop_time|          patient_id|            payer_id|encounter_class|encounter_code|encounter_description|base_cost_amount|total_claim_amount|payer_coverage_amount|reason_code|reason_description|\n",
      "+--------------------+-------------------+-------------------+--------------------+--------------------+---------------+--------------+---------------------+----------------+------------------+---------------------+-----------+------------------+\n",
      "|32c84703248149cdd...|2011-01-02 09:26:36|2011-01-02 12:58:36|3de741697f6793049...|b1c428d64f0731e09...|     AMBULATORY|     185347001| Encounter for pro...|           85.55|           1018.02|                 0.00|       NULL|              NULL|\n",
      "|c98059da320ac0a6f...|2011-01-03 05:44:39|2011-01-03 06:01:42|d9ec2e4432e991481...|b1c428d64f0731e09...|     OUTPATIENT|     308335008| Patient encounter...|          142.58|           2619.36|                 0.00|       NULL|              NULL|\n",
      "|4ad28a3a2479782bf...|2011-01-03 14:32:11|2011-01-03 14:47:11|73babadf5b2bfee71...|7caa725450503b5e9...|     OUTPATIENT|     185349003| Encounter for che...|           85.55|            461.59|               305.27|       NULL|              NULL|\n",
      "|c3f4da61e4b421d55...|2011-01-03 16:24:45|2011-01-03 16:39:45|3b46a0b70f349b9ac...|b1c428d64f0731e09...|       WELLNESS|     162673000| General examinati...|          136.80|           1784.24|                 0.00|       NULL|              NULL|\n",
      "|a9183b4f257272ea5...|2011-01-03 17:36:53|2011-01-03 17:51:53|fa006887d93cd3028...|42c4fca7f8a93cd19...|     AMBULATORY|     390906007|   Followup encounter|           85.55|            234.72|                 0.00|   55822004|    Hyperlipidemia|\n",
      "+--------------------+-------------------+-------------------+--------------------+--------------------+---------------+--------------+---------------------+----------------+------------------+---------------------+-----------+------------------+\n",
      "only showing top 5 rows\n",
      "\n"
     ]
    },
    {
     "name": "stderr",
     "output_type": "stream",
     "text": [
      "[Stage 5:>                                                          (0 + 1) / 1]"
     ]
    },
    {
     "name": "stdout",
     "output_type": "stream",
     "text": [
      "Successfully loaded transformed data into slv_hospital_db.slv_encounters\n"
     ]
    },
    {
     "name": "stderr",
     "output_type": "stream",
     "text": [
      "                                                                                "
     ]
    }
   ],
   "source": [
    "df_brz_encounters = spark.table(\"brz_hospital_db.brz_encounters\")\n",
    "\n",
    "df_slv_encounters = df_brz_encounters.select(\n",
    "    clean_string_spark(col(\"Id\")).alias(\"encounter_id\"),\n",
    "    col(\"START\").alias(\"start_time\"),\n",
    "    col(\"STOP\").alias(\"stop_time\"),\n",
    "    clean_string_spark(col(\"PATIENT\")).alias(\"patient_id\"),\n",
    "    clean_string_spark(col(\"PAYER\")).alias(\"payer_id\"),\n",
    "    upper_case_spark(col(\"ENCOUNTERCLASS\")).alias(\"encounter_class\"),\n",
    "    col(\"CODE\").alias(\"encounter_code\"),\n",
    "    clean_string_spark(col(\"DESCRIPTION\")).alias(\"encounter_description\"),\n",
    "    col(\"BASE_ENCOUNTER_COST\").alias(\"base_cost_amount\"),\n",
    "    col(\"TOTAL_CLAIM_COST\").alias(\"total_claim_amount\"),\n",
    "    col(\"PAYER_COVERAGE\").alias(\"payer_coverage_amount\"),\n",
    "    col(\"REASONCODE\").alias(\"reason_code\"),\n",
    "    clean_string_spark(col(\"REASONDESCRIPTION\")).alias(\"reason_description\")\n",
    ")\n",
    "\n",
    "print(\"Schema for slv_encounters:\")\n",
    "df_slv_encounters.printSchema()\n",
    "print(\"Sample Data for slv_encounters:\")\n",
    "df_slv_encounters.show(5)\n",
    "df_slv_encounters.write.mode(\"overwrite\").saveAsTable(\"slv_encounters\")\n",
    "print(\"Successfully loaded transformed data into slv_hospital_db.slv_encounters\")\n"
   ]
  },
  {
   "cell_type": "code",
   "execution_count": 13,
   "id": "2569bd36-2a77-40ca-a8f6-ce8adbd3aceb",
   "metadata": {},
   "outputs": [
    {
     "data": {
      "text/html": [
       "<table>\n",
       "    <thead>\n",
       "        <tr>\n",
       "            <th>encounter_id</th>\n",
       "            <th>start_time</th>\n",
       "            <th>stop_time</th>\n",
       "            <th>patient_id</th>\n",
       "            <th>payer_id</th>\n",
       "            <th>encounter_class</th>\n",
       "            <th>encounter_code</th>\n",
       "            <th>encounter_description</th>\n",
       "            <th>base_cost_amount</th>\n",
       "            <th>total_claim_amount</th>\n",
       "            <th>payer_coverage_amount</th>\n",
       "            <th>reason_code</th>\n",
       "            <th>reason_description</th>\n",
       "        </tr>\n",
       "    </thead>\n",
       "    <tbody>\n",
       "        <tr>\n",
       "            <td>32c84703248149cdd5713899d5820253</td>\n",
       "            <td>2011-01-02 09:26:36</td>\n",
       "            <td>2011-01-02 12:58:36</td>\n",
       "            <td>3de741697f67930491d4757e0f3a14d2</td>\n",
       "            <td>b1c428d64f0731e090f068ffa6ff8c76</td>\n",
       "            <td>AMBULATORY</td>\n",
       "            <td>185347001</td>\n",
       "            <td>Encounter for problem procedure</td>\n",
       "            <td>85.55</td>\n",
       "            <td>1018.02</td>\n",
       "            <td>0.00</td>\n",
       "            <td>None</td>\n",
       "            <td>None</td>\n",
       "        </tr>\n",
       "        <tr>\n",
       "            <td>c98059da320ac0a6fcedc8815f3e3f39</td>\n",
       "            <td>2011-01-03 05:44:39</td>\n",
       "            <td>2011-01-03 06:01:42</td>\n",
       "            <td>d9ec2e4432e99148179a1653348cc4e2</td>\n",
       "            <td>b1c428d64f0731e090f068ffa6ff8c76</td>\n",
       "            <td>OUTPATIENT</td>\n",
       "            <td>308335008</td>\n",
       "            <td>Patient encounter procedure</td>\n",
       "            <td>142.58</td>\n",
       "            <td>2619.36</td>\n",
       "            <td>0.00</td>\n",
       "            <td>None</td>\n",
       "            <td>None</td>\n",
       "        </tr>\n",
       "        <tr>\n",
       "            <td>4ad28a3a2479782bf29cd5b3f41a001e</td>\n",
       "            <td>2011-01-03 14:32:11</td>\n",
       "            <td>2011-01-03 14:47:11</td>\n",
       "            <td>73babadf5b2bfee7189e6f41ff213e01</td>\n",
       "            <td>7caa725450503b5e9eaebd5ea30e809c</td>\n",
       "            <td>OUTPATIENT</td>\n",
       "            <td>185349003</td>\n",
       "            <td>Encounter for check up procedure</td>\n",
       "            <td>85.55</td>\n",
       "            <td>461.59</td>\n",
       "            <td>305.27</td>\n",
       "            <td>None</td>\n",
       "            <td>None</td>\n",
       "        </tr>\n",
       "        <tr>\n",
       "            <td>c3f4da61e4b421d5587afbc89943bc19</td>\n",
       "            <td>2011-01-03 16:24:45</td>\n",
       "            <td>2011-01-03 16:39:45</td>\n",
       "            <td>3b46a0b70f349b9ac319ace4a1f58c0b</td>\n",
       "            <td>b1c428d64f0731e090f068ffa6ff8c76</td>\n",
       "            <td>WELLNESS</td>\n",
       "            <td>162673000</td>\n",
       "            <td>General examination of patient procedure</td>\n",
       "            <td>136.80</td>\n",
       "            <td>1784.24</td>\n",
       "            <td>0.00</td>\n",
       "            <td>None</td>\n",
       "            <td>None</td>\n",
       "        </tr>\n",
       "        <tr>\n",
       "            <td>a9183b4f257272ea54c2b3cd038b4be7</td>\n",
       "            <td>2011-01-03 17:36:53</td>\n",
       "            <td>2011-01-03 17:51:53</td>\n",
       "            <td>fa006887d93cd3028b89f3c25f88c0e1</td>\n",
       "            <td>42c4fca7f8a93cd1982add9751bf3e2a</td>\n",
       "            <td>AMBULATORY</td>\n",
       "            <td>390906007</td>\n",
       "            <td>Followup encounter</td>\n",
       "            <td>85.55</td>\n",
       "            <td>234.72</td>\n",
       "            <td>0.00</td>\n",
       "            <td>55822004</td>\n",
       "            <td>Hyperlipidemia</td>\n",
       "        </tr>\n",
       "    </tbody>\n",
       "</table>"
      ],
      "text/plain": [
       "+----------------------------------+---------------------+---------------------+----------------------------------+----------------------------------+-----------------+----------------+------------------------------------------+------------------+--------------------+-----------------------+-------------+--------------------+\n",
       "|                     encounter_id |          start_time |           stop_time |                       patient_id |                         payer_id | encounter_class | encounter_code |                    encounter_description | base_cost_amount | total_claim_amount | payer_coverage_amount | reason_code | reason_description |\n",
       "+----------------------------------+---------------------+---------------------+----------------------------------+----------------------------------+-----------------+----------------+------------------------------------------+------------------+--------------------+-----------------------+-------------+--------------------+\n",
       "| 32c84703248149cdd5713899d5820253 | 2011-01-02 09:26:36 | 2011-01-02 12:58:36 | 3de741697f67930491d4757e0f3a14d2 | b1c428d64f0731e090f068ffa6ff8c76 |      AMBULATORY |      185347001 |          Encounter for problem procedure |            85.55 |            1018.02 |                  0.00 |        None |               None |\n",
       "| c98059da320ac0a6fcedc8815f3e3f39 | 2011-01-03 05:44:39 | 2011-01-03 06:01:42 | d9ec2e4432e99148179a1653348cc4e2 | b1c428d64f0731e090f068ffa6ff8c76 |      OUTPATIENT |      308335008 |              Patient encounter procedure |           142.58 |            2619.36 |                  0.00 |        None |               None |\n",
       "| 4ad28a3a2479782bf29cd5b3f41a001e | 2011-01-03 14:32:11 | 2011-01-03 14:47:11 | 73babadf5b2bfee7189e6f41ff213e01 | 7caa725450503b5e9eaebd5ea30e809c |      OUTPATIENT |      185349003 |         Encounter for check up procedure |            85.55 |             461.59 |                305.27 |        None |               None |\n",
       "| c3f4da61e4b421d5587afbc89943bc19 | 2011-01-03 16:24:45 | 2011-01-03 16:39:45 | 3b46a0b70f349b9ac319ace4a1f58c0b | b1c428d64f0731e090f068ffa6ff8c76 |        WELLNESS |      162673000 | General examination of patient procedure |           136.80 |            1784.24 |                  0.00 |        None |               None |\n",
       "| a9183b4f257272ea54c2b3cd038b4be7 | 2011-01-03 17:36:53 | 2011-01-03 17:51:53 | fa006887d93cd3028b89f3c25f88c0e1 | 42c4fca7f8a93cd1982add9751bf3e2a |      AMBULATORY |      390906007 |                       Followup encounter |            85.55 |             234.72 |                  0.00 |    55822004 |     Hyperlipidemia |\n",
       "+----------------------------------+---------------------+---------------------+----------------------------------+----------------------------------+-----------------+----------------+------------------------------------------+------------------+--------------------+-----------------------+-------------+--------------------+"
      ]
     },
     "execution_count": 13,
     "metadata": {},
     "output_type": "execute_result"
    }
   ],
   "source": [
    "%%sql\n",
    "\n",
    "select * from slv_encounters limit 5;"
   ]
  },
  {
   "cell_type": "code",
   "execution_count": 17,
   "id": "53123781-0ba2-4423-9614-e63582218dd6",
   "metadata": {},
   "outputs": [
    {
     "name": "stdout",
     "output_type": "stream",
     "text": [
      "Schema for slv_procedures:\n",
      "root\n",
      " |-- procedure_start_time: timestamp (nullable = false)\n",
      " |-- procedure_stop_time: timestamp (nullable = false)\n",
      " |-- patient_id: string (nullable = false)\n",
      " |-- encounter_id: string (nullable = false)\n",
      " |-- procedure_code: long (nullable = false)\n",
      " |-- procedure_description: string (nullable = false)\n",
      " |-- base_procedure_cost: decimal(10,2) (nullable = false)\n",
      " |-- reason_code: long (nullable = true)\n",
      " |-- reason_description: string (nullable = true)\n",
      "\n",
      "Sample Data for slv_procedures:\n",
      "+--------------------+-------------------+--------------------+--------------------+--------------+---------------------+-------------------+-----------+--------------------+\n",
      "|procedure_start_time|procedure_stop_time|          patient_id|        encounter_id|procedure_code|procedure_description|base_procedure_cost|reason_code|  reason_description|\n",
      "+--------------------+-------------------+--------------------+--------------------+--------------+---------------------+-------------------+-----------+--------------------+\n",
      "| 2011-01-02 09:26:36|2011-01-02 12:58:36|3de741697f6793049...|32c84703248149cdd...|     265764009| Renal dialysis pr...|             903.00|       NULL|                NULL|\n",
      "| 2011-01-03 05:44:39|2011-01-03 06:01:42|d9ec2e4432e991481...|c98059da320ac0a6f...|      76601001| Intramuscular inj...|            2477.00|       NULL|                NULL|\n",
      "| 2011-01-04 14:49:55|2011-01-04 15:04:55|d856d6e64c98e7a21...|2cfd4dddad13fe1e5...|     703423002| Combined chemothe...|           11620.00|  363406005|Malignant tumor o...|\n",
      "| 2011-01-05 04:02:09|2011-01-05 04:17:09|bc9d59c30a306e3bf...|179669360878f4db1...|     173160006| Diagnostic fibero...|            9796.00|  162573006|Suspected lung ca...|\n",
      "| 2011-01-05 12:58:36|2011-01-05 16:42:36|3de741697f6793049...|9de5f0b04ba4ce6f4...|     265764009| Renal dialysis pr...|            1255.00|       NULL|                NULL|\n",
      "+--------------------+-------------------+--------------------+--------------------+--------------+---------------------+-------------------+-----------+--------------------+\n",
      "only showing top 5 rows\n",
      "\n"
     ]
    },
    {
     "name": "stderr",
     "output_type": "stream",
     "text": [
      "                                                                                "
     ]
    },
    {
     "name": "stdout",
     "output_type": "stream",
     "text": [
      "Successfully loaded transformed data into slv_hospital_db.slv_procedures\n"
     ]
    }
   ],
   "source": [
    "df_brz_procedures = spark.table(\"brz_hospital_db.brz_procedures\")\n",
    "\n",
    "df_slv_procedures = df_brz_procedures.select(\n",
    "    col(\"START\").alias(\"procedure_start_time\"),\n",
    "    col(\"STOP\").alias(\"procedure_stop_time\"),\n",
    "    clean_string_spark(col(\"PATIENT\")).alias(\"patient_id\"),\n",
    "    clean_string_spark(col(\"ENCOUNTER\")).alias(\"encounter_id\"),\n",
    "    col(\"CODE\").alias(\"procedure_code\"),\n",
    "    clean_string_spark(col(\"DESCRIPTION\")).alias(\"procedure_description\"),\n",
    "    col(\"BASE_COST\").alias(\"base_procedure_cost\"),\n",
    "    col(\"REASONCODE\").alias(\"reason_code\"),\n",
    "    clean_string_spark(col(\"REASONDESCRIPTION\")).alias(\"reason_description\")\n",
    ")\n",
    "\n",
    "print(\"Schema for slv_procedures:\")\n",
    "df_slv_procedures.printSchema()\n",
    "print(\"Sample Data for slv_procedures:\")\n",
    "df_slv_procedures.show(5)\n",
    "df_slv_procedures.write.mode(\"overwrite\").saveAsTable(\"slv_procedures\")\n",
    "print(\"Successfully loaded transformed data into slv_hospital_db.slv_procedures\")\n"
   ]
  },
  {
   "cell_type": "code",
   "execution_count": 18,
   "id": "20330211-3745-443a-89f8-74001d17f977",
   "metadata": {},
   "outputs": [
    {
     "data": {
      "text/html": [
       "<table>\n",
       "    <thead>\n",
       "        <tr>\n",
       "            <th>procedure_start_time</th>\n",
       "            <th>procedure_stop_time</th>\n",
       "            <th>patient_id</th>\n",
       "            <th>encounter_id</th>\n",
       "            <th>procedure_code</th>\n",
       "            <th>procedure_description</th>\n",
       "            <th>base_procedure_cost</th>\n",
       "            <th>reason_code</th>\n",
       "            <th>reason_description</th>\n",
       "        </tr>\n",
       "    </thead>\n",
       "    <tbody>\n",
       "        <tr>\n",
       "            <td>2011-01-02 09:26:36</td>\n",
       "            <td>2011-01-02 12:58:36</td>\n",
       "            <td>3de741697f67930491d4757e0f3a14d2</td>\n",
       "            <td>32c84703248149cdd5713899d5820253</td>\n",
       "            <td>265764009</td>\n",
       "            <td>Renal dialysis procedure</td>\n",
       "            <td>903.00</td>\n",
       "            <td>None</td>\n",
       "            <td>None</td>\n",
       "        </tr>\n",
       "        <tr>\n",
       "            <td>2011-01-03 05:44:39</td>\n",
       "            <td>2011-01-03 06:01:42</td>\n",
       "            <td>d9ec2e4432e99148179a1653348cc4e2</td>\n",
       "            <td>c98059da320ac0a6fcedc8815f3e3f39</td>\n",
       "            <td>76601001</td>\n",
       "            <td>Intramuscular injection</td>\n",
       "            <td>2477.00</td>\n",
       "            <td>None</td>\n",
       "            <td>None</td>\n",
       "        </tr>\n",
       "        <tr>\n",
       "            <td>2011-01-04 14:49:55</td>\n",
       "            <td>2011-01-04 15:04:55</td>\n",
       "            <td>d856d6e64c98e7a2129b44076c63d008</td>\n",
       "            <td>2cfd4dddad13fe1e528b15051cea2ec3</td>\n",
       "            <td>703423002</td>\n",
       "            <td>Combined chemotherapy and radiation therapy procedure</td>\n",
       "            <td>11620.00</td>\n",
       "            <td>363406005</td>\n",
       "            <td>Malignant tumor of colon</td>\n",
       "        </tr>\n",
       "        <tr>\n",
       "            <td>2011-01-05 04:02:09</td>\n",
       "            <td>2011-01-05 04:17:09</td>\n",
       "            <td>bc9d59c30a306e3bf47d022e4f03c8de</td>\n",
       "            <td>179669360878f4db128ba43ae10d0878</td>\n",
       "            <td>173160006</td>\n",
       "            <td>Diagnostic fiberoptic bronchoscopy procedure</td>\n",
       "            <td>9796.00</td>\n",
       "            <td>162573006</td>\n",
       "            <td>Suspected lung cancer situation</td>\n",
       "        </tr>\n",
       "        <tr>\n",
       "            <td>2011-01-05 12:58:36</td>\n",
       "            <td>2011-01-05 16:42:36</td>\n",
       "            <td>3de741697f67930491d4757e0f3a14d2</td>\n",
       "            <td>9de5f0b04ba4ce6f45fbb55c202f31a5</td>\n",
       "            <td>265764009</td>\n",
       "            <td>Renal dialysis procedure</td>\n",
       "            <td>1255.00</td>\n",
       "            <td>None</td>\n",
       "            <td>None</td>\n",
       "        </tr>\n",
       "    </tbody>\n",
       "</table>"
      ],
      "text/plain": [
       "+----------------------+---------------------+----------------------------------+----------------------------------+----------------+-------------------------------------------------------+---------------------+-------------+---------------------------------+\n",
       "| procedure_start_time | procedure_stop_time |                       patient_id |                     encounter_id | procedure_code |                                 procedure_description | base_procedure_cost | reason_code |              reason_description |\n",
       "+----------------------+---------------------+----------------------------------+----------------------------------+----------------+-------------------------------------------------------+---------------------+-------------+---------------------------------+\n",
       "|  2011-01-02 09:26:36 | 2011-01-02 12:58:36 | 3de741697f67930491d4757e0f3a14d2 | 32c84703248149cdd5713899d5820253 |      265764009 |                              Renal dialysis procedure |              903.00 |        None |                            None |\n",
       "|  2011-01-03 05:44:39 | 2011-01-03 06:01:42 | d9ec2e4432e99148179a1653348cc4e2 | c98059da320ac0a6fcedc8815f3e3f39 |       76601001 |                               Intramuscular injection |             2477.00 |        None |                            None |\n",
       "|  2011-01-04 14:49:55 | 2011-01-04 15:04:55 | d856d6e64c98e7a2129b44076c63d008 | 2cfd4dddad13fe1e528b15051cea2ec3 |      703423002 | Combined chemotherapy and radiation therapy procedure |            11620.00 |   363406005 |        Malignant tumor of colon |\n",
       "|  2011-01-05 04:02:09 | 2011-01-05 04:17:09 | bc9d59c30a306e3bf47d022e4f03c8de | 179669360878f4db128ba43ae10d0878 |      173160006 |          Diagnostic fiberoptic bronchoscopy procedure |             9796.00 |   162573006 | Suspected lung cancer situation |\n",
       "|  2011-01-05 12:58:36 | 2011-01-05 16:42:36 | 3de741697f67930491d4757e0f3a14d2 | 9de5f0b04ba4ce6f45fbb55c202f31a5 |      265764009 |                              Renal dialysis procedure |             1255.00 |        None |                            None |\n",
       "+----------------------+---------------------+----------------------------------+----------------------------------+----------------+-------------------------------------------------------+---------------------+-------------+---------------------------------+"
      ]
     },
     "execution_count": 18,
     "metadata": {},
     "output_type": "execute_result"
    }
   ],
   "source": [
    "%%sql\n",
    "\n",
    "select * from slv_procedures limit 5;"
   ]
  },
  {
   "cell_type": "code",
   "execution_count": 19,
   "id": "147cbbfb-b83e-454f-933b-1aa24960fbda",
   "metadata": {},
   "outputs": [
    {
     "data": {
      "text/html": [
       "<table>\n",
       "    <thead>\n",
       "        <tr>\n",
       "            <th>namespace</th>\n",
       "            <th>tableName</th>\n",
       "            <th>isTemporary</th>\n",
       "        </tr>\n",
       "    </thead>\n",
       "    <tbody>\n",
       "        <tr>\n",
       "            <td>slv_hospital_db</td>\n",
       "            <td>slv_encounters</td>\n",
       "            <td>False</td>\n",
       "        </tr>\n",
       "        <tr>\n",
       "            <td>slv_hospital_db</td>\n",
       "            <td>slv_patients</td>\n",
       "            <td>False</td>\n",
       "        </tr>\n",
       "        <tr>\n",
       "            <td>slv_hospital_db</td>\n",
       "            <td>slv_payers</td>\n",
       "            <td>False</td>\n",
       "        </tr>\n",
       "        <tr>\n",
       "            <td>slv_hospital_db</td>\n",
       "            <td>slv_procedures</td>\n",
       "            <td>False</td>\n",
       "        </tr>\n",
       "    </tbody>\n",
       "</table>"
      ],
      "text/plain": [
       "+-----------------+----------------+-------------+\n",
       "|       namespace |      tableName | isTemporary |\n",
       "+-----------------+----------------+-------------+\n",
       "| slv_hospital_db | slv_encounters |       False |\n",
       "| slv_hospital_db |   slv_patients |       False |\n",
       "| slv_hospital_db |     slv_payers |       False |\n",
       "| slv_hospital_db | slv_procedures |       False |\n",
       "+-----------------+----------------+-------------+"
      ]
     },
     "execution_count": 19,
     "metadata": {},
     "output_type": "execute_result"
    }
   ],
   "source": [
    "%%sql\n",
    "\n",
    "show tables;"
   ]
  },
  {
   "cell_type": "markdown",
   "id": "c7044b6c-b109-4a5c-826d-32f39e590023",
   "metadata": {
    "jp-MarkdownHeadingCollapsed": true
   },
   "source": [
    "# Gold Medalion"
   ]
  },
  {
   "cell_type": "code",
   "execution_count": 20,
   "id": "3e0b4534-bb1d-423d-9c8c-08c222cf91db",
   "metadata": {},
   "outputs": [
    {
     "data": {
      "text/html": [
       "<table>\n",
       "    <thead>\n",
       "        <tr>\n",
       "        </tr>\n",
       "    </thead>\n",
       "    <tbody>\n",
       "    </tbody>\n",
       "</table>"
      ],
      "text/plain": [
       "++\n",
       "||\n",
       "++\n",
       "++"
      ]
     },
     "execution_count": 20,
     "metadata": {},
     "output_type": "execute_result"
    }
   ],
   "source": [
    "%%sql\n",
    "\n",
    "create database if not exists gld_hospital_db;"
   ]
  },
  {
   "cell_type": "code",
   "execution_count": 21,
   "id": "55cc1114-6e20-4562-b6d0-61d0ae3e4fa5",
   "metadata": {},
   "outputs": [
    {
     "data": {
      "text/html": [
       "<table>\n",
       "    <thead>\n",
       "        <tr>\n",
       "            <th>namespace</th>\n",
       "        </tr>\n",
       "    </thead>\n",
       "    <tbody>\n",
       "        <tr>\n",
       "            <td>brz_hospital_db</td>\n",
       "        </tr>\n",
       "        <tr>\n",
       "            <td>coffeeshop</td>\n",
       "        </tr>\n",
       "        <tr>\n",
       "            <td>slv_hospital_db</td>\n",
       "        </tr>\n",
       "        <tr>\n",
       "            <td>coffeeshop_medalion</td>\n",
       "        </tr>\n",
       "        <tr>\n",
       "            <td>gld_hospital_db</td>\n",
       "        </tr>\n",
       "    </tbody>\n",
       "</table>"
      ],
      "text/plain": [
       "+---------------------+\n",
       "|           namespace |\n",
       "+---------------------+\n",
       "|     brz_hospital_db |\n",
       "|          coffeeshop |\n",
       "|     slv_hospital_db |\n",
       "| coffeeshop_medalion |\n",
       "|     gld_hospital_db |\n",
       "+---------------------+"
      ]
     },
     "execution_count": 21,
     "metadata": {},
     "output_type": "execute_result"
    }
   ],
   "source": [
    "%%sql\n",
    "\n",
    "show databases;"
   ]
  },
  {
   "cell_type": "code",
   "execution_count": 22,
   "id": "9d34e0d7-5bc9-45c4-aa79-1920121eae48",
   "metadata": {},
   "outputs": [
    {
     "data": {
      "text/html": [
       "<table>\n",
       "    <thead>\n",
       "        <tr>\n",
       "        </tr>\n",
       "    </thead>\n",
       "    <tbody>\n",
       "    </tbody>\n",
       "</table>"
      ],
      "text/plain": [
       "++\n",
       "||\n",
       "++\n",
       "++"
      ]
     },
     "execution_count": 22,
     "metadata": {},
     "output_type": "execute_result"
    }
   ],
   "source": [
    "%%sql\n",
    "\n",
    "use gld_hospital_db"
   ]
  },
  {
   "cell_type": "code",
   "execution_count": 23,
   "id": "1922ffe0-d02a-4047-8f36-e45b490695ac",
   "metadata": {},
   "outputs": [
    {
     "data": {
      "text/html": [
       "<table>\n",
       "    <thead>\n",
       "        <tr>\n",
       "            <th>namespace</th>\n",
       "            <th>tableName</th>\n",
       "            <th>isTemporary</th>\n",
       "        </tr>\n",
       "    </thead>\n",
       "    <tbody>\n",
       "    </tbody>\n",
       "</table>"
      ],
      "text/plain": [
       "+-----------+-----------+-------------+\n",
       "| namespace | tableName | isTemporary |\n",
       "+-----------+-----------+-------------+\n",
       "+-----------+-----------+-------------+"
      ]
     },
     "execution_count": 23,
     "metadata": {},
     "output_type": "execute_result"
    }
   ],
   "source": [
    "%%sql\n",
    "\n",
    "show tables;"
   ]
  },
  {
   "cell_type": "code",
   "execution_count": 31,
   "id": "53d9b060-f742-4d5b-87b8-9c5b03215152",
   "metadata": {},
   "outputs": [
    {
     "name": "stdout",
     "output_type": "stream",
     "text": [
      "Collecting deltalake\n",
      "  Downloading deltalake-1.1.4-cp39-abi3-manylinux_2_17_x86_64.manylinux2014_x86_64.whl.metadata (4.6 kB)\n",
      "Collecting arro3-core>=0.5.0 (from deltalake)\n",
      "  Downloading arro3_core-0.5.1-cp311-cp311-manylinux_2_17_x86_64.manylinux2014_x86_64.whl.metadata (949 bytes)\n",
      "Collecting deprecated>=1.2.18 (from deltalake)\n",
      "  Downloading Deprecated-1.2.18-py2.py3-none-any.whl.metadata (5.7 kB)\n",
      "Requirement already satisfied: typing-extensions in /usr/local/lib/python3.11/site-packages (from arro3-core>=0.5.0->deltalake) (4.14.1)\n",
      "Collecting wrapt<2,>=1.10 (from deprecated>=1.2.18->deltalake)\n",
      "  Downloading wrapt-1.17.3-cp311-cp311-manylinux1_x86_64.manylinux_2_28_x86_64.manylinux_2_5_x86_64.whl.metadata (6.4 kB)\n",
      "Downloading deltalake-1.1.4-cp39-abi3-manylinux_2_17_x86_64.manylinux2014_x86_64.whl (53.1 MB)\n",
      "\u001b[2K   \u001b[90m━━━━━━━━━━━━━━━━━━━━━━━━━━━━━━━━━━━━━━━━\u001b[0m \u001b[32m53.1/53.1 MB\u001b[0m \u001b[31m3.4 MB/s\u001b[0m eta \u001b[36m0:00:00\u001b[0m00:01\u001b[0m00:01\u001b[0m\n",
      "\u001b[?25hDownloading arro3_core-0.5.1-cp311-cp311-manylinux_2_17_x86_64.manylinux2014_x86_64.whl (2.5 MB)\n",
      "\u001b[2K   \u001b[90m━━━━━━━━━━━━━━━━━━━━━━━━━━━━━━━━━━━━━━━━\u001b[0m \u001b[32m2.5/2.5 MB\u001b[0m \u001b[31m3.4 MB/s\u001b[0m eta \u001b[36m0:00:00\u001b[0ma \u001b[36m0:00:01\u001b[0m\n",
      "\u001b[?25hDownloading Deprecated-1.2.18-py2.py3-none-any.whl (10.0 kB)\n",
      "Downloading wrapt-1.17.3-cp311-cp311-manylinux1_x86_64.manylinux_2_28_x86_64.manylinux_2_5_x86_64.whl (82 kB)\n",
      "Installing collected packages: wrapt, arro3-core, deprecated, deltalake\n",
      "\u001b[2K   \u001b[90m━━━━━━━━━━━━━━━━━━━━━━━━━━━━━━━━━━━━━━━━\u001b[0m \u001b[32m4/4\u001b[0m [deltalake]/4\u001b[0m [deltalake]\n",
      "\u001b[1A\u001b[2KSuccessfully installed arro3-core-0.5.1 deltalake-1.1.4 deprecated-1.2.18 wrapt-1.17.3\n",
      "\u001b[33mWARNING: Running pip as the 'root' user can result in broken permissions and conflicting behaviour with the system package manager, possibly rendering your system unusable. It is recommended to use a virtual environment instead: https://pip.pypa.io/warnings/venv. Use the --root-user-action option if you know what you are doing and want to suppress this warning.\u001b[0m\u001b[33m\n",
      "\u001b[0m\n",
      "\u001b[1m[\u001b[0m\u001b[34;49mnotice\u001b[0m\u001b[1;39;49m]\u001b[0m\u001b[39;49m A new release of pip is available: \u001b[0m\u001b[31;49m25.1.1\u001b[0m\u001b[39;49m -> \u001b[0m\u001b[32;49m25.2\u001b[0m\n",
      "\u001b[1m[\u001b[0m\u001b[34;49mnotice\u001b[0m\u001b[1;39;49m]\u001b[0m\u001b[39;49m To update, run: \u001b[0m\u001b[32;49mpip install --upgrade pip\u001b[0m\n"
     ]
    }
   ],
   "source": [
    "!pip install deltalake"
   ]
  },
  {
   "cell_type": "code",
   "execution_count": 37,
   "id": "6434dcb1-5e87-452b-8432-397a67757a7c",
   "metadata": {},
   "outputs": [
    {
     "name": "stdout",
     "output_type": "stream",
     "text": [
      "--- Transforming patients data into dim_patient (Gold Layer) ---\n",
      "Schema for dim_patient (Gold):\n",
      "root\n",
      " |-- patient_id: string (nullable = true)\n",
      " |-- birth_date: date (nullable = true)\n",
      " |-- death_date: date (nullable = true)\n",
      " |-- first_name: string (nullable = true)\n",
      " |-- last_name: string (nullable = true)\n",
      " |-- gender: string (nullable = true)\n",
      " |-- race: string (nullable = true)\n",
      " |-- ethnicity: string (nullable = true)\n",
      " |-- city: string (nullable = true)\n",
      " |-- state: string (nullable = true)\n",
      " |-- zip_code: string (nullable = true)\n",
      " |-- latitude: decimal(10,8) (nullable = true)\n",
      " |-- longitude: decimal(11,8) (nullable = true)\n",
      " |-- content_hash: string (nullable = false)\n",
      " |-- dbt_valid_from: date (nullable = true)\n",
      " |-- dbt_valid_to: date (nullable = true)\n",
      " |-- is_current: boolean (nullable = false)\n",
      " |-- dim_patient_key: string (nullable = true)\n",
      "\n",
      "Sample Data for dim_patient (Gold):\n",
      "+--------------------+----------+----------+----------+-------------+------+-----+-----------+------+-------------+--------+-----------+------------+--------------------+--------------+------------+----------+--------------------+\n",
      "|          patient_id|birth_date|death_date|first_name|    last_name|gender| race|  ethnicity|  city|        state|zip_code|   latitude|   longitude|        content_hash|dbt_valid_from|dbt_valid_to|is_current|     dim_patient_key|\n",
      "+--------------------+----------+----------+----------+-------------+------+-----+-----------+------+-------------+--------+-----------+------------+--------------------+--------------+------------+----------+--------------------+\n",
      "|5605b66be92dc16c1...|1977-03-19|      NULL| Nikita578|    Erdman779|     F|white|nonhispanic|Quincy|Massachusetts|    2186|42.29093738|-70.97550306|76f32274387ea4593...|    2025-08-12|  9999-12-31|      true|d87b269d7cecd626f...|\n",
      "|6e5ae27c80387988e...|1940-02-19|      NULL|   Zane918|Hodkiewicz467|     M|white|nonhispanic|Boston|Massachusetts|    2135|42.30883120|-71.06316160|a82adee2180eee9d9...|    2025-08-12|  9999-12-31|      true|1678199697cea48e5...|\n",
      "|8123d07608869007e...|1958-06-04|      NULL|  Quinn173| Marquardt819|     M|white|nonhispanic|Quincy|Massachusetts|    2170|42.26517685|-70.96708508|108c02fdcd0afbff4...|    2025-08-12|  9999-12-31|      true|ddf70062e507daf86...|\n",
      "|770518e46133648e6...|1928-12-25|2017-09-29|   Abel832|   Smitham825|     M|white|   hispanic|Boston|Massachusetts|    2118|42.33430374|-71.06680120|6ca0ad9438eced0b3...|    2025-08-12|  9999-12-31|      true|58a6cd7a0f69c553c...|\n",
      "|f96addf581b90aab7...|1928-12-25|2014-02-23|  Edwin773|   Labadie908|     M|white|   hispanic|Boston|Massachusetts|    2125|42.34677140|-71.05881297|38d2ec95a20cd6250...|    2025-08-12|  9999-12-31|      true|1225a88e9b4fd9e37...|\n",
      "+--------------------+----------+----------+----------+-------------+------+-----+-----------+------+-------------+--------+-----------+------------+--------------------+--------------+------------+----------+--------------------+\n",
      "only showing top 5 rows\n",
      "\n",
      "Successfully loaded transformed data into gld_hospital_db.dim_patient\n"
     ]
    }
   ],
   "source": [
    "from pyspark.sql.functions import col, lit, current_date, md5, concat_ws, coalesce, cast, sha2, concat, expr\n",
    "from pyspark.sql.types import DateType\n",
    "from datetime import datetime\n",
    "\n",
    "print(\"--- Transforming patients data into dim_patient (Gold Layer) ---\")\n",
    "\n",
    "# Ambil tanggal eksekusi (bisa dari tanggal sistem atau manual untuk testing)\n",
    "execution_date_for_dim = datetime.now().strftime('%Y-%m-%d')\n",
    "\n",
    "# Pastikan df_slv_patients sudah dibuat di langkah Silver sebelumnya\n",
    "df_slv_patients = spark.table(\"slv_hospital_db.slv_patients\")\n",
    "\n",
    "# --- FIX for content_hash (sudah berhasil) ---\n",
    "df_slv_patients.createOrReplaceTempView(\"temp_slv_patients_for_hash\")\n",
    "\n",
    "columns_to_hash = [\n",
    "    \"patient_id\", \"birth_date\", \"death_date\", \"first_name\", \"last_name\",\n",
    "    \"gender\", \"race\", \"ethnicity\", \"city\", \"state\", \"zip_code\",\n",
    "    \"latitude\", \"longitude\"\n",
    "]\n",
    "\n",
    "hash_sql_parts = []\n",
    "for c in columns_to_hash:\n",
    "    hash_sql_parts.append(f\"COALESCE(CAST({c} AS STRING), '')\")\n",
    "\n",
    "md5_hash_sql_expression = f\"MD5(CONCAT_WS('|', {', '.join(hash_sql_parts)}))\"\n",
    "\n",
    "df_slv_patients_with_hash = spark.sql(f\"\"\"\n",
    "    SELECT\n",
    "        *,\n",
    "        {md5_hash_sql_expression} AS content_hash\n",
    "    FROM temp_slv_patients_for_hash\n",
    "\"\"\")\n",
    "\n",
    "spark.catalog.dropTempView(\"temp_slv_patients_for_hash\")\n",
    "# --- END FIX for content_hash ---\n",
    "\n",
    "\n",
    "df_gld_dim_patient = df_slv_patients_with_hash.select(\n",
    "    col(\"patient_id\"),\n",
    "    col(\"birth_date\"),\n",
    "    col(\"death_date\"),\n",
    "    col(\"first_name\"),\n",
    "    col(\"last_name\"),\n",
    "    col(\"gender\"),\n",
    "    col(\"race\"),\n",
    "    col(\"ethnicity\"),\n",
    "    col(\"city\"),\n",
    "    col(\"state\"),\n",
    "    col(\"zip_code\"),\n",
    "    col(\"latitude\"),\n",
    "    col(\"longitude\"),\n",
    "    col(\"content_hash\"),\n",
    "    # --- START: Tambahkan kembali kolom-kolom ini ---\n",
    "    lit(execution_date_for_dim).cast(DateType()).alias(\"dbt_valid_from\"), # Aliaskan sebagai dbt_valid_from\n",
    "    lit(\"9999-12-31\").cast(DateType()).alias(\"dbt_valid_to\"),           # Aliaskan sebagai dbt_valid_to\n",
    "    lit(True).alias(\"is_current\")                                      # Aliaskan sebagai is_current\n",
    "    # --- END: Tambahkan kembali kolom-kolom ini ---\n",
    ")\n",
    "\n",
    "# Buat surrogate key\n",
    "surrogate_key_sql_expression = f\"SHA2(CONCAT(CAST(patient_id AS STRING), CAST(dbt_valid_from AS STRING)), 256)\" # Gunakan dbt_valid_from\n",
    "df_gld_dim_patient = df_gld_dim_patient.withColumn(\n",
    "    \"dim_patient_key\", expr(surrogate_key_sql_expression)\n",
    ")\n",
    "\n",
    "\n",
    "print(\"Schema for dim_patient (Gold):\")\n",
    "df_gld_dim_patient.printSchema()\n",
    "print(\"Sample Data for dim_patient (Gold):\")\n",
    "df_gld_dim_patient.show(5)\n",
    "\n",
    "spark.sql(\"USE gld_hospital_db\")\n",
    "df_gld_dim_patient.write.mode(\"overwrite\").saveAsTable(\"gld_dim_patient\")\n",
    "print(\"Successfully loaded transformed data into gld_hospital_db.dim_patient\")"
   ]
  },
  {
   "cell_type": "code",
   "execution_count": 71,
   "id": "a646c585-bfbd-4312-8cf3-df44dd8b15bc",
   "metadata": {},
   "outputs": [
    {
     "data": {
      "text/html": [
       "<table>\n",
       "    <thead>\n",
       "        <tr>\n",
       "            <th>patient_id</th>\n",
       "            <th>birth_date</th>\n",
       "            <th>death_date</th>\n",
       "            <th>first_name</th>\n",
       "            <th>last_name</th>\n",
       "            <th>gender</th>\n",
       "            <th>race</th>\n",
       "            <th>ethnicity</th>\n",
       "            <th>city</th>\n",
       "            <th>state</th>\n",
       "            <th>zip_code</th>\n",
       "            <th>latitude</th>\n",
       "            <th>longitude</th>\n",
       "            <th>content_hash</th>\n",
       "            <th>dbt_valid_from</th>\n",
       "            <th>dbt_valid_to</th>\n",
       "            <th>is_current</th>\n",
       "            <th>dim_patient_key</th>\n",
       "        </tr>\n",
       "    </thead>\n",
       "    <tbody>\n",
       "        <tr>\n",
       "            <td>5605b66be92dc16c1b83b8bf7040d51f</td>\n",
       "            <td>1977-03-19</td>\n",
       "            <td>None</td>\n",
       "            <td>Nikita578</td>\n",
       "            <td>Erdman779</td>\n",
       "            <td>F</td>\n",
       "            <td>white</td>\n",
       "            <td>nonhispanic</td>\n",
       "            <td>Quincy</td>\n",
       "            <td>Massachusetts</td>\n",
       "            <td>2186</td>\n",
       "            <td>42.29093738</td>\n",
       "            <td>-70.97550306</td>\n",
       "            <td>76f32274387ea4593ebbd6ff18d4741d</td>\n",
       "            <td>2025-08-12</td>\n",
       "            <td>9999-12-31</td>\n",
       "            <td>True</td>\n",
       "            <td>d87b269d7cecd626f6ce8b26ab9446ef76e8575ec64645371a7afa84c0e4612f</td>\n",
       "        </tr>\n",
       "        <tr>\n",
       "            <td>6e5ae27c80387988e2c025a103f01bfa</td>\n",
       "            <td>1940-02-19</td>\n",
       "            <td>None</td>\n",
       "            <td>Zane918</td>\n",
       "            <td>Hodkiewicz467</td>\n",
       "            <td>M</td>\n",
       "            <td>white</td>\n",
       "            <td>nonhispanic</td>\n",
       "            <td>Boston</td>\n",
       "            <td>Massachusetts</td>\n",
       "            <td>2135</td>\n",
       "            <td>42.30883120</td>\n",
       "            <td>-71.06316160</td>\n",
       "            <td>a82adee2180eee9d982fcb21dc929d53</td>\n",
       "            <td>2025-08-12</td>\n",
       "            <td>9999-12-31</td>\n",
       "            <td>True</td>\n",
       "            <td>1678199697cea48e58fab23949827f403c189e4113856a687fa1cfa3f53aa8d0</td>\n",
       "        </tr>\n",
       "        <tr>\n",
       "            <td>8123d07608869007e956d5864aa121a7</td>\n",
       "            <td>1958-06-04</td>\n",
       "            <td>None</td>\n",
       "            <td>Quinn173</td>\n",
       "            <td>Marquardt819</td>\n",
       "            <td>M</td>\n",
       "            <td>white</td>\n",
       "            <td>nonhispanic</td>\n",
       "            <td>Quincy</td>\n",
       "            <td>Massachusetts</td>\n",
       "            <td>2170</td>\n",
       "            <td>42.26517685</td>\n",
       "            <td>-70.96708508</td>\n",
       "            <td>108c02fdcd0afbff48dde6596ded9503</td>\n",
       "            <td>2025-08-12</td>\n",
       "            <td>9999-12-31</td>\n",
       "            <td>True</td>\n",
       "            <td>ddf70062e507daf86bd794f1b1977673c98e6ac108020bdf9303bc6f703524d0</td>\n",
       "        </tr>\n",
       "        <tr>\n",
       "            <td>770518e46133648e60c9071eb2f0e2ce</td>\n",
       "            <td>1928-12-25</td>\n",
       "            <td>2017-09-29</td>\n",
       "            <td>Abel832</td>\n",
       "            <td>Smitham825</td>\n",
       "            <td>M</td>\n",
       "            <td>white</td>\n",
       "            <td>hispanic</td>\n",
       "            <td>Boston</td>\n",
       "            <td>Massachusetts</td>\n",
       "            <td>2118</td>\n",
       "            <td>42.33430374</td>\n",
       "            <td>-71.06680120</td>\n",
       "            <td>6ca0ad9438eced0b316913862acee1ef</td>\n",
       "            <td>2025-08-12</td>\n",
       "            <td>9999-12-31</td>\n",
       "            <td>True</td>\n",
       "            <td>58a6cd7a0f69c553c67a089e020a9a6ab0d1b486469f43a85441c1342366d0e6</td>\n",
       "        </tr>\n",
       "        <tr>\n",
       "            <td>f96addf581b90aab7855d208d3d352c5</td>\n",
       "            <td>1928-12-25</td>\n",
       "            <td>2014-02-23</td>\n",
       "            <td>Edwin773</td>\n",
       "            <td>Labadie908</td>\n",
       "            <td>M</td>\n",
       "            <td>white</td>\n",
       "            <td>hispanic</td>\n",
       "            <td>Boston</td>\n",
       "            <td>Massachusetts</td>\n",
       "            <td>2125</td>\n",
       "            <td>42.34677140</td>\n",
       "            <td>-71.05881297</td>\n",
       "            <td>38d2ec95a20cd62500523b6113b9c041</td>\n",
       "            <td>2025-08-12</td>\n",
       "            <td>9999-12-31</td>\n",
       "            <td>True</td>\n",
       "            <td>1225a88e9b4fd9e3784e6fb70346bd12433e2219e290c21f4aad0c67d3d1f7da</td>\n",
       "        </tr>\n",
       "    </tbody>\n",
       "</table>"
      ],
      "text/plain": [
       "+----------------------------------+------------+------------+------------+---------------+--------+-------+-------------+--------+---------------+----------+-------------+--------------+----------------------------------+----------------+--------------+------------+------------------------------------------------------------------+\n",
       "|                       patient_id | birth_date | death_date | first_name |     last_name | gender |  race |   ethnicity |   city |         state | zip_code |    latitude |    longitude |                     content_hash | dbt_valid_from | dbt_valid_to | is_current |                                                  dim_patient_key |\n",
       "+----------------------------------+------------+------------+------------+---------------+--------+-------+-------------+--------+---------------+----------+-------------+--------------+----------------------------------+----------------+--------------+------------+------------------------------------------------------------------+\n",
       "| 5605b66be92dc16c1b83b8bf7040d51f | 1977-03-19 |       None |  Nikita578 |     Erdman779 |      F | white | nonhispanic | Quincy | Massachusetts |     2186 | 42.29093738 | -70.97550306 | 76f32274387ea4593ebbd6ff18d4741d |     2025-08-12 |   9999-12-31 |       True | d87b269d7cecd626f6ce8b26ab9446ef76e8575ec64645371a7afa84c0e4612f |\n",
       "| 6e5ae27c80387988e2c025a103f01bfa | 1940-02-19 |       None |    Zane918 | Hodkiewicz467 |      M | white | nonhispanic | Boston | Massachusetts |     2135 | 42.30883120 | -71.06316160 | a82adee2180eee9d982fcb21dc929d53 |     2025-08-12 |   9999-12-31 |       True | 1678199697cea48e58fab23949827f403c189e4113856a687fa1cfa3f53aa8d0 |\n",
       "| 8123d07608869007e956d5864aa121a7 | 1958-06-04 |       None |   Quinn173 |  Marquardt819 |      M | white | nonhispanic | Quincy | Massachusetts |     2170 | 42.26517685 | -70.96708508 | 108c02fdcd0afbff48dde6596ded9503 |     2025-08-12 |   9999-12-31 |       True | ddf70062e507daf86bd794f1b1977673c98e6ac108020bdf9303bc6f703524d0 |\n",
       "| 770518e46133648e60c9071eb2f0e2ce | 1928-12-25 | 2017-09-29 |    Abel832 |    Smitham825 |      M | white |    hispanic | Boston | Massachusetts |     2118 | 42.33430374 | -71.06680120 | 6ca0ad9438eced0b316913862acee1ef |     2025-08-12 |   9999-12-31 |       True | 58a6cd7a0f69c553c67a089e020a9a6ab0d1b486469f43a85441c1342366d0e6 |\n",
       "| f96addf581b90aab7855d208d3d352c5 | 1928-12-25 | 2014-02-23 |   Edwin773 |    Labadie908 |      M | white |    hispanic | Boston | Massachusetts |     2125 | 42.34677140 | -71.05881297 | 38d2ec95a20cd62500523b6113b9c041 |     2025-08-12 |   9999-12-31 |       True | 1225a88e9b4fd9e3784e6fb70346bd12433e2219e290c21f4aad0c67d3d1f7da |\n",
       "+----------------------------------+------------+------------+------------+---------------+--------+-------+-------------+--------+---------------+----------+-------------+--------------+----------------------------------+----------------+--------------+------------+------------------------------------------------------------------+"
      ]
     },
     "execution_count": 71,
     "metadata": {},
     "output_type": "execute_result"
    }
   ],
   "source": [
    "%%sql\n",
    "\n",
    "select * from gld_dim_patient limit 5\n"
   ]
  },
  {
   "cell_type": "code",
   "execution_count": 45,
   "id": "441e92ff-1c1f-4df1-9e3d-c783315b3fe0",
   "metadata": {},
   "outputs": [
    {
     "name": "stdout",
     "output_type": "stream",
     "text": [
      "\n",
      "--- Transforming payers data into dim_payer (Gold Layer) ---\n",
      "Schema for dim_payer (Gold):\n",
      "root\n",
      " |-- payer_id: string (nullable = true)\n",
      " |-- payer_name: string (nullable = true)\n",
      " |-- city: string (nullable = true)\n",
      " |-- state_headquartered: string (nullable = true)\n",
      " |-- content_hash: string (nullable = false)\n",
      " |-- dbt_valid_from: date (nullable = true)\n",
      " |-- dbt_valid_to: date (nullable = true)\n",
      " |-- is_current: boolean (nullable = false)\n",
      " |-- dim_payer_key: string (nullable = true)\n",
      "\n",
      "Sample Data for dim_payer (Gold):\n",
      "+--------------------+--------------------+----------+-------------------+--------------------+--------------+------------+----------+--------------------+\n",
      "|            payer_id|          payer_name|      city|state_headquartered|        content_hash|dbt_valid_from|dbt_valid_to|is_current|       dim_payer_key|\n",
      "+--------------------+--------------------+----------+-------------------+--------------------+--------------+------------+----------+--------------------+\n",
      "|b3221cfc24fb339e8...|       Dual Eligible| Baltimore|                 MD|de3eee6d16d108a48...|    2025-08-12|  9999-12-31|      true|d2d6490a165892960...|\n",
      "|7caa725450503b5e9...|            Medicare| Baltimore|                 MD|b26a07f4b5ef6c698...|    2025-08-12|  9999-12-31|      true|ede208ce5989d0d8a...|\n",
      "|7c4411ce02f139b5b...|            Medicaid| Baltimore|                 MD|a1a70fc5eb188087d...|    2025-08-12|  9999-12-31|      true|fbb25b987a96721e7...|\n",
      "|d47b351028953b709...|              Humana|Louisville|                 KY|f196756e345bcc658...|    2025-08-12|  9999-12-31|      true|c50f9803efd4ec063...|\n",
      "|6e2f1a2d27bd37018...|Blue Cross Blue S...|   Chicago|                 IL|1e17a4d99685325a4...|    2025-08-12|  9999-12-31|      true|69d128a115b9edd3c...|\n",
      "+--------------------+--------------------+----------+-------------------+--------------------+--------------+------------+----------+--------------------+\n",
      "only showing top 5 rows\n",
      "\n",
      "Successfully loaded transformed data into gld_hospital_db.dim_payer\n"
     ]
    }
   ],
   "source": [
    "from pyspark.sql.functions import col, lit, current_date, md5, concat_ws, coalesce, cast, sha2, concat, expr\n",
    "from pyspark.sql.types import DateType\n",
    "from datetime import datetime\n",
    "\n",
    "print(\"\\n--- Transforming payers data into dim_payer (Gold Layer) ---\")\n",
    "\n",
    "# Get the current execution date for metadata\n",
    "execution_date_for_dim = datetime.now().strftime('%Y-%m-%d')\n",
    "\n",
    "# Ensure df_slv_payers is available from the Silver layer\n",
    "df_slv_payers = spark.table(\"slv_hospital_db.slv_payers\")\n",
    "\n",
    "# Create a temporary view for robust MD5 hash calculation\n",
    "df_slv_payers.createOrReplaceTempView(\"temp_slv_payers_for_hash\")\n",
    "\n",
    "# List all columns that should be part of the hash for change detection\n",
    "# **FIX HERE: Removed 'zip_code' and 'phone' as they are not in slv_payers schema**\n",
    "columns_to_hash = [\n",
    "    \"payer_id\", \"payer_name\", \"city\", \"state_headquartered\" # Only include columns present in slv_payers\n",
    "]\n",
    "\n",
    "# Build the SQL string for CONCAT_WS and MD5 hash (using expr for robustness)\n",
    "hash_sql_parts = []\n",
    "for c in columns_to_hash:\n",
    "    hash_sql_parts.append(f\"COALESCE(CAST({c} AS STRING), '')\")\n",
    "\n",
    "md5_hash_sql_expression = f\"MD5(CONCAT_WS('|', {', '.join(hash_sql_parts)}))\"\n",
    "\n",
    "# Execute a Spark SQL query to calculate the hash and select all original columns\n",
    "df_slv_payers_with_hash = spark.sql(f\"\"\"\n",
    "    SELECT\n",
    "        *,\n",
    "        {md5_hash_sql_expression} AS content_hash\n",
    "    FROM temp_slv_payers_for_hash\n",
    "\"\"\")\n",
    "\n",
    "# Drop the temporary view\n",
    "spark.catalog.dropTempView(\"temp_slv_payers_for_hash\")\n",
    "\n",
    "# Select and rename columns for dim_payer, adding metadata\n",
    "df_gld_dim_payer = df_slv_payers_with_hash.select(\n",
    "    col(\"payer_id\"),\n",
    "    col(\"payer_name\"),\n",
    "    col(\"city\"),\n",
    "    col(\"state_headquartered\"),\n",
    "    # **FIX HERE: Removed 'zip_code' and 'phone' from select as they are not in slv_payers**\n",
    "    # col(\"zip_code\"), # Removed\n",
    "    # col(\"phone\"), # Removed\n",
    "    col(\"content_hash\"), # The hash calculated above\n",
    "    lit(execution_date_for_dim).cast(DateType()).alias(\"dbt_valid_from\"), # Simulating dbt valid from\n",
    "    lit(\"9999-12-31\").cast(DateType()).alias(\"dbt_valid_to\"),           # Simulating dbt valid to\n",
    "    lit(True).alias(\"is_current\")                                      # Simulating dbt is current\n",
    ")\n",
    "\n",
    "# Create the surrogate key for dim_payer\n",
    "surrogate_key_sql_expression = f\"SHA2(CONCAT(CAST(payer_id AS STRING), CAST(dbt_valid_from AS STRING)), 256)\"\n",
    "df_gld_dim_payer = df_gld_dim_payer.withColumn(\n",
    "    \"dim_payer_key\", expr(surrogate_key_sql_expression)\n",
    ")\n",
    "\n",
    "print(\"Schema for dim_payer (Gold):\")\n",
    "df_gld_dim_payer.printSchema()\n",
    "print(\"Sample Data for dim_payer (Gold):\")\n",
    "df_gld_dim_payer.show(5)\n",
    "\n",
    "# Ensure you're writing to the Gold database\n",
    "spark.sql(\"USE gld_hospital_db\")\n",
    "df_gld_dim_payer.write.mode(\"overwrite\").saveAsTable(\"gld_dim_payer\")\n",
    "print(\"Successfully loaded transformed data into gld_hospital_db.dim_payer\")"
   ]
  },
  {
   "cell_type": "code",
   "execution_count": 47,
   "id": "85792c64-ce74-4807-ad85-d953a0b69535",
   "metadata": {},
   "outputs": [
    {
     "data": {
      "text/html": [
       "<table>\n",
       "    <thead>\n",
       "        <tr>\n",
       "            <th>namespace</th>\n",
       "            <th>tableName</th>\n",
       "            <th>isTemporary</th>\n",
       "        </tr>\n",
       "    </thead>\n",
       "    <tbody>\n",
       "        <tr>\n",
       "            <td>gld_hospital_db</td>\n",
       "            <td>gld_dim_patient</td>\n",
       "            <td>False</td>\n",
       "        </tr>\n",
       "        <tr>\n",
       "            <td>gld_hospital_db</td>\n",
       "            <td>gld_dim_payer</td>\n",
       "            <td>False</td>\n",
       "        </tr>\n",
       "    </tbody>\n",
       "</table>"
      ],
      "text/plain": [
       "+-----------------+-----------------+-------------+\n",
       "|       namespace |       tableName | isTemporary |\n",
       "+-----------------+-----------------+-------------+\n",
       "| gld_hospital_db | gld_dim_patient |       False |\n",
       "| gld_hospital_db |   gld_dim_payer |       False |\n",
       "+-----------------+-----------------+-------------+"
      ]
     },
     "execution_count": 47,
     "metadata": {},
     "output_type": "execute_result"
    }
   ],
   "source": [
    "%%sql\n",
    "\n",
    "show tables;"
   ]
  },
  {
   "cell_type": "code",
   "execution_count": 51,
   "id": "7d32d5af-677d-4c10-887a-314adc0092a6",
   "metadata": {
    "scrolled": true
   },
   "outputs": [
    {
     "name": "stdout",
     "output_type": "stream",
     "text": [
      "\n",
      "--- Transforming encounters data into fact_encounter (Gold Layer) ---\n",
      "Schema for fact_encounter (Gold):\n",
      "root\n",
      " |-- encounter_id: string (nullable = true)\n",
      " |-- encounter_start_time: timestamp (nullable = true)\n",
      " |-- encounter_stop_time: timestamp (nullable = true)\n",
      " |-- dim_patient_key: string (nullable = true)\n",
      " |-- dim_payer_key: string (nullable = true)\n",
      " |-- encounter_class: string (nullable = true)\n",
      " |-- encounter_code: long (nullable = true)\n",
      " |-- encounter_description: string (nullable = true)\n",
      " |-- base_cost_amount: decimal(10,2) (nullable = true)\n",
      " |-- total_claim_amount: decimal(10,2) (nullable = true)\n",
      " |-- payer_coverage_amount: decimal(10,2) (nullable = true)\n",
      " |-- reason_code: long (nullable = true)\n",
      " |-- reason_description: string (nullable = true)\n",
      " |-- loaded_date: date (nullable = false)\n",
      "\n",
      "Sample Data for fact_encounter (Gold):\n",
      "+--------------------+--------------------+-------------------+--------------------+--------------------+---------------+--------------+---------------------+----------------+------------------+---------------------+-----------+------------------+-----------+\n",
      "|        encounter_id|encounter_start_time|encounter_stop_time|     dim_patient_key|       dim_payer_key|encounter_class|encounter_code|encounter_description|base_cost_amount|total_claim_amount|payer_coverage_amount|reason_code|reason_description|loaded_date|\n",
      "+--------------------+--------------------+-------------------+--------------------+--------------------+---------------+--------------+---------------------+----------------+------------------+---------------------+-----------+------------------+-----------+\n",
      "|32c84703248149cdd...| 2011-01-02 09:26:36|2011-01-02 12:58:36|08ad131207a6ffad0...|1fb2290f9fc833427...|     AMBULATORY|     185347001| Encounter for pro...|           85.55|           1018.02|                 0.00|       NULL|              NULL| 2025-08-12|\n",
      "|c98059da320ac0a6f...| 2011-01-03 05:44:39|2011-01-03 06:01:42|c0f2bf71852131ddc...|1fb2290f9fc833427...|     OUTPATIENT|     308335008| Patient encounter...|          142.58|           2619.36|                 0.00|       NULL|              NULL| 2025-08-12|\n",
      "|4ad28a3a2479782bf...| 2011-01-03 14:32:11|2011-01-03 14:47:11|3eb17f86d84d1d740...|ede208ce5989d0d8a...|     OUTPATIENT|     185349003| Encounter for che...|           85.55|            461.59|               305.27|       NULL|              NULL| 2025-08-12|\n",
      "|c3f4da61e4b421d55...| 2011-01-03 16:24:45|2011-01-03 16:39:45|f8f7abe943c8b6bb1...|1fb2290f9fc833427...|       WELLNESS|     162673000| General examinati...|          136.80|           1784.24|                 0.00|       NULL|              NULL| 2025-08-12|\n",
      "|a9183b4f257272ea5...| 2011-01-03 17:36:53|2011-01-03 17:51:53|947dc6f6ef892bf1f...|1832a2c46b73e00cf...|     AMBULATORY|     390906007|   Followup encounter|           85.55|            234.72|                 0.00|   55822004|    Hyperlipidemia| 2025-08-12|\n",
      "+--------------------+--------------------+-------------------+--------------------+--------------------+---------------+--------------+---------------------+----------------+------------------+---------------------+-----------+------------------+-----------+\n",
      "only showing top 5 rows\n",
      "\n",
      "Successfully loaded transformed data into gld_hospital_db.fact_encounter\n"
     ]
    }
   ],
   "source": [
    "from pyspark.sql.functions import col, current_date, lit\n",
    "\n",
    "print(\"\\n--- Transforming encounters data into fact_encounter (Gold Layer) ---\")\n",
    "\n",
    "# Ambil data dari Silver dan Dimensi Gold\n",
    "# Pastikan dim_patient dan dim_payer sudah berhasil dibuat di langkah sebelumnya\n",
    "df_slv_encounters = spark.table(\"slv_hospital_db.slv_encounters\")\n",
    "df_gld_dim_patient = spark.table(\"gld_hospital_db.gld_dim_patient\")\n",
    "df_gld_dim_payer = spark.table(\"gld_hospital_db.gld_dim_payer\")\n",
    "\n",
    "# Gabungkan slv_encounters dengan dimensi\n",
    "df_gld_fact_encounter = df_slv_encounters.alias(\"se\").join(\n",
    "    df_gld_dim_patient.alias(\"dp\"),\n",
    "    col(\"se.patient_id\") == col(\"dp.patient_id\"), # Join berdasarkan natural key pasien\n",
    "    \"left\"\n",
    ").join(\n",
    "    df_gld_dim_payer.alias(\"dpa\"),\n",
    "    col(\"se.payer_id\") == col(\"dpa.payer_id\"), # Join berdasarkan natural key payer\n",
    "    \"left\"\n",
    ").select(\n",
    "    # Kunci Fakta\n",
    "    col(\"se.encounter_id\"),\n",
    "    col(\"se.start_time\").alias(\"encounter_start_time\"),\n",
    "    col(\"se.stop_time\").alias(\"encounter_stop_time\"),\n",
    "\n",
    "    # Kunci Surrogate dari Dimensi (untuk Analytical Query)\n",
    "    col(\"dp.dim_patient_key\"),\n",
    "    col(\"dpa.dim_payer_key\"),\n",
    "\n",
    "    # Atribut Fakta / Metrik\n",
    "    col(\"se.encounter_class\"),\n",
    "    col(\"se.encounter_code\"),\n",
    "    col(\"se.encounter_description\"),\n",
    "    col(\"se.base_cost_amount\"),\n",
    "    # --- FIX HERE: Use the correct column names from slv_encounters ---\n",
    "    col(\"se.total_claim_amount\"),      # Renamed from total_claim_cost in Silver\n",
    "    col(\"se.payer_coverage_amount\"),  # Renamed from payer_coverage in Silver\n",
    "    col(\"se.reason_code\"),            # Renamed from reasoncode in Silver\n",
    "    col(\"se.reason_description\"),     # Renamed from reasonsdescription in Silver\n",
    "    # --- END FIX ---\n",
    "\n",
    "    # Metadata (Tanggal dimuat)\n",
    "    current_date().alias(\"loaded_date\")\n",
    ")\n",
    "\n",
    "print(\"Schema for fact_encounter (Gold):\")\n",
    "df_gld_fact_encounter.printSchema()\n",
    "print(\"Sample Data for fact_encounter (Gold):\")\n",
    "df_gld_fact_encounter.show(5)\n",
    "\n",
    "# Pastikan Anda menulis ke database Gold\n",
    "spark.sql(\"USE gld_hospital_db\")\n",
    "df_gld_fact_encounter.write.mode(\"overwrite\").saveAsTable(\"gld_fact_encounter\")\n",
    "print(\"Successfully loaded transformed data into gld_hospital_db.fact_encounter\")"
   ]
  },
  {
   "cell_type": "code",
   "execution_count": 70,
   "id": "c9424a3d-a58d-409a-b81d-cfcb97ad14f4",
   "metadata": {},
   "outputs": [
    {
     "data": {
      "text/html": [
       "<table>\n",
       "    <thead>\n",
       "        <tr>\n",
       "            <th>encounter_id</th>\n",
       "            <th>encounter_start_time</th>\n",
       "            <th>encounter_stop_time</th>\n",
       "            <th>dim_patient_key</th>\n",
       "            <th>dim_payer_key</th>\n",
       "            <th>encounter_class</th>\n",
       "            <th>encounter_code</th>\n",
       "            <th>encounter_description</th>\n",
       "            <th>base_cost_amount</th>\n",
       "            <th>total_claim_amount</th>\n",
       "            <th>payer_coverage_amount</th>\n",
       "            <th>reason_code</th>\n",
       "            <th>reason_description</th>\n",
       "            <th>loaded_date</th>\n",
       "        </tr>\n",
       "    </thead>\n",
       "    <tbody>\n",
       "        <tr>\n",
       "            <td>32c84703248149cdd5713899d5820253</td>\n",
       "            <td>2011-01-02 09:26:36</td>\n",
       "            <td>2011-01-02 12:58:36</td>\n",
       "            <td>08ad131207a6ffad06e5aff3c293cacebdd2e26638facd6ea767df82b897545a</td>\n",
       "            <td>1fb2290f9fc8334270ec08da692b1aed7fe05cadb36a5b2951c153157d1c3fb4</td>\n",
       "            <td>AMBULATORY</td>\n",
       "            <td>185347001</td>\n",
       "            <td>Encounter for problem procedure</td>\n",
       "            <td>85.55</td>\n",
       "            <td>1018.02</td>\n",
       "            <td>0.00</td>\n",
       "            <td>None</td>\n",
       "            <td>None</td>\n",
       "            <td>2025-08-12</td>\n",
       "        </tr>\n",
       "        <tr>\n",
       "            <td>c98059da320ac0a6fcedc8815f3e3f39</td>\n",
       "            <td>2011-01-03 05:44:39</td>\n",
       "            <td>2011-01-03 06:01:42</td>\n",
       "            <td>c0f2bf71852131ddc2534336598007a73201b77aa5d6986e31b8f9c0e18e4893</td>\n",
       "            <td>1fb2290f9fc8334270ec08da692b1aed7fe05cadb36a5b2951c153157d1c3fb4</td>\n",
       "            <td>OUTPATIENT</td>\n",
       "            <td>308335008</td>\n",
       "            <td>Patient encounter procedure</td>\n",
       "            <td>142.58</td>\n",
       "            <td>2619.36</td>\n",
       "            <td>0.00</td>\n",
       "            <td>None</td>\n",
       "            <td>None</td>\n",
       "            <td>2025-08-12</td>\n",
       "        </tr>\n",
       "        <tr>\n",
       "            <td>4ad28a3a2479782bf29cd5b3f41a001e</td>\n",
       "            <td>2011-01-03 14:32:11</td>\n",
       "            <td>2011-01-03 14:47:11</td>\n",
       "            <td>3eb17f86d84d1d740ee242c0381201d5038d23abfa26f6d1307c016ba2ba81b6</td>\n",
       "            <td>ede208ce5989d0d8a3ce88be6a6a86b0d797ceba9a5d33a1212bf17412682e61</td>\n",
       "            <td>OUTPATIENT</td>\n",
       "            <td>185349003</td>\n",
       "            <td>Encounter for check up procedure</td>\n",
       "            <td>85.55</td>\n",
       "            <td>461.59</td>\n",
       "            <td>305.27</td>\n",
       "            <td>None</td>\n",
       "            <td>None</td>\n",
       "            <td>2025-08-12</td>\n",
       "        </tr>\n",
       "        <tr>\n",
       "            <td>c3f4da61e4b421d5587afbc89943bc19</td>\n",
       "            <td>2011-01-03 16:24:45</td>\n",
       "            <td>2011-01-03 16:39:45</td>\n",
       "            <td>f8f7abe943c8b6bb10a2df58172d557fd45025260a840a9316e4359527d4d2bc</td>\n",
       "            <td>1fb2290f9fc8334270ec08da692b1aed7fe05cadb36a5b2951c153157d1c3fb4</td>\n",
       "            <td>WELLNESS</td>\n",
       "            <td>162673000</td>\n",
       "            <td>General examination of patient procedure</td>\n",
       "            <td>136.80</td>\n",
       "            <td>1784.24</td>\n",
       "            <td>0.00</td>\n",
       "            <td>None</td>\n",
       "            <td>None</td>\n",
       "            <td>2025-08-12</td>\n",
       "        </tr>\n",
       "        <tr>\n",
       "            <td>a9183b4f257272ea54c2b3cd038b4be7</td>\n",
       "            <td>2011-01-03 17:36:53</td>\n",
       "            <td>2011-01-03 17:51:53</td>\n",
       "            <td>947dc6f6ef892bf1f0e32408bce209b538a34a8f16da22496fd68dfe35f48571</td>\n",
       "            <td>1832a2c46b73e00cfd1bf6120d06887f54c69f20d3630a9624ad79727af85274</td>\n",
       "            <td>AMBULATORY</td>\n",
       "            <td>390906007</td>\n",
       "            <td>Followup encounter</td>\n",
       "            <td>85.55</td>\n",
       "            <td>234.72</td>\n",
       "            <td>0.00</td>\n",
       "            <td>55822004</td>\n",
       "            <td>Hyperlipidemia</td>\n",
       "            <td>2025-08-12</td>\n",
       "        </tr>\n",
       "    </tbody>\n",
       "</table>"
      ],
      "text/plain": [
       "+----------------------------------+----------------------+---------------------+------------------------------------------------------------------+------------------------------------------------------------------+-----------------+----------------+------------------------------------------+------------------+--------------------+-----------------------+-------------+--------------------+-------------+\n",
       "|                     encounter_id | encounter_start_time | encounter_stop_time |                                                  dim_patient_key |                                                    dim_payer_key | encounter_class | encounter_code |                    encounter_description | base_cost_amount | total_claim_amount | payer_coverage_amount | reason_code | reason_description | loaded_date |\n",
       "+----------------------------------+----------------------+---------------------+------------------------------------------------------------------+------------------------------------------------------------------+-----------------+----------------+------------------------------------------+------------------+--------------------+-----------------------+-------------+--------------------+-------------+\n",
       "| 32c84703248149cdd5713899d5820253 |  2011-01-02 09:26:36 | 2011-01-02 12:58:36 | 08ad131207a6ffad06e5aff3c293cacebdd2e26638facd6ea767df82b897545a | 1fb2290f9fc8334270ec08da692b1aed7fe05cadb36a5b2951c153157d1c3fb4 |      AMBULATORY |      185347001 |          Encounter for problem procedure |            85.55 |            1018.02 |                  0.00 |        None |               None |  2025-08-12 |\n",
       "| c98059da320ac0a6fcedc8815f3e3f39 |  2011-01-03 05:44:39 | 2011-01-03 06:01:42 | c0f2bf71852131ddc2534336598007a73201b77aa5d6986e31b8f9c0e18e4893 | 1fb2290f9fc8334270ec08da692b1aed7fe05cadb36a5b2951c153157d1c3fb4 |      OUTPATIENT |      308335008 |              Patient encounter procedure |           142.58 |            2619.36 |                  0.00 |        None |               None |  2025-08-12 |\n",
       "| 4ad28a3a2479782bf29cd5b3f41a001e |  2011-01-03 14:32:11 | 2011-01-03 14:47:11 | 3eb17f86d84d1d740ee242c0381201d5038d23abfa26f6d1307c016ba2ba81b6 | ede208ce5989d0d8a3ce88be6a6a86b0d797ceba9a5d33a1212bf17412682e61 |      OUTPATIENT |      185349003 |         Encounter for check up procedure |            85.55 |             461.59 |                305.27 |        None |               None |  2025-08-12 |\n",
       "| c3f4da61e4b421d5587afbc89943bc19 |  2011-01-03 16:24:45 | 2011-01-03 16:39:45 | f8f7abe943c8b6bb10a2df58172d557fd45025260a840a9316e4359527d4d2bc | 1fb2290f9fc8334270ec08da692b1aed7fe05cadb36a5b2951c153157d1c3fb4 |        WELLNESS |      162673000 | General examination of patient procedure |           136.80 |            1784.24 |                  0.00 |        None |               None |  2025-08-12 |\n",
       "| a9183b4f257272ea54c2b3cd038b4be7 |  2011-01-03 17:36:53 | 2011-01-03 17:51:53 | 947dc6f6ef892bf1f0e32408bce209b538a34a8f16da22496fd68dfe35f48571 | 1832a2c46b73e00cfd1bf6120d06887f54c69f20d3630a9624ad79727af85274 |      AMBULATORY |      390906007 |                       Followup encounter |            85.55 |             234.72 |                  0.00 |    55822004 |     Hyperlipidemia |  2025-08-12 |\n",
       "+----------------------------------+----------------------+---------------------+------------------------------------------------------------------+------------------------------------------------------------------+-----------------+----------------+------------------------------------------+------------------+--------------------+-----------------------+-------------+--------------------+-------------+"
      ]
     },
     "execution_count": 70,
     "metadata": {},
     "output_type": "execute_result"
    }
   ],
   "source": [
    "%%sql\n",
    "\n",
    "select * from gld_fact_encounter limit 5"
   ]
  },
  {
   "cell_type": "code",
   "execution_count": 56,
   "id": "d4f86628-8c44-41f4-9ae6-528d3868524a",
   "metadata": {},
   "outputs": [
    {
     "data": {
      "text/html": [
       "<table>\n",
       "    <thead>\n",
       "        <tr>\n",
       "            <th>namespace</th>\n",
       "            <th>tableName</th>\n",
       "            <th>isTemporary</th>\n",
       "        </tr>\n",
       "    </thead>\n",
       "    <tbody>\n",
       "        <tr>\n",
       "            <td>gld_hospital_db</td>\n",
       "            <td>gld_dim_patient</td>\n",
       "            <td>False</td>\n",
       "        </tr>\n",
       "        <tr>\n",
       "            <td>gld_hospital_db</td>\n",
       "            <td>gld_dim_payer</td>\n",
       "            <td>False</td>\n",
       "        </tr>\n",
       "        <tr>\n",
       "            <td>gld_hospital_db</td>\n",
       "            <td>gld_fact_encounter</td>\n",
       "            <td>False</td>\n",
       "        </tr>\n",
       "    </tbody>\n",
       "</table>"
      ],
      "text/plain": [
       "+-----------------+--------------------+-------------+\n",
       "|       namespace |          tableName | isTemporary |\n",
       "+-----------------+--------------------+-------------+\n",
       "| gld_hospital_db |    gld_dim_patient |       False |\n",
       "| gld_hospital_db |      gld_dim_payer |       False |\n",
       "| gld_hospital_db | gld_fact_encounter |       False |\n",
       "+-----------------+--------------------+-------------+"
      ]
     },
     "execution_count": 56,
     "metadata": {},
     "output_type": "execute_result"
    }
   ],
   "source": [
    "%%sql\n",
    "\n",
    "show tables;"
   ]
  },
  {
   "cell_type": "code",
   "execution_count": 59,
   "id": "e2145e9a-473e-4a6c-9fc6-fff42e3cb0c0",
   "metadata": {},
   "outputs": [
    {
     "name": "stdout",
     "output_type": "stream",
     "text": [
      "\n",
      "--- Transforming procedures data into fact_procedure (Gold Layer) ---\n",
      "Schema for fact_procedure (Gold):\n",
      "root\n",
      " |-- procedure_start_time: timestamp (nullable = true)\n",
      " |-- procedure_stop_time: timestamp (nullable = true)\n",
      " |-- dim_patient_key: string (nullable = true)\n",
      " |-- encounter_id: string (nullable = true)\n",
      " |-- procedure_code: long (nullable = true)\n",
      " |-- procedure_description: string (nullable = true)\n",
      " |-- base_procedure_cost: decimal(10,2) (nullable = true)\n",
      " |-- reason_code: long (nullable = true)\n",
      " |-- reason_description: string (nullable = true)\n",
      " |-- loaded_date: date (nullable = false)\n",
      "\n",
      "Sample Data for fact_procedure (Gold):\n",
      "+--------------------+-------------------+--------------------+--------------------+--------------+---------------------+-------------------+-----------+--------------------+-----------+\n",
      "|procedure_start_time|procedure_stop_time|     dim_patient_key|        encounter_id|procedure_code|procedure_description|base_procedure_cost|reason_code|  reason_description|loaded_date|\n",
      "+--------------------+-------------------+--------------------+--------------------+--------------+---------------------+-------------------+-----------+--------------------+-----------+\n",
      "| 2011-01-02 09:26:36|2011-01-02 12:58:36|08ad131207a6ffad0...|32c84703248149cdd...|     265764009| Renal dialysis pr...|             903.00|       NULL|                NULL| 2025-08-12|\n",
      "| 2011-01-03 05:44:39|2011-01-03 06:01:42|c0f2bf71852131ddc...|c98059da320ac0a6f...|      76601001| Intramuscular inj...|            2477.00|       NULL|                NULL| 2025-08-12|\n",
      "| 2011-01-04 14:49:55|2011-01-04 15:04:55|bfa9ed57b27bdeba0...|2cfd4dddad13fe1e5...|     703423002| Combined chemothe...|           11620.00|  363406005|Malignant tumor o...| 2025-08-12|\n",
      "| 2011-01-05 04:02:09|2011-01-05 04:17:09|7e91045a03394b474...|179669360878f4db1...|     173160006| Diagnostic fibero...|            9796.00|  162573006|Suspected lung ca...| 2025-08-12|\n",
      "| 2011-01-05 12:58:36|2011-01-05 16:42:36|08ad131207a6ffad0...|9de5f0b04ba4ce6f4...|     265764009| Renal dialysis pr...|            1255.00|       NULL|                NULL| 2025-08-12|\n",
      "+--------------------+-------------------+--------------------+--------------------+--------------+---------------------+-------------------+-----------+--------------------+-----------+\n",
      "only showing top 5 rows\n",
      "\n",
      "Successfully loaded transformed data into gld_hospital_db.fact_procedure\n"
     ]
    }
   ],
   "source": [
    "from pyspark.sql.functions import col, current_date, lit\n",
    "# No expr() needed here unless you encounter another AnalysisException with cast/concat.\n",
    "\n",
    "print(\"\\n--- Transforming procedures data into fact_procedure (Gold Layer) ---\")\n",
    "\n",
    "# Ambil data dari Silver dan Dimensi/Fakta Gold\n",
    "# Pastikan dim_patient dan fact_encounter sudah berhasil dibuat di langkah sebelumnya\n",
    "df_slv_procedures = spark.table(\"slv_hospital_db.slv_procedures\")\n",
    "df_gld_dim_patient = spark.table(\"gld_hospital_db.gld_dim_patient\")      # Dimensi Pasien\n",
    "df_gld_fact_encounter = spark.table(\"gld_hospital_db.gld_fact_encounter\") # Fakta Encounter (untuk linking)\n",
    "\n",
    "# Gabungkan slv_procedures dengan dimensi dan fakta encounter\n",
    "df_gld_fact_procedure = df_slv_procedures.alias(\"sp\").join(\n",
    "    df_gld_dim_patient.alias(\"dp\"),\n",
    "    col(\"sp.patient_id\") == col(\"dp.patient_id\"), # Join berdasarkan natural key pasien\n",
    "    \"left\"\n",
    ").join(\n",
    "    df_gld_fact_encounter.alias(\"fe\"),\n",
    "    col(\"sp.encounter_id\") == col(\"fe.encounter_id\"), # Join berdasarkan natural key encounter\n",
    "    \"left\"\n",
    ").select(\n",
    "    # Kunci Fakta\n",
    "    col(\"sp.procedure_start_time\"),\n",
    "    col(\"sp.procedure_stop_time\"),\n",
    "\n",
    "    # Kunci Surrogate dari Dimensi/Fakta Lain\n",
    "    col(\"dp.dim_patient_key\"),      # Surrogate key dari dimensi pasien\n",
    "    col(\"fe.encounter_id\"),         # Natural key dari fakta encounter (atau bisa juga dim_encounter_key jika dibuat)\n",
    "\n",
    "    # Atribut Fakta / Metrik Prosedur\n",
    "    col(\"sp.procedure_code\"),\n",
    "    col(\"sp.procedure_description\"),\n",
    "    col(\"sp.base_procedure_cost\"),\n",
    "    col(\"sp.reason_code\"),\n",
    "    col(\"sp.reason_description\"),\n",
    "\n",
    "    # Metadata (Tanggal dimuat)\n",
    "    current_date().alias(\"loaded_date\")\n",
    ")\n",
    "\n",
    "print(\"Schema for fact_procedure (Gold):\")\n",
    "df_gld_fact_procedure.printSchema()\n",
    "print(\"Sample Data for fact_procedure (Gold):\")\n",
    "df_gld_fact_procedure.show(5)\n",
    "\n",
    "# Pastikan Anda menulis ke database Gold\n",
    "spark.sql(\"USE gld_hospital_db\")\n",
    "df_gld_fact_procedure.write.mode(\"overwrite\").saveAsTable(\"gld_fact_procedure\")\n",
    "print(\"Successfully loaded transformed data into gld_hospital_db.fact_procedure\")"
   ]
  },
  {
   "cell_type": "code",
   "execution_count": 61,
   "id": "96ae8c63-96bf-4590-a528-83b073b01353",
   "metadata": {},
   "outputs": [
    {
     "data": {
      "text/html": [
       "<table>\n",
       "    <thead>\n",
       "        <tr>\n",
       "            <th>procedure_start_time</th>\n",
       "            <th>procedure_stop_time</th>\n",
       "            <th>dim_patient_key</th>\n",
       "            <th>encounter_id</th>\n",
       "            <th>procedure_code</th>\n",
       "            <th>procedure_description</th>\n",
       "            <th>base_procedure_cost</th>\n",
       "            <th>reason_code</th>\n",
       "            <th>reason_description</th>\n",
       "            <th>loaded_date</th>\n",
       "        </tr>\n",
       "    </thead>\n",
       "    <tbody>\n",
       "        <tr>\n",
       "            <td>2011-01-02 09:26:36</td>\n",
       "            <td>2011-01-02 12:58:36</td>\n",
       "            <td>08ad131207a6ffad06e5aff3c293cacebdd2e26638facd6ea767df82b897545a</td>\n",
       "            <td>32c84703248149cdd5713899d5820253</td>\n",
       "            <td>265764009</td>\n",
       "            <td>Renal dialysis procedure</td>\n",
       "            <td>903.00</td>\n",
       "            <td>None</td>\n",
       "            <td>None</td>\n",
       "            <td>2025-08-12</td>\n",
       "        </tr>\n",
       "        <tr>\n",
       "            <td>2011-01-03 05:44:39</td>\n",
       "            <td>2011-01-03 06:01:42</td>\n",
       "            <td>c0f2bf71852131ddc2534336598007a73201b77aa5d6986e31b8f9c0e18e4893</td>\n",
       "            <td>c98059da320ac0a6fcedc8815f3e3f39</td>\n",
       "            <td>76601001</td>\n",
       "            <td>Intramuscular injection</td>\n",
       "            <td>2477.00</td>\n",
       "            <td>None</td>\n",
       "            <td>None</td>\n",
       "            <td>2025-08-12</td>\n",
       "        </tr>\n",
       "        <tr>\n",
       "            <td>2011-01-04 14:49:55</td>\n",
       "            <td>2011-01-04 15:04:55</td>\n",
       "            <td>bfa9ed57b27bdeba018e62d88ca5155e1d6b65e133d0a93b4b9f7914acc0284a</td>\n",
       "            <td>2cfd4dddad13fe1e528b15051cea2ec3</td>\n",
       "            <td>703423002</td>\n",
       "            <td>Combined chemotherapy and radiation therapy procedure</td>\n",
       "            <td>11620.00</td>\n",
       "            <td>363406005</td>\n",
       "            <td>Malignant tumor of colon</td>\n",
       "            <td>2025-08-12</td>\n",
       "        </tr>\n",
       "        <tr>\n",
       "            <td>2011-01-05 04:02:09</td>\n",
       "            <td>2011-01-05 04:17:09</td>\n",
       "            <td>7e91045a03394b47479210f635ad7e9b56f9e0f5467e96f8872547160c5318e0</td>\n",
       "            <td>179669360878f4db128ba43ae10d0878</td>\n",
       "            <td>173160006</td>\n",
       "            <td>Diagnostic fiberoptic bronchoscopy procedure</td>\n",
       "            <td>9796.00</td>\n",
       "            <td>162573006</td>\n",
       "            <td>Suspected lung cancer situation</td>\n",
       "            <td>2025-08-12</td>\n",
       "        </tr>\n",
       "        <tr>\n",
       "            <td>2011-01-05 12:58:36</td>\n",
       "            <td>2011-01-05 16:42:36</td>\n",
       "            <td>08ad131207a6ffad06e5aff3c293cacebdd2e26638facd6ea767df82b897545a</td>\n",
       "            <td>9de5f0b04ba4ce6f45fbb55c202f31a5</td>\n",
       "            <td>265764009</td>\n",
       "            <td>Renal dialysis procedure</td>\n",
       "            <td>1255.00</td>\n",
       "            <td>None</td>\n",
       "            <td>None</td>\n",
       "            <td>2025-08-12</td>\n",
       "        </tr>\n",
       "    </tbody>\n",
       "</table>"
      ],
      "text/plain": [
       "+----------------------+---------------------+------------------------------------------------------------------+----------------------------------+----------------+-------------------------------------------------------+---------------------+-------------+---------------------------------+-------------+\n",
       "| procedure_start_time | procedure_stop_time |                                                  dim_patient_key |                     encounter_id | procedure_code |                                 procedure_description | base_procedure_cost | reason_code |              reason_description | loaded_date |\n",
       "+----------------------+---------------------+------------------------------------------------------------------+----------------------------------+----------------+-------------------------------------------------------+---------------------+-------------+---------------------------------+-------------+\n",
       "|  2011-01-02 09:26:36 | 2011-01-02 12:58:36 | 08ad131207a6ffad06e5aff3c293cacebdd2e26638facd6ea767df82b897545a | 32c84703248149cdd5713899d5820253 |      265764009 |                              Renal dialysis procedure |              903.00 |        None |                            None |  2025-08-12 |\n",
       "|  2011-01-03 05:44:39 | 2011-01-03 06:01:42 | c0f2bf71852131ddc2534336598007a73201b77aa5d6986e31b8f9c0e18e4893 | c98059da320ac0a6fcedc8815f3e3f39 |       76601001 |                               Intramuscular injection |             2477.00 |        None |                            None |  2025-08-12 |\n",
       "|  2011-01-04 14:49:55 | 2011-01-04 15:04:55 | bfa9ed57b27bdeba018e62d88ca5155e1d6b65e133d0a93b4b9f7914acc0284a | 2cfd4dddad13fe1e528b15051cea2ec3 |      703423002 | Combined chemotherapy and radiation therapy procedure |            11620.00 |   363406005 |        Malignant tumor of colon |  2025-08-12 |\n",
       "|  2011-01-05 04:02:09 | 2011-01-05 04:17:09 | 7e91045a03394b47479210f635ad7e9b56f9e0f5467e96f8872547160c5318e0 | 179669360878f4db128ba43ae10d0878 |      173160006 |          Diagnostic fiberoptic bronchoscopy procedure |             9796.00 |   162573006 | Suspected lung cancer situation |  2025-08-12 |\n",
       "|  2011-01-05 12:58:36 | 2011-01-05 16:42:36 | 08ad131207a6ffad06e5aff3c293cacebdd2e26638facd6ea767df82b897545a | 9de5f0b04ba4ce6f45fbb55c202f31a5 |      265764009 |                              Renal dialysis procedure |             1255.00 |        None |                            None |  2025-08-12 |\n",
       "+----------------------+---------------------+------------------------------------------------------------------+----------------------------------+----------------+-------------------------------------------------------+---------------------+-------------+---------------------------------+-------------+"
      ]
     },
     "execution_count": 61,
     "metadata": {},
     "output_type": "execute_result"
    }
   ],
   "source": [
    "%%sql\n",
    "\n",
    "select * from gld_fact_procedure limit 5"
   ]
  },
  {
   "cell_type": "code",
   "execution_count": 64,
   "id": "73a01224-7673-4f28-957a-5483d32c4a05",
   "metadata": {},
   "outputs": [
    {
     "name": "stdout",
     "output_type": "stream",
     "text": [
      "\n",
      "--- Aggregating encounter data into daily_encounter (Gold Layer) ---\n",
      "Schema for daily_encounter (Gold):\n",
      "root\n",
      " |-- encounter_date: date (nullable = true)\n",
      " |-- total_encounters: long (nullable = false)\n",
      " |-- total_unique_patients: long (nullable = false)\n",
      " |-- total_claim_amount: decimal(20,2) (nullable = true)\n",
      " |-- total_payer_coverage: decimal(20,2) (nullable = true)\n",
      " |-- patient_out_of_pocket_cost: decimal(21,2) (nullable = true)\n",
      " |-- loaded_date: date (nullable = false)\n",
      "\n",
      "Sample Data for daily_encounter (Gold):\n",
      "+--------------+----------------+---------------------+------------------+--------------------+--------------------------+-----------+\n",
      "|encounter_date|total_encounters|total_unique_patients|total_claim_amount|total_payer_coverage|patient_out_of_pocket_cost|loaded_date|\n",
      "+--------------+----------------+---------------------+------------------+--------------------+--------------------------+-----------+\n",
      "|    2011-01-02|               1|                    1|           1018.02|                0.00|                   1018.02| 2025-08-12|\n",
      "|    2011-01-03|               6|                    6|          12307.93|             1251.85|                  11056.08| 2025-08-12|\n",
      "|    2011-01-04|               2|                    2|          12127.99|            11205.43|                    922.56| 2025-08-12|\n",
      "|    2011-01-05|               3|                    3|          12828.42|             9370.58|                   3457.84| 2025-08-12|\n",
      "|    2011-01-07|               4|                    3|          25074.01|            19531.10|                   5542.91| 2025-08-12|\n",
      "+--------------+----------------+---------------------+------------------+--------------------+--------------------------+-----------+\n",
      "only showing top 5 rows\n",
      "\n",
      "Successfully loaded aggregated data into gld_hospital_db.daily_encounter\n"
     ]
    }
   ],
   "source": [
    "from pyspark.sql.functions import col, current_date, lit, countDistinct, sum, to_date\n",
    "\n",
    "print(\"\\n--- Aggregating encounter data into daily_encounter (Gold Layer) ---\")\n",
    "\n",
    "# Ambil data dari fact_encounter yang sudah dibuat sebelumnya\n",
    "df_gld_fact_encounter = spark.table(\"gld_hospital_db.gld_fact_encounter\")\n",
    "\n",
    "# Lakukan agregasi harian\n",
    "df_gld_daily_encounter = df_gld_fact_encounter.groupBy(\n",
    "    to_date(col(\"encounter_start_time\")).alias(\"encounter_date\") # Agregasi berdasarkan tanggal mulai encounter\n",
    ").agg(\n",
    "    countDistinct(\"encounter_id\").alias(\"total_encounters\"),           # Jumlah encounter unik\n",
    "    countDistinct(\"dim_patient_key\").alias(\"total_unique_patients\"),   # Jumlah pasien unik\n",
    "    sum(\"total_claim_amount\").alias(\"total_claim_amount\"),             # Total jumlah klaim\n",
    "    sum(\"payer_coverage_amount\").alias(\"total_payer_coverage\"),        # Total cakupan pembayar\n",
    "    # Hitung biaya out-of-pocket pasien\n",
    "    (sum(\"total_claim_amount\") - sum(\"payer_coverage_amount\")).alias(\"patient_out_of_pocket_cost\"),\n",
    "    current_date().alias(\"loaded_date\") # Tanggal kapan agregasi ini dimuat\n",
    ")\n",
    "\n",
    "print(\"Schema for daily_encounter (Gold):\")\n",
    "df_gld_daily_encounter.printSchema()\n",
    "print(\"Sample Data for daily_encounter (Gold):\")\n",
    "df_gld_daily_encounter.sort(\"encounter_date\").show(5) # Urutkan berdasarkan tanggal untuk tampilan yang lebih baik\n",
    "\n",
    "# Pastikan Anda menulis ke database Gold\n",
    "spark.sql(\"USE gld_hospital_db\")\n",
    "df_gld_daily_encounter.write.mode(\"overwrite\").saveAsTable(\"gld_daily_encounter\")\n",
    "print(\"Successfully loaded aggregated data into gld_hospital_db.daily_encounter\")"
   ]
  },
  {
   "cell_type": "code",
   "execution_count": 68,
   "id": "0e243ce9-d148-4680-b425-43b54418cce3",
   "metadata": {},
   "outputs": [
    {
     "data": {
      "text/html": [
       "<table>\n",
       "    <thead>\n",
       "        <tr>\n",
       "            <th>namespace</th>\n",
       "            <th>tableName</th>\n",
       "            <th>isTemporary</th>\n",
       "        </tr>\n",
       "    </thead>\n",
       "    <tbody>\n",
       "        <tr>\n",
       "            <td>gld_hospital_db</td>\n",
       "            <td>gld_daily_encounter</td>\n",
       "            <td>False</td>\n",
       "        </tr>\n",
       "        <tr>\n",
       "            <td>gld_hospital_db</td>\n",
       "            <td>gld_dim_patient</td>\n",
       "            <td>False</td>\n",
       "        </tr>\n",
       "        <tr>\n",
       "            <td>gld_hospital_db</td>\n",
       "            <td>gld_dim_payer</td>\n",
       "            <td>False</td>\n",
       "        </tr>\n",
       "        <tr>\n",
       "            <td>gld_hospital_db</td>\n",
       "            <td>gld_fact_encounter</td>\n",
       "            <td>False</td>\n",
       "        </tr>\n",
       "        <tr>\n",
       "            <td>gld_hospital_db</td>\n",
       "            <td>gld_fact_procedure</td>\n",
       "            <td>False</td>\n",
       "        </tr>\n",
       "    </tbody>\n",
       "</table>"
      ],
      "text/plain": [
       "+-----------------+---------------------+-------------+\n",
       "|       namespace |           tableName | isTemporary |\n",
       "+-----------------+---------------------+-------------+\n",
       "| gld_hospital_db | gld_daily_encounter |       False |\n",
       "| gld_hospital_db |     gld_dim_patient |       False |\n",
       "| gld_hospital_db |       gld_dim_payer |       False |\n",
       "| gld_hospital_db |  gld_fact_encounter |       False |\n",
       "| gld_hospital_db |  gld_fact_procedure |       False |\n",
       "+-----------------+---------------------+-------------+"
      ]
     },
     "execution_count": 68,
     "metadata": {},
     "output_type": "execute_result"
    }
   ],
   "source": [
    "%%sql\n",
    "\n",
    "show tables"
   ]
  },
  {
   "cell_type": "code",
   "execution_count": 69,
   "id": "7fec43b9-3cec-4584-bdba-8114012834dd",
   "metadata": {},
   "outputs": [
    {
     "data": {
      "text/html": [
       "<table>\n",
       "    <thead>\n",
       "        <tr>\n",
       "            <th>namespace</th>\n",
       "        </tr>\n",
       "    </thead>\n",
       "    <tbody>\n",
       "        <tr>\n",
       "            <td>brz_hospital_db</td>\n",
       "        </tr>\n",
       "        <tr>\n",
       "            <td>coffeeshop</td>\n",
       "        </tr>\n",
       "        <tr>\n",
       "            <td>gld_hospital_db</td>\n",
       "        </tr>\n",
       "        <tr>\n",
       "            <td>slv_hospital_db</td>\n",
       "        </tr>\n",
       "        <tr>\n",
       "            <td>coffeeshop_medalion</td>\n",
       "        </tr>\n",
       "    </tbody>\n",
       "</table>"
      ],
      "text/plain": [
       "+---------------------+\n",
       "|           namespace |\n",
       "+---------------------+\n",
       "|     brz_hospital_db |\n",
       "|          coffeeshop |\n",
       "|     gld_hospital_db |\n",
       "|     slv_hospital_db |\n",
       "| coffeeshop_medalion |\n",
       "+---------------------+"
      ]
     },
     "execution_count": 69,
     "metadata": {},
     "output_type": "execute_result"
    }
   ],
   "source": [
    "%%sql\n",
    "\n",
    "show databases;"
   ]
  },
  {
   "cell_type": "code",
   "execution_count": null,
   "id": "cd8e0561-1436-470d-90eb-0e6e3df290d9",
   "metadata": {},
   "outputs": [],
   "source": []
  }
 ],
 "metadata": {
  "kernelspec": {
   "display_name": "Python 3 (ipykernel)",
   "language": "python",
   "name": "python3"
  },
  "language_info": {
   "codemirror_mode": {
    "name": "ipython",
    "version": 3
   },
   "file_extension": ".py",
   "mimetype": "text/x-python",
   "name": "python",
   "nbconvert_exporter": "python",
   "pygments_lexer": "ipython3",
   "version": "3.11.13"
  }
 },
 "nbformat": 4,
 "nbformat_minor": 5
}
